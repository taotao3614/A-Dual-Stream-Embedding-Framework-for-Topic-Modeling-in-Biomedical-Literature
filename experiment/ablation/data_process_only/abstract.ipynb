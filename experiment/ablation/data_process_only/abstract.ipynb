{
 "cells": [
  {
   "cell_type": "code",
   "execution_count": 1,
   "metadata": {},
   "outputs": [],
   "source": [
    "import numpy as np\n",
    "from bertopic import BERTopic\n",
    "from sentence_transformers import SentenceTransformer\n",
    "from umap import UMAP\n",
    "from gensim.models import CoherenceModel\n",
    "from gensim.corpora import Dictionary\n",
    "from sklearn.feature_extraction.text import CountVectorizer\n",
    "from bertopic.representation import MaximalMarginalRelevance\n",
    "from hdbscan import HDBSCAN\n",
    "from bertopic.vectorizers import ClassTfidfTransformer\n",
    "from octis.evaluation_metrics.diversity_metrics import TopicDiversity\n",
    "from octis.evaluation_metrics.coherence_metrics import Coherence\n",
    "import pandas as pd\n",
    "from pymilvus import connections, utility, Collection, FieldSchema, CollectionSchema, DataType\n",
    "from tqdm import tqdm\n",
    "from transformers import pipeline           # Hugging Face转换器\n",
    "import networkx as nx                       # 网络图形可视化\n",
    "import matplotlib.pyplot as plt\n",
    "import json\n"
   ]
  },
  {
   "cell_type": "markdown",
   "metadata": {},
   "source": [
    "实验说明：该实验使用和原本文献相同的超参数，和原文一样使用abstract进行embedding。投入bertopic的文本为abstract。目的是作为对照。"
   ]
  },
  {
   "cell_type": "markdown",
   "metadata": {},
   "source": [
    "# TC = 0.5428, TD = 0.7136"
   ]
  },
  {
   "cell_type": "code",
   "execution_count": 2,
   "metadata": {},
   "outputs": [
    {
     "name": "stdout",
     "output_type": "stream",
     "text": [
      "数据总量: 3000\n",
      "年份范围: 2002 - 2025\n"
     ]
    }
   ],
   "source": [
    "# 设置文件路径\n",
    "raw_csv_path =\"../raw.csv\"\n",
    "\n",
    "# 读取CSV文件\n",
    "def load_info():\n",
    "    # 读取csv文件\n",
    "    df = pd.read_csv(raw_csv_path)\n",
    "    \n",
    "    # 提取需要的列\n",
    "    info = []\n",
    "    for _, row in df.iterrows():\n",
    "        abstract = row['abstract']\n",
    "        try:\n",
    "            year = int(row['pub_year'])\n",
    "        except:\n",
    "            year = np.nan\n",
    "        # 这里只保留abstract和year，根据要求忽略doi, journal, citation\n",
    "        info.append([abstract, year, None, None, None])  # None占位符用于与原代码结构保持一致\n",
    "    \n",
    "    # 创建DataFrame，保持与原代码相同的列结构\n",
    "    info = pd.DataFrame(info, columns=['abstract', 'year', 'doi', 'journal', 'citation'])\n",
    "    return info\n",
    "\n",
    "# 加载数据\n",
    "data_full = load_info()\n",
    "\n",
    "# 移除缺失摘要的条目\n",
    "data_full = data_full.dropna(subset=['abstract'])\n",
    "\n",
    "# 提取摘要文本用于主题建模\n",
    "docs = data_full.abstract.values\n",
    "\n",
    "# 打印基本信息\n",
    "print(f\"数据总量: {len(data_full)}\")\n",
    "print(f\"年份范围: {data_full['year'].min()} - {data_full['year'].max()}\")"
   ]
  },
  {
   "cell_type": "code",
   "execution_count": null,
   "metadata": {},
   "outputs": [],
   "source": [
    "# from transformers import AutoTokenizer\n",
    "\n",
    "# # 初始化tokenizer (使用BERT基础模型，您也可以根据需要换成其他模型)\n",
    "# tokenizer = AutoTokenizer.from_pretrained(\"bert-base-uncased\")\n",
    "\n",
    "# # 计算docs中每条数据的token数量\n",
    "# token_counts = [len(tokenizer.encode(doc)) for doc in docs]\n",
    "\n",
    "# # 计算统计信息\n",
    "# total_tokens = sum(token_counts)\n",
    "# avg_tokens = total_tokens / len(docs)\n",
    "# max_tokens = max(token_counts)\n",
    "# min_tokens = min(token_counts)\n",
    "\n",
    "# # 打印结果\n",
    "# print(f\"总token数: {total_tokens}\")\n",
    "# print(f\"平均每条数据token数: {avg_tokens:.2f}\")\n",
    "# print(f\"最大token数: {max_tokens}\")\n",
    "# print(f\"最小token数: {min_tokens}\")\n",
    "# print(f\"超过512 token的数据比例: {sum(1 for x in token_counts if x > 512) / len(token_counts):.2%}\")\n",
    "# print(f\"超过1024 token的数据比例: {sum(1 for x in token_counts if x > 1024) / len(token_counts):.2%}\")\n",
    "\n",
    "# # 如果您想查看更详细的分布，取消下面的注释\n",
    "# plt.figure(figsize=(10, 6))\n",
    "# plt.hist(token_counts, bins=50)\n",
    "# plt.title('Token数量分布')\n",
    "# plt.xlabel('Token数量')\n",
    "# plt.ylabel('文档数量')\n",
    "# plt.show()"
   ]
  },
  {
   "cell_type": "code",
   "execution_count": 4,
   "metadata": {},
   "outputs": [],
   "source": [
    "# model instance\n",
    "embedding_model = SentenceTransformer(\n",
    "  'all-MiniLM-L6-v2',\n",
    "  # 'all-mpnet-base-v2',\n",
    "  # 'microsoft/BiomedNLP-BiomedBERT-base-uncased-abstract-fulltext',\n",
    "  # 'dmis-lab/biobert-v1.1',\n",
    "  # 'NeuML/pubmedbert-base-embeddings',\n",
    ")\n",
    "\n",
    "# embeddings = np.load('data/emb-covid-19-pubmedbert-base-embeddings.npy')\n",
    "# print(type(embeddings), embeddings.shape)\n",
    "\n",
    "# reduce dimensionality\n",
    "umap_model = UMAP(\n",
    "    n_neighbors = 15, n_components = 5, min_dist = 0.0, \n",
    "    metric = 'cosine', random_state = 34)\n",
    "# cluster reduced embeddings\n",
    "hdbscan_model = HDBSCAN(\n",
    "    min_cluster_size = 30, min_samples = 10,  \n",
    "    metric = 'euclidean', cluster_selection_method = 'eom', \n",
    "    prediction_data = True)\n",
    "\n",
    "# tokenize topics\n",
    "vectorizer_model = CountVectorizer(stop_words = \"english\")\n",
    "# create topic representation\n",
    "ctfidf_model = ClassTfidfTransformer()\n",
    "# fine tune with relevance\n",
    "representation_model = MaximalMarginalRelevance(diversity = 0.2)\n",
    "# all steps together\n",
    "topic_model = BERTopic(\n",
    "  embedding_model = embedding_model,    # Step 1 - Extract embeddings\n",
    "  umap_model = umap_model,              # Step 2 - Reduce dimensionality\n",
    "  hdbscan_model = hdbscan_model,        # Step 3 - Cluster reduced embeddings\n",
    "  vectorizer_model = vectorizer_model,  # Step 4 - Tokenize topics\n",
    "  ctfidf_model = ctfidf_model,          # Step 5 - Extract topic words        \n",
    "  calculate_probabilities = True,        \n",
    "  verbose = True,\n",
    "  representation_model = representation_model # Diversify topic words\n",
    ")"
   ]
  },
  {
   "cell_type": "code",
   "execution_count": 5,
   "metadata": {},
   "outputs": [
    {
     "data": {
      "application/vnd.jupyter.widget-view+json": {
       "model_id": "69be091bc2264bcca4dfb8c880dc7732",
       "version_major": 2,
       "version_minor": 0
      },
      "text/plain": [
       "Batches:   0%|          | 0/94 [00:00<?, ?it/s]"
      ]
     },
     "metadata": {},
     "output_type": "display_data"
    },
    {
     "name": "stderr",
     "output_type": "stream",
     "text": [
      "2025-05-28 20:31:20,122 - BERTopic - Transformed documents to Embeddings\n",
      "2025-05-28 20:31:35,523 - BERTopic - Reduced dimensionality\n",
      "2025-05-28 20:31:35,702 - BERTopic - Clustered reduced embeddings\n"
     ]
    },
    {
     "data": {
      "text/html": [
       "<div>\n",
       "<style scoped>\n",
       "    .dataframe tbody tr th:only-of-type {\n",
       "        vertical-align: middle;\n",
       "    }\n",
       "\n",
       "    .dataframe tbody tr th {\n",
       "        vertical-align: top;\n",
       "    }\n",
       "\n",
       "    .dataframe thead th {\n",
       "        text-align: right;\n",
       "    }\n",
       "</style>\n",
       "<table border=\"1\" class=\"dataframe\">\n",
       "  <thead>\n",
       "    <tr style=\"text-align: right;\">\n",
       "      <th></th>\n",
       "      <th>Topic</th>\n",
       "      <th>Count</th>\n",
       "      <th>Name</th>\n",
       "      <th>Representation</th>\n",
       "      <th>Representative_Docs</th>\n",
       "    </tr>\n",
       "  </thead>\n",
       "  <tbody>\n",
       "    <tr>\n",
       "      <th>0</th>\n",
       "      <td>-1</td>\n",
       "      <td>618</td>\n",
       "      <td>-1_depression_students_study_anxiety</td>\n",
       "      <td>[depression, students, study, anxiety, stress,...</td>\n",
       "      <td>[AIM: This study aimed to identify levels of d...</td>\n",
       "    </tr>\n",
       "    <tr>\n",
       "      <th>1</th>\n",
       "      <td>0</td>\n",
       "      <td>438</td>\n",
       "      <td>0_burnout_medical_residents_survey</td>\n",
       "      <td>[burnout, medical, residents, survey, training...</td>\n",
       "      <td>[BACKGROUND AND RATIONALE: Residents work in e...</td>\n",
       "    </tr>\n",
       "    <tr>\n",
       "      <th>2</th>\n",
       "      <td>1</td>\n",
       "      <td>251</td>\n",
       "      <td>1_nursing_students_anxiety_simulation</td>\n",
       "      <td>[nursing, students, anxiety, simulation, stres...</td>\n",
       "      <td>[The need for clinical placements for undergra...</td>\n",
       "    </tr>\n",
       "    <tr>\n",
       "      <th>3</th>\n",
       "      <td>2</td>\n",
       "      <td>194</td>\n",
       "      <td>2_covid_pandemic_anxiety_depression</td>\n",
       "      <td>[covid, pandemic, anxiety, depression, symptom...</td>\n",
       "      <td>[BACKGROUND: The COVID-19 pandemic has serious...</td>\n",
       "    </tr>\n",
       "    <tr>\n",
       "      <th>4</th>\n",
       "      <td>3</td>\n",
       "      <td>160</td>\n",
       "      <td>3_patients_pain_cancer_depression</td>\n",
       "      <td>[patients, pain, cancer, depression, anxiety, ...</td>\n",
       "      <td>[INTRODUCTION: Diagnosis of breast cancer is a...</td>\n",
       "    </tr>\n",
       "    <tr>\n",
       "      <th>5</th>\n",
       "      <td>4</td>\n",
       "      <td>135</td>\n",
       "      <td>4_drinking_motives_consequences_cannabis</td>\n",
       "      <td>[drinking, motives, consequences, cannabis, sm...</td>\n",
       "      <td>[BACKGROUND: College students with depressive ...</td>\n",
       "    </tr>\n",
       "    <tr>\n",
       "      <th>6</th>\n",
       "      <td>5</td>\n",
       "      <td>123</td>\n",
       "      <td>5_intervention_anxiety_attachment_depression</td>\n",
       "      <td>[intervention, anxiety, attachment, depression...</td>\n",
       "      <td>[BACKGROUND: Emerging adulthood is often assoc...</td>\n",
       "    </tr>\n",
       "    <tr>\n",
       "      <th>7</th>\n",
       "      <td>6</td>\n",
       "      <td>107</td>\n",
       "      <td>6_anxiety_rumination_self_phobia</td>\n",
       "      <td>[anxiety, rumination, self, phobia, sensitivit...</td>\n",
       "      <td>[Using mediated and moderated regression, this...</td>\n",
       "    </tr>\n",
       "    <tr>\n",
       "      <th>8</th>\n",
       "      <td>7</td>\n",
       "      <td>107</td>\n",
       "      <td>7_mental_students_stigma_seeking</td>\n",
       "      <td>[mental, students, stigma, seeking, treatment,...</td>\n",
       "      <td>[BACKGROUND: Mental disorders are widespread a...</td>\n",
       "    </tr>\n",
       "    <tr>\n",
       "      <th>9</th>\n",
       "      <td>8</td>\n",
       "      <td>85</td>\n",
       "      <td>8_eating_weight_depression_health</td>\n",
       "      <td>[eating, weight, depression, health, disorders...</td>\n",
       "      <td>[The aim of this paper was to identify the cha...</td>\n",
       "    </tr>\n",
       "    <tr>\n",
       "      <th>10</th>\n",
       "      <td>9</td>\n",
       "      <td>85</td>\n",
       "      <td>9_nurses_nursing_burnout_compassion</td>\n",
       "      <td>[nurses, nursing, burnout, compassion, nurse, ...</td>\n",
       "      <td>[AIM: To examine the relationships among the o...</td>\n",
       "    </tr>\n",
       "    <tr>\n",
       "      <th>11</th>\n",
       "      <td>10</td>\n",
       "      <td>82</td>\n",
       "      <td>10_sleep_insomnia_anxiety_chronotype</td>\n",
       "      <td>[sleep, insomnia, anxiety, chronotype, questio...</td>\n",
       "      <td>[Paramedics commonly experience both poor slee...</td>\n",
       "    </tr>\n",
       "    <tr>\n",
       "      <th>12</th>\n",
       "      <td>11</td>\n",
       "      <td>81</td>\n",
       "      <td>11_students_depression_symptoms_depressive</td>\n",
       "      <td>[students, depression, symptoms, depressive, a...</td>\n",
       "      <td>[INTRODUCTION: The aim of the study is to asse...</td>\n",
       "    </tr>\n",
       "    <tr>\n",
       "      <th>13</th>\n",
       "      <td>12</td>\n",
       "      <td>75</td>\n",
       "      <td>12_mindfulness_veterinary_students_yoga</td>\n",
       "      <td>[mindfulness, veterinary, students, yoga, medi...</td>\n",
       "      <td>[INTRODUCTION: Stress negatively impacts upon ...</td>\n",
       "    </tr>\n",
       "    <tr>\n",
       "      <th>14</th>\n",
       "      <td>13</td>\n",
       "      <td>72</td>\n",
       "      <td>13_suicide_suicidal_depression_suicidality</td>\n",
       "      <td>[suicide, suicidal, depression, suicidality, d...</td>\n",
       "      <td>[The objective of this study was to investigat...</td>\n",
       "    </tr>\n",
       "    <tr>\n",
       "      <th>15</th>\n",
       "      <td>14</td>\n",
       "      <td>62</td>\n",
       "      <td>14_hiv_depressive_symptoms_depression</td>\n",
       "      <td>[hiv, depressive, symptoms, depression, hetero...</td>\n",
       "      <td>[INTRODUCTION: Despite their widespread preval...</td>\n",
       "    </tr>\n",
       "    <tr>\n",
       "      <th>16</th>\n",
       "      <td>15</td>\n",
       "      <td>57</td>\n",
       "      <td>15_factor_alexithymia_validity_depression</td>\n",
       "      <td>[factor, alexithymia, validity, depression, ps...</td>\n",
       "      <td>[The Beck Depression Inventory (BDI) is one of...</td>\n",
       "    </tr>\n",
       "    <tr>\n",
       "      <th>17</th>\n",
       "      <td>16</td>\n",
       "      <td>48</td>\n",
       "      <td>16_internet_addiction_facebook_smartphone</td>\n",
       "      <td>[internet, addiction, facebook, smartphone, an...</td>\n",
       "      <td>[Internet addiction is a significant internati...</td>\n",
       "    </tr>\n",
       "    <tr>\n",
       "      <th>18</th>\n",
       "      <td>17</td>\n",
       "      <td>47</td>\n",
       "      <td>17_dental_anxiety_patients_injection</td>\n",
       "      <td>[dental, anxiety, patients, injection, tmd, de...</td>\n",
       "      <td>[OBJECTIVE: To evaluate different groups of pa...</td>\n",
       "    </tr>\n",
       "    <tr>\n",
       "      <th>19</th>\n",
       "      <td>18</td>\n",
       "      <td>47</td>\n",
       "      <td>18_athletes_concussion_collegiate_depression</td>\n",
       "      <td>[athletes, concussion, collegiate, depression,...</td>\n",
       "      <td>[BACKGROUND: Symptoms, cognition, balance, and...</td>\n",
       "    </tr>\n",
       "    <tr>\n",
       "      <th>20</th>\n",
       "      <td>19</td>\n",
       "      <td>45</td>\n",
       "      <td>19_veterans_ptsd_gambling_homeless</td>\n",
       "      <td>[veterans, ptsd, gambling, homeless, symptoms,...</td>\n",
       "      <td>[OBJECTIVE: To identify the prevalence of subs...</td>\n",
       "    </tr>\n",
       "    <tr>\n",
       "      <th>21</th>\n",
       "      <td>20</td>\n",
       "      <td>42</td>\n",
       "      <td>20_pregnancy_ppd_postpartum_maternal</td>\n",
       "      <td>[pregnancy, ppd, postpartum, maternal, depress...</td>\n",
       "      <td>[OBJECTIVES: To examine the relationships amon...</td>\n",
       "    </tr>\n",
       "    <tr>\n",
       "      <th>22</th>\n",
       "      <td>21</td>\n",
       "      <td>39</td>\n",
       "      <td>21_ocd_obsessive_compulsive_autistic</td>\n",
       "      <td>[ocd, obsessive, compulsive, autistic, autism,...</td>\n",
       "      <td>[BACKGROUND: Obsessive-Compulsive Disorder (OC...</td>\n",
       "    </tr>\n",
       "  </tbody>\n",
       "</table>\n",
       "</div>"
      ],
      "text/plain": [
       "    Topic  Count                                          Name  \\\n",
       "0      -1    618          -1_depression_students_study_anxiety   \n",
       "1       0    438            0_burnout_medical_residents_survey   \n",
       "2       1    251         1_nursing_students_anxiety_simulation   \n",
       "3       2    194           2_covid_pandemic_anxiety_depression   \n",
       "4       3    160             3_patients_pain_cancer_depression   \n",
       "5       4    135      4_drinking_motives_consequences_cannabis   \n",
       "6       5    123  5_intervention_anxiety_attachment_depression   \n",
       "7       6    107              6_anxiety_rumination_self_phobia   \n",
       "8       7    107              7_mental_students_stigma_seeking   \n",
       "9       8     85             8_eating_weight_depression_health   \n",
       "10      9     85           9_nurses_nursing_burnout_compassion   \n",
       "11     10     82          10_sleep_insomnia_anxiety_chronotype   \n",
       "12     11     81    11_students_depression_symptoms_depressive   \n",
       "13     12     75       12_mindfulness_veterinary_students_yoga   \n",
       "14     13     72    13_suicide_suicidal_depression_suicidality   \n",
       "15     14     62         14_hiv_depressive_symptoms_depression   \n",
       "16     15     57     15_factor_alexithymia_validity_depression   \n",
       "17     16     48     16_internet_addiction_facebook_smartphone   \n",
       "18     17     47          17_dental_anxiety_patients_injection   \n",
       "19     18     47  18_athletes_concussion_collegiate_depression   \n",
       "20     19     45            19_veterans_ptsd_gambling_homeless   \n",
       "21     20     42          20_pregnancy_ppd_postpartum_maternal   \n",
       "22     21     39          21_ocd_obsessive_compulsive_autistic   \n",
       "\n",
       "                                       Representation  \\\n",
       "0   [depression, students, study, anxiety, stress,...   \n",
       "1   [burnout, medical, residents, survey, training...   \n",
       "2   [nursing, students, anxiety, simulation, stres...   \n",
       "3   [covid, pandemic, anxiety, depression, symptom...   \n",
       "4   [patients, pain, cancer, depression, anxiety, ...   \n",
       "5   [drinking, motives, consequences, cannabis, sm...   \n",
       "6   [intervention, anxiety, attachment, depression...   \n",
       "7   [anxiety, rumination, self, phobia, sensitivit...   \n",
       "8   [mental, students, stigma, seeking, treatment,...   \n",
       "9   [eating, weight, depression, health, disorders...   \n",
       "10  [nurses, nursing, burnout, compassion, nurse, ...   \n",
       "11  [sleep, insomnia, anxiety, chronotype, questio...   \n",
       "12  [students, depression, symptoms, depressive, a...   \n",
       "13  [mindfulness, veterinary, students, yoga, medi...   \n",
       "14  [suicide, suicidal, depression, suicidality, d...   \n",
       "15  [hiv, depressive, symptoms, depression, hetero...   \n",
       "16  [factor, alexithymia, validity, depression, ps...   \n",
       "17  [internet, addiction, facebook, smartphone, an...   \n",
       "18  [dental, anxiety, patients, injection, tmd, de...   \n",
       "19  [athletes, concussion, collegiate, depression,...   \n",
       "20  [veterans, ptsd, gambling, homeless, symptoms,...   \n",
       "21  [pregnancy, ppd, postpartum, maternal, depress...   \n",
       "22  [ocd, obsessive, compulsive, autistic, autism,...   \n",
       "\n",
       "                                  Representative_Docs  \n",
       "0   [AIM: This study aimed to identify levels of d...  \n",
       "1   [BACKGROUND AND RATIONALE: Residents work in e...  \n",
       "2   [The need for clinical placements for undergra...  \n",
       "3   [BACKGROUND: The COVID-19 pandemic has serious...  \n",
       "4   [INTRODUCTION: Diagnosis of breast cancer is a...  \n",
       "5   [BACKGROUND: College students with depressive ...  \n",
       "6   [BACKGROUND: Emerging adulthood is often assoc...  \n",
       "7   [Using mediated and moderated regression, this...  \n",
       "8   [BACKGROUND: Mental disorders are widespread a...  \n",
       "9   [The aim of this paper was to identify the cha...  \n",
       "10  [AIM: To examine the relationships among the o...  \n",
       "11  [Paramedics commonly experience both poor slee...  \n",
       "12  [INTRODUCTION: The aim of the study is to asse...  \n",
       "13  [INTRODUCTION: Stress negatively impacts upon ...  \n",
       "14  [The objective of this study was to investigat...  \n",
       "15  [INTRODUCTION: Despite their widespread preval...  \n",
       "16  [The Beck Depression Inventory (BDI) is one of...  \n",
       "17  [Internet addiction is a significant internati...  \n",
       "18  [OBJECTIVE: To evaluate different groups of pa...  \n",
       "19  [BACKGROUND: Symptoms, cognition, balance, and...  \n",
       "20  [OBJECTIVE: To identify the prevalence of subs...  \n",
       "21  [OBJECTIVES: To examine the relationships amon...  \n",
       "22  [BACKGROUND: Obsessive-Compulsive Disorder (OC...  "
      ]
     },
     "execution_count": 5,
     "metadata": {},
     "output_type": "execute_result"
    }
   ],
   "source": [
    "# 训练模型\n",
    "topics, probs = topic_model.fit_transform(docs)\n",
    "\n",
    "# topic_model.fit_transform(docs, embeddings=embeddings)\n",
    "\n",
    "# 获取聚类结果\n",
    "topic_info = topic_model.get_topic_info()\n",
    "topic_info\n",
    "\n"
   ]
  },
  {
   "cell_type": "code",
   "execution_count": 6,
   "metadata": {},
   "outputs": [],
   "source": [
    "# info about all docs assigned to topics\n",
    "documents = topic_model.get_document_info(docs) "
   ]
  },
  {
   "cell_type": "code",
   "execution_count": 7,
   "metadata": {},
   "outputs": [
    {
     "name": "stdout",
     "output_type": "stream",
     "text": [
      "TC = 0.5428, TD = 0.7136\n"
     ]
    }
   ],
   "source": [
    "# ====================================\n",
    "# 模块5: 模型评估\n",
    "# 计算主题一致性(TC)和主题多样性(TD)指标\n",
    "# ====================================\n",
    "# 将每个主题下的文档合并为一个长文档\n",
    "documents_per_topic = documents.groupby(['Topic'], as_index = False).agg({'Document': ' '.join})\n",
    "# 对文档进行预处理\n",
    "cleaned_docs = topic_model._preprocess_text(documents_per_topic.Document.values)\n",
    "# 构建文档分析器\n",
    "analyzer = topic_model.vectorizer_model.build_analyzer()\n",
    "# 获取每个文档的标记\n",
    "tokens = [analyzer(doc) for doc in cleaned_docs]\n",
    "# 构建主题词列表(每个主题取前10个关键词的第一个元素)\n",
    "bertopic_topics = [\n",
    "    [topicwords[0] for topicwords in topic_model.get_topic(i)[:10]]\n",
    "    for i in range(len(set(topics)) - 1)]\n",
    "# 计算主题一致性(Topic Coherence)\n",
    "TC = Coherence(texts = tokens, topk = 10, measure = 'c_v').score({'topics': bertopic_topics}) \n",
    "# 计算主题多样性(Topic Diversity)\n",
    "TD = TopicDiversity().score({'topics': bertopic_topics})\n",
    "# print('TC = ', TC, 'TD = ', TD)\n",
    "# 输出保留4位小数的指标值\n",
    "print(f'TC = {TC:.4f}, TD = {TD:.4f}')\n",
    "\n",
    "\n",
    "# TC = 0.6345, TD = 0.6741 covid\n",
    "\n",
    "# TC = 0.5814, TD = 0.7824 depression\n",
    "\n"
   ]
  },
  {
   "cell_type": "code",
   "execution_count": 8,
   "metadata": {},
   "outputs": [
    {
     "name": "stdout",
     "output_type": "stream",
     "text": [
      "BACKGROUND: Approximately 20% of US adults identify as having a mental illness. Structural and other barriers prevent many people from receiving mental health services. Digital mental health apps that provide 24-hour, real-time access to human support may improve access to mental health services. However, information is needed regarding how and why people engage with licensed counselors through a digital, real-time, text-based mental health support app in nonexperimental settings. OBJECTIVE: This study aimed to evaluate how people engage with Counslr, a 24-hour, digital, mental health support app where users communicate in real time with human counselors through text messaging. Specifically, access patterns (eg, day of the week and time of session) and reasons for accessing the platform were examined. Furthermore, whether differences existed between session types (on-demand or scheduled) and membership types (education or noneducation) in regard to access patterns and why people accessed the platform were evaluated. METHODS: The study population (users) consisted of students whose schools, universities, or colleges partnered with Counslr and employees whose organizations also partnered with Counslr. Users participated in text-based mental health support sessions. In these sessions, users engaged with licensed counselors through digital, text-based messaging in real time. Users could initiate an on-demand session or schedule a session 24 hours a day. User engagement patterns were evaluated through session length, session day, session time, and self-reported reasons for initiating the session. The data were stratified by membership type (education [students] or noneducation [employees]) and session type (on-demand or scheduled) to evaluate whether differences existed in usage patterns and self-reported reasons for initiating sessions by membership and session types. RESULTS: Most students (178/283, 62.9%) and employees (28/44, 63.6%) accessed Counslr through on-demand sessions. The average and median session times were 40 (SD 15.3) and 45 minutes. On-demand sessions (37.9 minutes) were shorter (P=.001) than scheduled sessions (43.5 minutes). Most users (262/327, 80.1%) accessed Counslr between 7 PM and 5 AM. The hours that users accessed Counslr did not statistically differ by membership type (P=.19) or session type (P=.10). Primary self-reported reasons for accessing Counslr were relationship reasons, depression, and anxiety; however, users initiated sessions for a variety of reasons. Statistically significant differences existed between membership and session types (P<.05) for some of the reasons why people initiated sessions. CONCLUSIONS: The novel findings of this study illustrate that real-time, digital mental health support apps, which offer people the opportunity to engage with licensed counselors outside of standard office hours for a variety of mental health conditions, may help address structural barriers to accessing mental health support services. Additional research is needed to evaluate the effectiveness of human-based apps such as Counslr and whether such apps can also address disparities in access to mental health support services among different demographic groups.\n",
      "---\n",
      "BACKGROUND: Numerous mental health apps purport to alleviate depressive symptoms. Strong evidence suggests that brief cognitive behavioral therapy (bCBT)-based mental health apps can decrease depressive symptoms, yet there is limited research elucidating the specific features that may augment its therapeutic benefits. One potential design feature that may influence effectiveness and user experience is the inclusion of virtual agents that can mimic realistic, human face-to-face interactions. OBJECTIVE: The goal of the current experiment was to determine the effect of conversational and animation features of a virtual agent within a bCBT-based mental health app on depressive symptoms and user experience in college students with and without depressive symptoms. METHODS: College students (N=209) completed a 2-week intervention in which they engaged with a bCBT-based mental health app with a customizable therapeutic virtual agent that varied in conversational and animation features. A 2 (time: baseline vs 2-week follow-up) x 2 (conversational vs non-conversational agent) x 2 (animated vs non-animated agent) randomized controlled trial was used to assess mental health symptoms (Patient Health Questionnaire-8, Perceived Stress Scale-10, and Response Rumination Scale questionnaires) and user experience (mHealth App Usability Questionnaire, MAUQ) in college students with and without current depressive symptoms. The mental health app usability and qualitative questions regarding users' perceptions of their therapeutic virtual agent interactions and customization process were assessed at follow-up. RESULTS: Mixed ANOVA (analysis of variance) results demonstrated a significant decrease in symptoms of depression (P=.002; mean [SD]=5.5 [4.86] at follow-up vs mean [SD]=6.35 [4.71] at baseline), stress (P=.005; mean [SD]=15.91 [7.67] at follow-up vs mean [SD]=17.02 [6.81] at baseline), and rumination (P=.03; mean [SD]=40.42 [12.96] at follow-up vs mean [SD]=41.92 [13.61] at baseline); however, no significant effect of conversation or animation was observed. Findings also indicate a significant increase in user experience in animated conditions. This significant increase in animated conditions is also reflected in the user's ease of use and satisfaction (F(1, 201)=102.60, P<.001), system information arrangement (F(1, 201)=123.12, P<.001), and usefulness of the application (F(1, 201)=3667.62, P<.001). CONCLUSIONS: The current experiment provides support for bCBT-based mental health apps featuring customizable, humanlike therapeutic virtual agents and their ability to significantly reduce negative symptomology over a brief timeframe. The app intervention reduced mental health symptoms, regardless of whether the agent included conversational or animation features, but animation features enhanced the user experience. These effects were observed in both users with and without depressive symptoms.\n",
      "---\n",
      "BACKGROUND: Digital mental health interventions, including AI-integrated applications, are increasingly utilized to support individuals with elevated symptoms of psychological distress. However, a gap exists in understanding their efficacy specifically for student populations. OBJECTIVES: This study aimed to investigate the effects of GymBuddy, an AI-powered fitness and accountability app, and Elomia, an AI-based mental health chatbot, on the mental health of students at risk for psychological distress. METHODOLOGY: A quasi-experimental study was conducted involving 65 participants who exhibited heightened psychological distress but did not have a formal diagnosis of a psychological disorder. Participants were randomly assigned to either the intervention group, which utilized GymBuddy and Elomia for structured mental health support, or the control group. Mental health outcomes such as anxiety, depression, and stress levels were assessed using standardized baseline, midpoint, and endpoint measures. Data were analyzed using Mixed ANOVA. RESULTS: The mixed ANOVA analysis revealed significant improvements across all measured mental health outcomes, including somatic symptoms, anxiety and insomnia, social dysfunction, and severe depression. Significant main effects of time and group membership were observed for all variables, indicating overall symptom reduction and baseline differences between groups. Moreover, significant interaction effects for somatic symptoms (F(2, 70) = 59.96, p < 0.0001, eta(2) = 0.63), anxiety and insomnia (F(2, 70) = 32.05, p < 0.0001, eta(2) = 0.48), social dysfunction (F(2, 70) = 59.96, p < 0.0001, eta(2) = 0.63), and severe depression (F(2, 70) = 32.05, p < 0.0001, eta(2) = 0.48) indicated that participants in the intervention group experienced significantly greater reductions in psychological distress compared to the control group. CONCLUSIONS: Our findings suggest that AI-integrated interventions like GymBuddy and Elomia may serve as effective tools for reducing psychological distress in student populations. Integrating AI technology into mental health interventions offers personalized support and guidance, addressing a crucial need in student populations. Further research is warranted to explore long-term outcomes and optimize the implementation of these interventions in educational settings.\n",
      "---\n",
      "BACKGROUND: Healthy Minds Thriving Kids (HMTK) is a free to user mental health skill building program developed by the Child Mind Institute with the aim to normalize conversations about emotional health and provide educators with wellness tools. The aim of this study was to explore the applicability of the HMTK program for universal school-based delivery from the perspective of educators, specifically to understand acceptability of program materials, perception of the quality of the program, and impressions of the program's usefulness and relevance across K-12 settings. METHODS: The HMTK program was available to view by educator registrants between 01/26/2022 and 09/07/2022 in the State of California. Educator participants viewed an introductory video for the program and a minimum of two skills videos before participating in an online survey. RESULTS: Of 68,861 registrants to the website, 64,376 provided survey data. Post-pandemic levels of stress and anxiety were increased, and 89.5% of respondents said young people required a greater degree of support than in the past. Almost all educators (90%) endorsed a need for additional mental health skill building tools for students, and following review of HMTK, > 80% of respondents said they would use the program in their classrooms. Most (86.6%) found the program engaging, and 85.1% found the program relevant to and representative of their student cohorts. More than three quarters (79.6%) said their students would find the program engaging and beneficial. Post-exposure to HMTK, 18.8% more educators believed that the State of California was committed to supporting students' emotional learning. CONCLUSION: This survey demonstrates that from the perspective of educators the HMTK program is a valuable and complementary resource to school curricula to improve the mental health skills of young people. It provides an easy-to-implement framework that school districts and administrators can integrate within their curriculum planning.\n",
      "---\n",
      "BACKGROUND: In addition to standard older adult care services, mobile medical devices have proved to be an effective tool for controlling the health of older adults. However, little is known about the variables driving the acceptance of these gadgets and the willingness of older adults in China to use them. OBJECTIVE: This study aims to explore the factors that affect the use of mobile health (mHealth) devices by older adults in China, focusing on individual, social, and family influences. METHODS: The Psychology and Behavior Investigation of Chinese Residents survey database provided the data for this study. The survey was conducted in 148 Chinese cities between June 20 and August 31, 2022. The parameters linked to older persons' desire to use mobile medical devices were determined by this study using a combination model of multiple stepwise linear regression and a classification and regression tree decision tree. RESULTS: In total, 4085 older adults took part in the poll. On a scale of 0 to 100, the average score for willingness to adopt mHealth devices was 63.70 (SD 25.11). The results of the multiple stepwise linear regression showed that having a postgraduate degree and higher (beta=.040; P=.007), being unemployed (beta=.037; P=.02), having a high social status (beta=.085; P<.001), possessing high health literacy (beta=.089; P<.001), demonstrating high self-efficacy (beta=.043; P=.02), not living with children (beta=.0340; P=.02), having a household per capita monthly income of >Y4000 (US $550) (beta=.048; P=.002), experiencing high perceived social support (beta=.096; P<.001), reporting a high quality of life (beta=.149; P<.001), having higher levels of family communication (beta=-.071; P<.001), having an identity bubble (beta=.085; P<.001), not having chronic diseases (beta=.049; P=.001), and experiencing mild depression (beta=-.035; P=.02) were associated with older adults' willingness to use mHealth devices. The classification and regression tree decision tree model's findings demonstrated that the primary determinants of older adults' desire to use mHealth devices are quality of life, identity bubble, social status, health literacy, family health, and perceived social support. CONCLUSIONS: This study uses the Andersen Healthcare Utilization Model to investigate the effects of demand variables, enabling resources, and predisposing traits on older persons' propensity to use mHealth devices. These results offer reference data for the marketing and use of mHealth devices for older individuals in the future. The ultimate goal of this strategy is to create a balanced and harmonious integration of technology and humanistic care.\n",
      "---\n",
      "OBJECTIVE: This study assessed the feasibility and effectiveness of the Sharper Minds package, a mental health intervention designed for university students, co-developed with student input. The program included a weekly self-monitoring e-tool and/or a short course targeting six self-care areas: physical activity, diet, sleep, music to aid study, mood regulation, and social connection. METHOD: A non-randomised controlled trial involved 433 undergraduate students in three conditions: control, one-intervention (either e-tool or course), and two-intervention (both e-tool and course). Data were collected at baseline and after six weeks. Feasibility was measured by reach, retention, and acceptability, while primary outcomes focused on mental health indicators such as depression and anxiety, and secondary outcomes were somatic symptoms, wellbeing and academic motivation. RESULTS: Results indicated good retention (72 %) and positive feedback on acceptability. Students receiving both interventions (two-intervention condition) showed a 17.6 % reduction in the proportion screening positive for mental health issues, a change not seen in other conditions. A MANCOVA analysis identified a significant interaction between condition and time across combined outcomes (depression, anxiety, somatic symptoms, wellbeing, and motivation), with a small effect size. CONCLUSIONS: This is the first mental health promotion package for Australian university students addressing multiple health and self-care behaviours. Findings indicate students found the package components acceptable and experienced positive effects on mental health. ANZ CLINICAL TRIAL REGISTRATION: Retrospectively registered 1/09/2023, https://www.anzctr.org.au/Trial/Registration/TrialReview.aspx?id=386141&isReview=true.\n",
      "---\n",
      "University students have high prevalence of stress and anxiety, which may be amenable to in-the-moment interventions supported by wearable devices that measure heart rate variability (HRV). However, for low-cost devices that are convenient to wear, heart rate (HR) and step count are more readily available than HRV. We investigated the performance of machine learning models trained to estimate HRV from HR and step count based on 201 hours of data from 14 participants undertaking normal university weekday activities. We found that highest-stress times (HRV below 10(th) percentile for that individual) can be predicted to a moderate degree (AUC 0.746; 60% sensitivity with 80% specificity). The results suggest that implementing models to estimate HRV from proxy variables would be worthwhile to support large-scale in-the-moment stress/ anxiety interventions for specific cohorts and contexts.\n",
      "---\n",
      "BACKGROUND: Mental health problems in university students are associated with many negative outcomes, yet there is a gap between need and timely access to help. Single-session interventions (SSIs) are designed to be scalable and accessible, delivering core evidence-based intervention components within a one-off encounter. OBJECTIVE: COMET (Common Elements Toolbox) is an online self-help SSI that includes behavioral activation, cognitive restructuring, gratitude, and self-compassion. COMET has previously been evaluated in India, Kenya, and the United States with promising results. This study tests the acceptability, appropriateness, perceived utility, and efficacy of COMET among UK university students during the peripandemic period. METHODS: We conducted a randomized controlled trial evaluating the efficacy of COMET compared with a control group, with 2- and 4-week follow-ups. Outcome variables were subjective well-being, depression severity, anxiety severity, positive affect, negative affect, and perceived stress. We also measured intervention satisfaction immediately after completion of COMET. All UK university students with access to the internet were eligible to participate and were informed of the study online. The data were analyzed using linear mixed models and reported in accordance with the CONSORT-EHEALTH (Consolidated Standards of Reporting Trials of Electronic and Mobile Health Applications and Online Telehealth) checklist. RESULTS: Of the 831 people screened, 468 participants were randomized to a condition, 407 completed the postintervention survey, 147 returned the 2-week follow-up survey, 118 returned the 4-week follow-up survey, and 89 returned both. Of the 239 randomized, 212 completed COMET. Significant between-group differences in favor of the COMET intervention were observed at 2-week follow-ups for subjective well-being (Warwick-Edinburgh Mental Well-Being Scale; mean difference [MD] 1.39, 95% CI 0.19-2.61; P=.03), depression severity (9-item Patient Health Questionnaire; MD -1.31, 95% CI -2.51 to -0.12; P=.03), and perceived stress (4-item Perceived Stress Scale; MD -1.33, 95% CI -2.10 to -0.57; P<.001). Overall, participants were satisfied with COMET, with the majority endorsing the intervention and its modules as acceptable, appropriate, and exhibiting high utility. The self-compassion module was most often reported as the participants' favorite module and the behavioral activation module was their least favorite. Qualitative analysis revealed that participants found COMET generally accessible, but too long, and experienced immediate and long-term beneficial effects. CONCLUSIONS: This study demonstrated high engagement with the COMET intervention, along with preliminary short-term efficacy. Almost all participants completed the intervention, but study attrition was high. Participant feedback indicated a high level of overall satisfaction with the intervention, with perceived accessibility, immediate benefits, and potential long-term impact being notable findings. These findings support the potential value of COMET as a mental health intervention and highlight important areas for further improvement. TRIAL REGISTRATION: ClinicalTrials.gov NCT05718141; https://clinicaltrials.gov/ct2/show/NCT05718141.\n",
      "---\n",
      "BACKGROUND: In recent years, the adoption of large language model (LLM) applications, such as ChatGPT, has seen a significant surge, particularly among students. These artificial intelligence-driven tools offer unprecedented access to information and conversational assistance, which is reshaping the way students engage with academic content and manage the learning process. Despite the growing prevalence of LLMs and reliance on these technologies, there remains a notable gap in qualitative in-depth research examining the emotional and psychological effects of LLMs on users' mental well-being. OBJECTIVE: In order to address these emerging and critical issues, this study explores the role of LLM-based offerings, such as ChatGPT, in students' lives, namely, how postgraduate students use such offerings and how they make students feel, and examines the impact on students' well-being. METHODS: To address the aims of this study, we employed an exploratory approach, using in-depth, semistructured, qualitative, face-to-face interviews with 23 users (13 female and 10 male users; mean age 23 years, SD 1.55 years) of ChatGPT-4o, who were also university students at the time (inclusion criteria). Interviewees were invited to reflect upon how they use ChatGPT, how it makes them feel, and how it may influence their lives. RESULTS: The current findings from the exploratory qualitative interviews showed that users appreciate the functional support (8/23, 35%), escapism (8/23, 35%), and fantasy fulfillment (7/23, 30%) they receive from LLM-based offerings, such as ChatGPT, but at the same time, such usage is seen as a \"double-edged sword,\" with respondents indicating anxiety (8/23, 35%), dependence (11/23, 48%), concerns about deskilling (12/23, 52%), and angst or pessimism about the future (11/23, 48%). CONCLUSIONS: This study employed exploratory in-depth interviews to examine how the usage of LLM-based offerings, such as ChatGPT, makes users feel and assess the effects of using LLM-based offerings on mental well-being. The findings of this study show that students used ChatGPT to make their lives easier and felt a sense of cognitive escapism and even fantasy fulfillment, but this came at the cost of feeling anxious and pessimistic about the future.\n",
      "---\n",
      "BACKGROUND: Psychological distress is a growing problem among medical students worldwide. This highlights the need for psychological interventions to focus on mental health and improve well-being in this population. OBJECTIVE: This study developed an internet-based, self-help, acceptance and commitment therapy program (iACT 2.0), aiming to examine its effectiveness in reducing depression, anxiety, stress, psychological inflexibility (PI), and obsessive-compulsive symptoms (OCSs) among medical students. METHODS: A total of 520 Chinese postgraduate medical students were randomly assigned to either an iACT 2.0 intervention group (n=260; six online lessons, once every 5 days) or a control condition (n=260; without intervention). Participants completed questionnaires including the 21-item Depression Anxiety Stress Scale, the revised Obsessive-Compulsive Inventory, and the Multidimensional Psychological Flexibility Inventory at the preintervention (T1), postintervention (T2), and 1-month follow-up time points (T3). No therapist support was provided during the 1-month iACT 2.0 intervention period. Data were collected via an online platform and analyzed using repeated-measures ANOVA. RESULTS: Participants in the intervention group demonstrated a significant decrease in depression, anxiety, stress, PI, and OCSs compared to the control group after the intervention (F=22.9-672.04, all P<.001). Specifically, the intervention group showed significant reductions in all measured outcomes from the preintervention to postintervention time point and at the 1-month follow-up (all P<.001). In contrast, no significant changes were observed in the control group over the same period (all P>.05). The groups did not differ significantly at baseline (all P>.05). Significant differences were noted at both the postintervention and follow-up time points (all P<.001). CONCLUSIONS: This study demonstrated that the newly developed iACT 2.0 was effective in reducing depression, anxiety, stress, PI, and OCSs. Notably, the positive effects of the intervention persisted at the 1-month follow-up. This program can offer a useful addition to existing mental illness treatment and lead to improvements in clinical and psychotherapy planning while simultaneously reducing the burden on traditional counseling and services. TRIAL REGISTRATION: Chinese Clinical Trial Registry ChiCTR2300070725; https://tinyurl.com/2h75wx8n.\n",
      "---\n",
      "BACKGROUND: Combining patient-generated health data and digital health platforms may improve patient experience and population health, mitigate rising health care costs, reduce clinician burnout, and enable health equity. However, lack of trust may be a notable barrier to the data-sharing required by such platforms. Understanding sociodemographic, health, and personal characteristics will enable developers and implementers of such technologies to consider these in their technical design requirements. OBJECTIVE: This study aims to understand relationships between sociodemographic characteristics of caregivers of children or adolescents and trust in and willingness to use digital platforms to store and share personal health information for clinical care and research. METHODS: This study used a mixed methods approach, including surveys of caregivers of youth aged <18 years living in Canada or the United States and youth aged 16 to 17 years living in Canada, as well as web-based bulletin board discussions to further explore topics of trust in data sharing. Sociodemographic and survey data were tabulated and explored using proportional odds ordinal regression models. Comments from web-based group discussions were analyzed thematically using a coding approach to identify issues important to the participants. RESULTS: Survey data from 1128 caregivers (female participants: n=549, 48.7%; 36-50 years old: n=660, 58.5%; Canadian: n=603, 53.5%; urban population: n=494, 43.8%) were collected, of which 685 (60.7%) completed all questions. Data from 173 youth (female participants: n=73, 42.2%; urban population: n=94, 54.3%) were collected, of which 129 (74.6%) completed all questions, and data were available for analysis. Furthermore, among 40 participants, 23 (58%) caregivers contributed to the web-based discussion boards. Related to trust, living in a rural area (vs urban; odds ratio [OR] 0.66, 95% CI 0.46-0.95) resulted in lower concern for data privacy and security, while having an undergraduate (OR 1.82, 95% CI 1.30-2.55) or graduate degree (vs secondary or trade school; OR 2.50, 95% CI 1.68-3.73) resulted in higher levels of concern. Living with a chronic disease (OR 1.81, 95% CI 1.35-2.44) increased levels of concern regarding data privacy and security. Interestingly, those with chronic disease were more willing to use digital platforms for clinical care and share personal health information for not-for-profit research. Caregivers were most concerned about data breaches involving data from their children but also highlighted that digital platforms would allow for better coordination of care for their children. CONCLUSIONS: Our research confirms the willingness of caregivers and youth to use digital platforms for both clinical care delivery and research and suggests that the value of a digital platform may outweigh the risks of its use. Engagement of end users in co-designing such platforms has the potential to enhance digital trust. However, digital trust varies across sociodemographic groups; therefore, diverse end user engagement is necessary when designing digital applications.\n",
      "---\n",
      "This study investigates the technology acceptance of a proposed multimodal wearable sensing framework, named mSense, within the context of non-invasive real-time neurofeedback for student stress and anxiety management. The COVID-19 pandemic has intensified mental health challenges, particularly for students. Non-invasive techniques, such as wearable biofeedback and neurofeedback devices, are suggested as potential solutions. To explore the acceptance and intention to use such innovative devices, this research applies the Technology Acceptance Model (TAM), based on the co-creation approach. An online survey was conducted with 106 participants, including higher education students, health researchers, medical professionals, and software developers. The TAM key constructs (usage attitude, perceived usefulness, perceived ease of use, and intention to use) were validated through statistical analysis, including Partial Least Square-Structural Equation Modeling. Additionally, qualitative analysis of open-ended survey responses was performed. Results confirm the acceptance of the mSense framework for neurofeedback-based stress and anxiety management. The study contributes valuable insights into factors influencing user intention to use multimodal wearable devices in educational settings. The findings have theoretical implications for technology acceptance and practical implications for extending the usage of innovative sensors in clinical and educational environments, thereby supporting both physical and mental health.\n",
      "---\n",
      "BACKGROUND: Internet-based cognitive behavioral therapy (iCBT) shows promise in the prevention of depression. However, the specific iCBT components that contribute to its effectiveness remain unclear. OBJECTIVE: We aim to evaluate the effects of iCBT components in preventing depression among university students. METHODS: Using a smartphone cognitive behavioral therapy (CBT) app, we randomly allocated university students to the presence or absence of 5 different iCBT components: self-monitoring, behavioral activation, cognitive restructuring, assertiveness training, and problem-solving. The active intervention lasted 8 weeks but the app remained accessible through the follow-up. The primary outcome was the onset of a major depressive episode (MDE) between baseline and the follow-up after 52 weeks, as assessed with the computerized World Health Organization Composite International Diagnostic Interview. Secondary outcomes included changes in the 9-item Patient Health Questionnaire, 7-item General Anxiety Disorder, and CBT Skills Scale. RESULTS: During the 12-month follow-up, 133 of 1301 (10.22%) participants reported the onset of an MDE. There were no significant differences in the incidence of MDEs between the groups with or without each component (hazard ratios ranged from 0.85, 95% CI 0.60-1.20, for assertiveness training to 1.26, 95% CI 0.88-1.79, for self-monitoring). Furthermore, there were no significant differences in the changes on the 9-item Patient Health Questionnaire, 7-item General Anxiety Disorder, or for CBT Skills Scale between component allocation groups. However, significant reductions in depression and anxiety symptoms were observed among all participants at the 52-week follow-up. CONCLUSIONS: In this study, we could not identify any specific iCBT components that were effective in preventing depression or the acquisition of CBT skills over the 12-month follow-up period, but all participants with and without intervention of each iCBT component demonstrated significant improvements in depressive and anxiety symptoms. Further research is needed to explore the potential impact of frequency of psychological assessments, nonspecific intervention effects, natural change in the mental state, and the baseline depression level.\n",
      "---\n",
      "IMPORTANCE: Anxiety disorders are prevalent and undertreated among young adults. Digital mental health interventions for anxiety are promising but limited by a narrow range of therapeutic components and low user engagement. OBJECTIVE: To investigate the efficacy of and engagement with Maya, a scalable, self-guided, comprehensive mobile cognitive behavioral therapy (CBT) intervention with embedded engagement features, comparing the effects of 3 incentive conditions. DESIGN, SETTING, AND PARTICIPANTS: This randomized clinical trial recruited young adults aged 18 to 25 years with anxiety disorders through online advertisements and outpatient psychiatry clinics at Weill Cornell Medicine. Enrollment was between June 16, 2021, and November 11, 2022. Data analysis was performed from December 21, 2022, to June 14, 2024. INTERVENTION: Participants received a 6-week program of the intervention and were randomized to 1 of 3 different text message-based incentive conditions (gain-framed, loss-framed, or gain-social support). MAIN OUTCOMES AND MEASURES: The primary outcome was change in anxious symptoms from baseline to end of treatment, as measured by the Hamilton Anxiety Rating Scale (HAM-A). The Anxiety Sensitivity Index and the Leibowitz Social Anxiety Scale scores were secondary measures. RESULTS: The sample consisted of 59 participants (mean [SD] age, 23.1 [1.9] years; 46 [78%] female; 22 [37%] Asian, 3 [5%] Black, 5 [8%] Hispanic or Latino, 1 [2%] American Indian or Alaska Native, 25 [42%] White, and 6 [10%] >1 race; 32 [54%] college-educated and 12 [20%] graduate or professional school-educated; mean [SD] baseline HAM-A score, 15.0 [6.5]). Anxiety, measured by HAM-A, decreased across conditions from baseline to end of the intervention (mean difference, -5.64; 95% CI, -7.23 to -4.05), and symptomatic improvement was maintained at the week 12 follow-up (baseline to follow-up mean difference, -5.67; 95% CI, -7.29 to -4.04). However, there was no evidence that change in anxiety differed by incentive condition (loss-framed vs gain-social support mean difference, -1.40; 95% CI, -4.72 to 1.93; gain-framed vs gain-social support mean difference, 1.38; 95% CI, -1.19 to 3.96). Secondary anxiety measures (Anxiety Sensitivity Index and Liebowitz Social Anxiety Scale scores) showed a similar pattern of improvement, with no evidence of differences between incentive conditions. Participants completed most of the 12 sessions (mean [SD], 10.8 [2.1]; 95% CI, 10.3-11.4), and User Mobile Application Rating Scale app quality ratings exceeded the published threshold for acceptability at all study visits. There was no evidence that either session completion or app quality ratings differed by incentive condition. CONCLUSIONS AND RELEVANCE: In this randomized clinical trial of an app-based intervention for anxiety, the primary hypothesis that improvement in anxiety would be greatest in the condition using gain of points plus social incentives was not supported; however, the results suggest that a CBT application incorporating a full suite of CBT skills and embedded user engagement features was efficacious in improving symptoms in young adults with anxiety disorders. Given these findings, digital interventions represent a promising step toward wider dissemination of high-quality, evidence-based interventions. TRIAL REGISTRATION: ClinicalTrials.gov Identifier: NCT05130281.\n",
      "---\n",
      "Higher Education Institutes (HEIs) have been met with an unprecedented demand on their student counselling and wellbeing services in recent years with the impacts of COVID-19 and high rates of mental health concerns amongst student populations. Online mental health programs offer one solution by providing students with quick and easy access to effective therapeutic content. The Focused Minds Program is an evidence-based eight-module online self-guided cognitive behavioural intervention that targets the transdiagnostic risk factor of perfectionism and has been shown to decrease depression, anxiety, and disordered eating. The program was implemented at a UK university between 2021 and 2023. Recruitment occurred via departmental emails, academic staff, and the university's counselling staff and website. Participants were provided with access to the intervention for 6-weeks and completed weekly surveys of psychosocial measures. The trial's implementation was assessed using the Reach, Effectiveness, Adoption, Implementation, and Maintenance framework: reach (uptake via the recruitment channels), effectiveness (outcomes on psychometric measures of mental wellbeing), adoption (staff and organisational support), implementation (intervention engagement and attrition), and maintenance (continued implementation across the trial period). Key barriers to successful implementation, as well as proposed solutions, are discussed to guide future online mental health interventions provided in HEIs.\n",
      "---\n",
      "INTRODUCTION: University students are one of the most vulnerable populations for anxiety disorders worldwide. In Northern Ireland, anxiety disorders appear to be more common among the university student population due to the population demographics across the region. Despite the need, these students show less inclination to access the widely available on-campus well-being services and other external professional services. Digital cognitive-behavioural therapy (CBT) aims to bridge this gap between the need for psychological help and access to it. However, challenges such as limited reach, low adoption, implementation barriers and poor long-term maintenance are mainstay issues resulting in reduced uptake of digital CBT. As a result, the potential impact of digital CBT is currently restricted. The proposed intervention 'Cerina' is a scalable CBT-based mobile app with an interactive user interface that can be implemented in university settings if found to be feasible and effective. METHODS AND ANALYSIS: The study is a single-blind pilot feasibility randomised controlled trial aiming to test the feasibility and preliminary effects of Cerina in reducing Generalised Anxiety Disorder (GAD) symptoms. Participants are 90 Ulster University students aged 18 and above with self-reported GAD symptoms. They will be allocated to two conditions: treatment (ie, access to Cerina for 6 weeks) and a wait-list control group (ie, optional on-campus well-being services for 6 weeks). Participants in the wait-list will access Cerina 6 weeks after their randomisation and participants in both conditions will be assessed at baseline, at 3 (mid-assessment) and 6 weeks (postassessment). The primary outcome is the feasibility of Cerina (ie, adherence to the intervention, its usability and the potential to deliver a full trial in the future). The secondary outcomes include generalised anxiety, depression, worry and quality of life. Additionally, participants in both conditions will be invited to semistructured interviews for process evaluation. ETHICS AND DISSEMINATION: Ethical approval for the study has been granted by the Ulster University Research Ethics Committee (ID: FCPSY-22-084). The results of the study will be disseminated through publications in scientific articles and presentations at relevant conferences and/or public events. TRIAL REGISTRATION NUMBER: NCT06146530.\n",
      "---\n",
      "In its typical form, an \"anima projection\" is a psychic experience in which a heterosexual man is caught up by an intense, almost magical attraction for a woman. What sets these numinous experiences apart from a common \"crush\" is a pattern of specific phenomenological characteristics. Anima projections are particularly common in late adolescence and early adulthood, when they can cause a deep sense of disorientation. Little education exists for young men on how to deal with these experiences and to actualize the developmental opportunity that underlies them. In this paper, I frame anima projections as an ethical problem and outline a psycho-ethical \"map\" that is intended for use by disoriented young men, or by any practitioner who may be tasked with helping them navigate this challenge along the path of individuation. The map considers four solutions to the love problem: the \"concretistic-literal\", the \"fearful-avoidant\", the \"rational-depressive\", and the \"transitional-developmental\" solution, and indicates the latter as the one that is conducive to optimal psychic development. Although developed with a focus on young men, the map may apply to other relations based on projection, regardless of age, sex, gender, or sexual orientation.\n",
      "---\n",
      "BACKGROUND: Understanding a student's depressive symptoms could facilitate significantly more precise diagnosis and treatment. However, few studies have focused on depressive symptom prediction through unobtrusive systems, and these studies are limited by small sample sizes, low performance, and the requirement for higher resources. In addition, research has not explored whether statistically significant rhythms based on different app usage behavioral markers (eg, app usage sessions) exist that could be useful in finding subtle differences to predict with higher accuracy like the models based on rhythms of physiological data. OBJECTIVE: The main objective of this study is to explore whether there exist statistically significant rhythms in resource-insensitive app usage behavioral markers and predict depressive symptoms through these marker-based rhythmic features. Another objective of this study is to understand whether there is a potential link between rhythmic features and depressive symptoms. METHODS: Through a countrywide study, we collected 2952 students' raw app usage behavioral data and responses to the 9 depressive symptoms in the 9-item Patient Health Questionnaire (PHQ-9). The behavioral data were retrieved through our developed app, which was previously used in our pilot studies in Bangladesh on different research problems. To explore whether there is a rhythm based on app usage data, we will conduct a zero-amplitude test. In addition, we will develop a cosinor model for each participant to extract rhythmic parameters (eg, acrophase). In addition, to obtain a comprehensive picture of the rhythms, we will explore nonparametric rhythmic features (eg, interdaily stability). Furthermore, we will conduct regression analysis to understand the association of rhythmic features with depressive symptoms. Finally, we will develop a personalized multitask learning (MTL) framework to predict symptoms through rhythmic features. RESULTS: After applying inclusion criteria (eg, having app usage data of at least 2 days to explore rhythmicity), we kept the data of 2902 (98.31%) students for analysis, with 24.48 million app usage events, and 7 days' app usage of 2849 (98.17%) students. The students are from all 8 divisions of Bangladesh, both public and private universities (19 different universities and 52 different departments). We are analyzing the data and will publish the findings in a peer-reviewed publication. CONCLUSIONS: Having an in-depth understanding of app usage rhythms and their connection with depressive symptoms through a countrywide study can significantly help health care professionals and researchers better understand depressed students and may create possibilities for using app usage-based rhythms for intervention. In addition, the MTL framework based on app usage rhythmic features may more accurately predict depressive symptoms due to the rhythms' capability to find subtle differences. INTERNATIONAL REGISTERED REPORT IDENTIFIER (IRRID): DERR1-10.2196/51540.\n",
      "---\n",
      "BACKGROUND: Emerging adulthood is often associated with mental health problems. About one in three university students report symptoms of depression and anxiety that can negatively affect their developmental trajectory concerning work, intimate relationships, and health. This can interfere with academic performance, as mood and anxiety disorders are key predictors of dropout from higher education. A treatment gap exists, where a considerable proportion of students do not seek help for mood and anxiety symptoms. Offering internet interventions to students with mental health problems could reduce the treatment gap, increase mental health, and improve academic performance. A meta-analysis on internet interventions for university students showed small effects for depression and none for anxiety. Larger trials are recommended to further explore effects of guidance, transdiagnostic approaches, and individual treatment components. METHODS: This study will offer 1200 university students in Sweden participation in a three-armed randomized controlled trial (RCT) evaluating a guided or unguided transdiagnostic internet intervention for mild to moderate depression and anxiety, where the waitlist control group accesses the intervention at 6-month follow-up. Students reporting suicidal ideation/behaviors will be excluded and referred to treatment within the existing healthcare system. An embedded study within the trial (SWAT) will assess at week 3 of 8 whether participants in the guided and unguided groups are at higher risk of failing to benefit from treatment. Those at risk will be randomized to an adaptive treatment strategy, or to continue the treatment as originally randomized. Primary outcomes are symptoms of depression and anxiety. Follow-ups will occur at post-treatment and at 6-, 12-, and 24-month post-randomization. Between-group outcome analyses will be reported, and qualitative interviews about treatment experiences are planned. DISCUSSION: This study investigates the effects of a transdiagnostic internet intervention among university students in Sweden, with an adaptive treatment strategy employed during the course of treatment to minimize the risk of treatment failure. The study will contribute knowledge about longitudinal trajectories of mental health and well-being following treatment, taking into account possible gender differences in responsiveness to treatment. With time, effective internet interventions could make treatment for mental health issues more widely accessible to the student group.\n",
      "---\n",
      "OBJECTIVE: Untreated mental disorders are important among low- and middle-income country (LMIC) university students in Latin America, where barriers to treatment are high. Scalable interventions are needed. This study compared transdiagnostic self-guided and guided internet-delivered cognitive behavioral therapy (i-CBT) with treatment as usual (TAU) for clinically significant anxiety and depression among undergraduates in Colombia and Mexico. METHOD: 1,319 anxious, as determined by the Generalized Anxiety Disorder-7 (GAD-7) = 10+ and/or depressed, as determined by the Patient Health Questionnaire-9 (PHQ-9) = 10+, undergraduates (mean [SD] age = 21.4 [3.2]); 78.7% female; 55.9% first-generation university student) from seven universities in Colombia and Mexico were randomized to culturally adapted versions of self-guided i-CBT (n = 439), guided i-CBT (n = 445), or treatment as usual (TAU; n = 435). All randomized participants were reassessed 3 months after randomization. The primary outcome was remission of both anxiety (GAD-7 = 0-4) and depression (PHQ-9 = 0-4). We hypothesized that remission would be higher with guided i-CBT than with the other interventions. RESULTS: Intent-to-treat analysis found significantly higher adjusted (for university and loss to follow-up) remission rates (ARD) among participants randomized to guided i-CBT than either self-guided i-CBT (ARD = 13.1%, chi12 = 10.4, p = .001) or TAU (ARD = 11.2%, chi12 = 8.4, p = .004), but no significant difference between self-guided i-CBT and TAU (ARD = -1.9%, chi12 = 0.2, p = .63). Per-protocol sensitivity analyses and analyses of dimensional outcomes yielded similar results. CONCLUSIONS: Significant reductions in anxiety and depression among LMIC university students could be achieved with guided i-CBT, although further research is needed to determine which students would most likely benefit from this intervention. (PsycInfo Database Record (c) 2023 APA, all rights reserved).\n",
      "---\n",
      "Appropriate training and continuing education for mental health professionals are designed to ensure that clinicians provide effective and ethical care. Mental health consumers may depend upon these credentials to judge the level of a professional's competence, but whether these activities and credentials provide a valid indicator of knowledge and skills is subject to debate. The present study was designed to examine preferences for mental health clinicians among potential consumers and factors that may inform these preferences, specifically comparing preferences for doctoral-level mental health clinicians and masters-level clinicians with and without specialty certification for treating anxiety symptoms. Cross-sectional assessment with self-report surveys (clinician preferences, prior mental health diagnosis and treatment, demographic characteristics, generalized anxiety symptoms, mental health literacy, and mental health stigma) was administered in two samples: a college student sample (N = 224; 71.9% female; M(age) = 19.1, SD = 1.5) and a sample of adults with chronic pain (N = 116; 74.1% female; M(age) = 43.8, SD = 13.8). The present study found that across both samples, therapists with a specialty certification were preferred over those without such credentials within each profession, and that certification status trumped professional standing such that certified masters-level clinicians were rated more highly than noncertified PhD-level clinicians. These findings are indicative of a schism between how the field of clinical psychology conceptualizes itself and how it is seen by its consumers. Implications of our findings for mental health consumers, clinicians, and professional organizations are discussed. (PsycInfo Database Record (c) 2024 APA, all rights reserved).\n",
      "---\n",
      "BACKGROUND: The university years are a developmentally crucial phase and a peak period for the onset of mental disorders. The beliefs about the changeability of negative emotion may play an important role in help-seeking. The brief digital growth mindset intervention is potentially scalable and acceptable to enhance adaptive coping and help-seeking for mental health needs in university students. We adapted the Single-session Intervention on Growth Mindset for adolescents (SIGMA) to be applied in university students (U-SIGMA). This protocol introduces a two-armed waitlist randomized controlled trial study to examine the effectiveness and acceptability of U-SIGMA in promoting help-seeking among university students in the Greater Bay Area. METHODS: University students (N = 250, ages 18-25) from universities in the Greater Bay Area will be randomized to either the brief digital growth mindset intervention group or the waitlist control group. Participants will report on the mindsets of negative emotions, perceived control over anxiety, attitude toward help-seeking, physical activity, hopelessness, psychological well-being, depression, anxiety, and perceived stress at baseline and the 2-week and 8-week follow-ups through web-based surveys. A 30-min digital intervention will be implemented in the intervention group, with a pre- and post-intervention survey collecting intervention feedback, while the control group will receive the link for intervention after 8 weeks. DISCUSSION: This protocol introduces the implementation plan of U-SIMGA in multi-cities of the Greater Bay Area. The findings are expected to help provide pioneer evidence for the effectiveness and acceptability of the brief digital intervention for university students in the Chinese context and beyond and contribute to the development of accessible and effective prevention and early intervention for university students' mental health. TRIAL REGISTRATION: HKU Clinical Trials Registry: HKUCTR-3012; Registered 14 April 2023.  http://www.hkuctr.com/Study/Show/7a3ffbc0e03f4d1eac0525450fc5187e .\n",
      "---\n",
      "Objective: College students in the United States report high rates of psychological health concerns. Psychological and physical complementary health approaches have been found to be protective for college students. The aims of this study were to assess the feasibility and acceptability of Boabom, a martial art, with college students and to explore any changes in psychosocial outcomes. Participants: Twenty-six college students (25 females; mean age 21.73 years) participated in an 8-week Boabom intervention. Methods: Feasibility measures were attendance and retention of participants; acceptability was based on participants' cognitive and emotional responses to Boabom and was determined through analysis of focus group data. Psychosocial outcomes were assessed through analyses of pre- and postintervention measures of mindfulness, perceived stress, anxiety, depression, resilience, perceived health, and life satisfaction. Results: The Boabom intervention was feasible as 23 of 26 participants attended at least six of eight classes, and 22 participants attended the last class. Students found the intervention acceptable, with three themes emerging from the focus group data to describe the participants' experience with Boabom: (1) disengaging from constant, daily stress and breathing and moving as a group leads to sense of calm, (2) empowerment through incremental mastery of skills, and (3) recognition of the value of health benefits to be gained. Participants reported positive changes in mindfulness, perceived stress, anxiety, depression, resilience, perceived health, and life satisfaction from pre- to postintervention. Conclusions: Boabom may be a feasible and acceptable offering for college students; still, further piloting with other college student populations is recommended.\n",
      "---\n",
      "OBJECTIVES: Graduate students are at greater risk of developing mental health concerns than other adults in their age group. Despite the need for care within this population, there is a lack of literature on accessible interventions designed specifically to meet the needs of graduate students. The present study examines the efficacy of a novel intervention: Mood Lifters for Graduate Students (ML-GS). METHOD: This study is a clinical trial with randomization. The sample size consisted of 131 participants. The average age was 25.95 years, and the sample was 88.5% women, 61.8% White, and 65.6% straight or heterosexual. Participants completed the same survey before and after participating in ML-GS, as well as 1-month after completing ML-GS. Three measures from those surveys were examined in this study: Patient Health Questionnaire-9, Generalized Anxiety Disorder-7, and Perceived Stress Scale. Two-way mixed-design analyses of variance (ANOVAs) and repeated measures ANOVAs were used to analyze these data. RESULTS: Results indicated that participants enrolled in ML-GS experienced significant, clinically meaningful reductions in depression, anxiety, and stress, when compared to their waitlist counterparts. The changes made during the ML-GS program were also maintained at the 1-month follow-up. CONCLUSIONS: These findings suggest that ML-GS is effective in reducing depression, anxiety, and stress among graduate students. It may be a good solution for the large demand for mental health support in that population. (PsycInfo Database Record (c) 2023 APA, all rights reserved).\n",
      "---\n",
      "Rates of mental illness are disproportionately high for young adult and higher education (e.g., university student) populations. As such, universities and tertiary institutions often devote significant efforts to services and programs that support and treat mental illness and/or mental distress. However, within that portfolio of treatment approaches, structured exercise has been relatively underutilised and greater research attention is needed to develop this evidence base. The Stride program is a structured 12-week exercise service for students experiencing mental distress. We aimed to explore the feasibility of the program and assess pre- and post-program change, through assessments of student health, lifestyle, and wellbeing outcomes. Drawing from feasibility and effectiveness-implementation hybrid design literatures, we conducted a non-randomised feasibility trial of the Stride program. Participants were recruited from the Stride program (N = 114, M(age) = 24.21 years). Feasibility results indicated the program was perceived as acceptable and that participants reported positive perceptions of program components, personnel, and sessions. Participants' pre-to-post program change in depressive symptomatology, physical activity levels, mental health-related quality of life, and various behavioural outcomes were found to be desirable. Our results provide support for the feasibility of the Stride program, and more broadly for the delivery and potential effectiveness of structured exercise programs to support university students experiencing mental distress.\n",
      "---\n",
      "Brief, transdiagnostic interventions are an efficient form of mental health care for resource-limited settings like universities. Little research, however, has examined for whom these treatments are most effective. One important factor may be psychotherapy treatment history. Here, we evaluate if treatment history influences the effects of a single-session cognitive behavioral group intervention with optional digital follow-up support across two independent, university-based studies. Undergraduate (N = 143) and graduate (N = 51) students reported their psychotherapy treatment history and completed self-report measures of emotional health before and approximately 1-month following the intervention. Across both samples, psychotherapy treatment history did not moderate changes in depression, anxiety, or emotional avoidance following the intervention. However, participants who were currently receiving psychotherapy began the workshop with lower coping self-efficacy than peers with no prior psychotherapy and saw larger gains in coping self-efficacy at follow-up. Results suggest that regardless of whether a student has previously received psychotherapy, they may benefit from brief, group transdiagnostic interventions. (PsycInfo Database Record (c) 2024 APA, all rights reserved).\n",
      "---\n",
      "OBJECTIVE: Both aerobic exercise and Cognitive Behavioral Therapy (CBT) improve depression, but perceptions of their credibility and efficacy are underexplored. These perceptions can contribute to treatment seeking and outcome. A previous online sample ranging in age and education rated a combined treatment higher than individual components and underestimated their efficacy. The current study is a replication exclusively focused on college students. PARTICIPANTS: Undergraduates (N = 260) participated during the 2021-2022 school year. METHODS: Students reported impressions of each treatment's credibility, efficacy, difficulty, and recovery rate. RESULTS: Students viewed combined therapy as potentially better, but also more difficult, and underestimated recovery rates, replicating previous work. Their efficacy ratings significantly underestimated both meta-analytic estimates and the previous sample's perceptions. CONCLUSIONS: Consistent underestimation of treatment effectiveness suggests that realistic education could prove especially beneficial. Students might be more willing than the broader population to accept exercise as a treatment or adjunct for depression.\n",
      "---\n",
      "INTRODUCTION: The health burden due to depression is ever increasing in the world. Prevention is a key to reducing this burden. Guided internet cognitive-behavioural therapies (iCBT) appear promising but there is room for improvement because we do not yet know which of various iCBT skills are more efficacious than others, and for whom. In addition, there has been no platform for iCBT that can accommodate ongoing evolution of internet technologies. METHODS AND ANALYSIS: Based on our decade-long experiences in developing smartphone CBT apps and examining them in randomised controlled trials, we have developed the Resilience Training App Version 2. This app now covers five CBT skills: cognitive restructuring, behavioural activation, problem-solving, assertion training and behaviour therapy for insomnia. The current study is designed as a master protocol including four 2x2 factorial trials using this app (1) to elucidate specific efficacies of each CBT skill, (2) to identify participants' characteristics that enable matching between skills and individuals, and (3) to allow future inclusion of new skills. We will recruit 3520 participants with subthreshold depression and ca 1700 participants without subthreshold depression, to examine the short-term efficacies of CBT skills to reduce depressive symptoms in the former and to explore the long-term efficacies in preventing depression in the total sample. The primary outcome for the short-term efficacies is the change in depressive symptoms as measured with the Patient Health Questionnaire-9 at week 6, and that for the long-term efficacies is the incidence of major depressive episodes as assessed by the computerised Composite International Diagnostic Interview by week 50. ETHICS AND DISSEMINATION: The trial has been approved by the Ethics Committee of Kyoto University Graduate School of Medicine (C1556). TRIAL REGISTRATION NUMBER: UMIN000047124.\n",
      "---\n",
      "OBJECTIVE: Graduate students frequently experience anxiety, depression, and psychological distress. Counseling centers struggle to meet this need. Brief, skills-based treatments to mitigate burgeoning or mild mental health problems could alleviate this problem. PARTICIPANTS: Participants were 51 graduate students in years one through seven of their respective programs. METHODS: We examined a single-session virtual cognitive behavioral workshop and outcomes up to 6-months later. RESULTS: The program was feasible, acceptable, and beneficial for mood, anxiety, and emotion regulation, even during the COVID-19 pandemic. A majority of participants reported ongoing skills use at follow-up. Primary barriers to more frequent use were forgetting, time constraints, and difficulty when experiencing strong emotions. Few participants endorsed expecting that skills would not be helpful or forgetting how to use skills. CONCLUSIONS: This intervention may provide scalable, much needed aid to graduate schools. Moreover, results highlight opportunities for further enhancing brief interventions.\n",
      "---\n",
      "INTRODUCTION: While there are several web-based mental health interventions, few target higher education (HE) students. Importantly, more research is needed to establish their effectiveness. Here, we provide a pragmatic evaluation of an online intervention (MePlusMe) specifically designed to improve the mental health, well-being, and study skills of HE students. METHODS: In accordance with the published protocol for a feasibility study, we recruited a convenience sample of 137 HE students to participate in an eight-week intervention, with 26 participants retained at week 8. Validated measures of mood (depression and anxiety), well-being, and self-efficacy were collected at baseline, 2, 4, and 8 weeks, alongside two feedback forms assessing design and functionality (baseline) and engagement (week 4 and 8). RESULTS: We observed significant reductions in levels of anxiety and depression as well as increases in well-being, but no changes in self-efficacy. Participants rated the system design and functionality positively and qualitative findings indicated high levels of satisfaction with MePlusMe. DISCUSSION: Findings support both the acceptability and the effectiveness of MePlusMe. Nonetheless, modest retention rates limit the precision and generalisability of these findings. Further investigation should ascertain optimal duration of engagement, most acceptable means of outcome assessment, and further detail about obstacles to utilisation.\n",
      "---\n",
      "BACKGROUND: Only a relatively low proportion of university students seek help for anxiety and depression disorders, partly because they dislike current drug and psychological treatment options and would prefer home-based care. The aim of this study is to determine the feasibility, acceptability and cost utility of Alpha-Stim cranial electrostimulation (CES) delivered through a nurse led primary care clinic as a daily treatment for anxiety and depression symptoms by the student at home in contrast to usual primary care. METHOD: Feasibility and acceptability of a nurse led clinic offering Alpha-Stim CES in terms of the take up and completion of the six-week course of Alpha-Stim CES. Change in score on the GAD-7 and PHQ-9 as measures of anxiety and depression symptoms at baseline and at 8 weeks following a course of Alpha-Stim CES. Similar evaluation in a non-randomised control group attending a family doctor over the same period. Cost-utility analysis of the nurse led Alpha-Stim CES and family doctor pathways with participants failing to improve following further NICE Guideline clinical care (facilitated self-help and cognitive behaviour therapy). RESULTS: Of 47 students (mean age 22.1, years, 79% female opting for Alpha-Stim CES at the nurse-led clinic 46 (97.9%) completed a 6-week daily course. Forty-seven (47) students comprised a comparison group receiving usual family doctor care. Both Alpha-Stim CES and usual family doctor care were associated with large effect size reductions in GAD-7 and PHQ-9 scores from baseline to 8 weeks. There were no adverse effects and only one participant showed a clinically important deterioration in the Alpha-Stim group. In the cost utility analysis, Alpha-Stim CES was a cheaper option than usual family doctor care under all deterministic or probabilistic assumptions. CONCLUSION: Nurse delivered Alpha-Stim CES may be a feasible, acceptable and cheaper way of providing greater choice and home-based care for some university students seeking help from primary care with new presentations of anxiety and depression.\n",
      "---\n",
      "Psychoeducational courses focused on positive psychology interventions have been shown to benefit student well-being. However, since the onset of the COVID-19 pandemic and accompanying social restrictions, many educators have had to deliver their courses online. Given that online teaching presents a very different university experience for students, do psychoeducational courses provide similar well-being benefits in an online format? In this pre-registered study (https://osf.io/3f89m), we demonstrate that despite the challenges of remote learning, first year university students (N = 166) taking an online \"Science of Happiness\" course during the first term experienced positive benefits to mental well-being in comparison to a wait-list control group (N = 198) registered to take the course in the second term. Specifically, university students currently taking the course maintained their mental well-being over the semester relative to the wait-list control who showed a significant decline in well-being and increase in anxiety during the same period. Our findings suggest that the online-administered \"Science of Happiness\" course delivered during the COVID-19 pandemic was associated with a protective effect on mental well-being. We also observed that engagement with the course was high, though there was no evidence that this factor mediated the positive effects we observed. However, we did find evidence that prior interest in increasing well-being influenced the effects of the course; participants with lower well-being interest showed less of a benefit. Our results suggest that online psychoeducational courses might provide a relatively cheap, flexible, and efficient means of providing support as part of an integrated approach to student mental well-being.\n",
      "---\n",
      "The construction of a positive therapeutic relationship was shown to be related with outcome in psychotherapy, but there are only a few prescriptive concepts helping the therapist to contribute to such a process. The present case illustrates the use of Plan Analysis (PA) and the motive-oriented therapeutic relationship (MOTR) in the explanation of the construction of a positive therapeutic relationship. We analyze the case of Sharon, a 22-year-old student presenting with major depressive disorder. We present the case formulation according to PA and select Session 7 from the therapeutic process to illustrate three moments of the therapist focus on the underlying motives: (a) a first moment when the therapist presents with nonoptimal features of responding to the patient's profile, (b) a second moment when the therapist intervenes optimally, and (c) a third moment when the therapist intervenes excellently. We discuss this case from the perspective of personalizing psychotherapy.\n",
      "---\n",
      "We examined how much 62 adult community clients working with 26 doctoral student therapists in the 10th session of individual, open-ended, psychodynamic psychotherapy engaged in affective and cognitive-behavioral exploration preceding and following four different therapist skills (restatement, reflection of feelings, open question for thoughts, open question for feelings). Overall, therapists used more skills focused on thoughts than feelings. At the between-therapists level, therapists tended to use more skills focused on affect when antecedent client affective exploration was high. An increase in affective exploration was associated with skills focused on feelings, however, clients low in attachment anxiety showed a decrease in affective exploration in response to paraphrases (i.e., restatements and reflections of feelings). Open questions for feelings were associated with an increase in cognitive-behavioral exploration, especially for clients low in attachment anxiety. Implications for practice and research are discussed. (PsycInfo Database Record (c) 2022 APA, all rights reserved).\n",
      "---\n",
      "Depression is one of the most common mental health issues in the United States, affecting the lives of millions of people suffering from it as well as those close to them. Recent advances in research on mobile sensing technologies and machine learning have suggested that a person's depression can be passively measured by observing patterns in people's mobility behaviors. However, the majority of work in this area has relied on highly homogeneous samples, most frequently college students. In this study, we analyse over 57 million GPS data points to show that the same procedure that leads to high prediction accuracy in a homogeneous student sample (N = 57; AUC = 0.82), leads to accuracies only slightly higher than chance in a U.S.-wide sample that is heterogeneous in its socio-demographic composition as well as mobility patterns (N = 5,262; AUC = 0.57). This pattern holds across three different modelling approaches which consider both linear and non-linear relationships. Further analyses suggest that the prediction accuracy is low across different socio-demographic groups, and that training the models on more homogeneous subsamples does not substantially improve prediction accuracy. Overall, the findings highlight the challenge of applying mobility-based predictions of depression at scale.\n",
      "---\n",
      "Using multilevel polynomial regression and response surface analysis, we studied the association between Time 1 (T) and Time 2 (T + 1) attachment anxiety and attachment avoidance, and T + 1 psychological distress in 253 nine-session time periods for 65 adult community clients working with 13 doctoral student therapists in open-ended psychodynamic psychotherapy. Results indicated that when client attachment anxiety was consistent and higher from the beginning (T) to the end (T + 1) of a nine-session time period, clients tended to report higher distress at the end of the period; when attachment anxiety was consistent and lower across a time period, clients tended to report lower distress. When attachment anxiety decreased across a time period, clients reported lower distress at the end of the period; when attachment anxiety increased across a time period, clients reported higher distress. Neither within-client consistency nor change in attachment avoidance in a time period was significantly related to client distress at the end of the period. Limitations and implications of the present research are discussed. (PsycInfo Database Record (c) 2022 APA, all rights reserved).\n",
      "---\n",
      "BACKGROUND: Many students in Germany do not meet recommended amounts of physical activity. In order to promote physical activity in students, web-based interventions are increasingly implemented. Yet, data on effectiveness of web-based interventions in university students is low. Our study aims at investigating a web-based intervention for students. The intervention is based on the Health Action Process Approach (HAPA), which discriminates between processes of intention formation (motivational processes) and processes of intention implementation (volitional processes). Primary outcome is change in physical activity; secondary outcomes are motivational and volitional variables as proposed by the HAPA as well as quality of life and depressive symptoms. METHODS: A two-armed randomized controlled trial (RCT) of parallel design is conducted. Participants are recruited via the internet platform StudiCare ( www.studicare.com ). After the baseline assessment (t1), participants are randomized to either intervention group (immediate access to web-based intervention) or control group (access only after follow-up assessment). Four weeks later, post-assessment (t2) is performed in both groups followed by a follow-up assessment (t3) 3 months later. Assessments take place online. Main outcome analyses will follow an intention-to-treat principle by including all randomized participants into the analyses. Outcomes will be analysed using a linear mixed model, assuming data are missing at random. The mixed model will include group, time, and the interaction of group and time as fixed effects and participant and university as random effect. DISCUSSION: This study is a high-quality RCT with three assessment points and intention-to-treat analysis meeting the state-of-the-art of effectiveness studies. Recruitment covers almost 20 universities in three countries, leading to high external validity. The results of this study will be of great relevance for student health campaigns, as they reflect the effectiveness of self-help interventions for young adults with regard to behaviour change as well as motivational and volitional determinants. From a lifespan perspective, it is important to help students find their way into regular physical activity. TRIAL REGISTRATION: The German clinical trials register (DRKS) DRKS00016889 . Registered on 28 February 2019.\n",
      "---\n",
      "BACKGROUND: Meru Health Program (MHP) is a therapist-guided, 8-week intervention for depression delivered via smartphone. The aim was to test its efficacy in patients with clinical depression in a Finnish university student health service. METHODS: Patients (n=124, women 72.6%, mean age 25y) were stratified based on antidepressant status, and randomized into intervention group receiving MHP plus treatment as usual (TAU), and control group receiving TAU only. Depression, measured by the Patient Health Questionnaire-9 (PHQ-9) scale, was the primary outcome. After baseline (T0), follow-ups were at mid-intervention (T4), immediately post-intervention (T8); 3 months (T20), and 6 months (T32) post-intervention. RESULTS: The intervention group and control group did not have significant differences in depression outcomes throughout end of treatment and follow-up. Among secondary outcomes, increase in resilience (d=0.32, p=0.03) and mindfulness (d=0.57, p=0.002), and reduction in perceived stress (d=-0.52, p=0.008) were greater in MHP+TAU versus TAU at T32; no differences were found in anxiety, sleep disturbances, and quality of life between groups. Post-hoc comparisons of patients on antidepressants showed significantly greater reduction in depression at T32 for MHP+TAU versus TAU (d=-0.73, p=0.01); patients not on antidepressants showed no between-group differences. LIMITATIONS: Limitations include unknown characteristics of TAU, potential bias from patients and providers not being blinded to treatment group, and failure to specify examination of differences by antidepressant status in the protocol. CONCLUSIONS: Most outcomes, including depression, did not significantly differ between MHP+TAU and TAU. Exploratory analysis revealed intervention effect at the end of the 6-month follow-up among patients on antidepressant medication.\n",
      "---\n",
      "Experiencing continued growth in demand for mental health services among students, colleges are seeking digital solutions to increase access to care as classes shift to remote virtual learning during the COVID-19 pandemic. Using smartphones to capture real-time symptoms and behaviours related to mental illnesses, digital phenotyping offers a practical tool to help colleges remotely monitor and assess mental health and provide more customised and responsive care. This narrative review of 25 digital phenotyping studies with college students explored how this method has been deployed, studied and has impacted mental health outcomes. We found the average duration of studies to be 42 days and the average enrolled to be 81 participants. The most common sensor-based streams collected included location, accelerometer and social information and these were used to inform behaviours such as sleep, exercise and social interactions. 52% of the studies included also collected smartphone survey in some form and these were used to assess mood, anxiety and stress among many other outcomes. The collective focus on data that construct features related to sleep, activity and social interactions indicate that this field is already appropriately attentive to the primary drivers of mental health problems among college students. While the heterogeneity of the methods of these studies presents no reliable target for mobile devices to offer automated help-the feasibility across studies suggests the potential to use these data today towards personalising care. As more unified digital phenotyping research evolves and scales to larger sample sizes, student mental health centres may consider integrating these data into their clinical practice for college students.\n",
      "---\n",
      "OBJECTIVE: We sought to evaluate the efficacy of using a quick response (QR) code within video education to guide proper use of fentanyl transdermal patches and control pain, depression, and anxiety levels in cancer patients. METHODS: Patients using a fentanyl transdermal patch for the first time were enrolled in the study and then given an information leaflet as well as an informed consent form. We asked them to complete the first questionnaire (Q1) prior to first use of the fentanyl transdermal patch, and then used a random number table to randomize those who completed it into two groups. Participants in group A received a QR code (to make it easier for them to obtain additional video information) and a traditional information leaflet, whereas those in group B (control group) only received a traditional information leaflet. Thereafter, we requested all participants to complete standard questionnaires, which comprised a Numeric Rating Scale (NRS), a Spielberger State-Trait Anxiety Inventory (STAI), as well as a Hospital Anxiety and Depression Scale (HADS). The resulting continuous (with a normal distribution) and categorical data were analyzed using Student's t- and chi-square tests, respectively. We also recorded parameters such as NRS, STAI, and HADS, as well as the frequency of rescue medication in both groups. RESULTS: A total of 154 cancer patients who first used a fentanyl transdermal patch were recruited during the study period, from April to May 2020. Among these, 138 completed follow-up, with 70 and 68 in group A and B, respectively. Participants in both groups had similar baseline and clinical characteristics, whereas significant differences were observed between the groups with regard to the other parameters. Specifically, participants in group A recorded a lower STAI state (38.2 vs 38.9, P=0.027) and HADS (3.9 vs 4.2, P=0.001) anxiety scores, as well as NRS (2.1 vs 2.4, P=0.025) and frequency of rescue medication (0.4 vs 1.4, P<0.001) than those in group B, following 14 days of using a fentanyl transdermal patch. CONCLUSION: Our results indicated that incorporating a QR code within additional video education leads to proper use of a fentanyl transdermal patch and relieves pain and anxiety levels in patients with cancer. Based on this, we recommend a new style of education during care of cancer patients who first use a fentanyl transdermal patch.\n",
      "---\n",
      "There are good theoretical and empirical grounds to suggest that personal practices (PPs; e.g., self-practice/self-reflection [SP/SR] programmes, meditation programmes and personal therapy) can have a positive impact on therapist skills and client outcomes. However, to date, a weakness in many PP studies is the lack of cohort control groups. The two pilot studies reported in this paper examined SP/SR programmes integrated into postgraduate psychology training and are the first to include cohort control groups. Study 1 compared outcomes of students assigned to either SP/SR (n = 17) or a cognitive behaviour therapy (CBT) book study group (n = 13) during their first clinical placement. Study 2 compared outcomes of students who completed the SP/SR programme as part of CBT training (n = 12) with participants who completed the same CBT training in the previous year without an SP/SR programme (n = 17). Significant improvements in therapist confidence for the SP/SR groups were found in both studies. Study 2 also showed significantly higher therapist self-awareness and lower burnout scores in the SP/SR group. These studies are limited by their small sample size and the lack of random allocation. Nevertheless, they provide preliminary empirical evidence demonstrating large effects of PP on trainees' personal and therapist selves and offer a basis for further research using randomized controlled designs with larger sample sizes.\n",
      "---\n",
      "Inspired by the roles of oxytocin in social behaviors, scientists have devoted considerable efforts to examine the association between the oxytocin receptor gene (OXTR) and human attachment, a personality of seek and receiving comfort from intimate figures. However, there are still a lot of controversies on the association. To clarify the relationship, this research integrated three studies: (1) A cross-sectional study indicated that the OXTR polymorphisms (i.e., rs53576 and rs2254298) were not significantly associated with attachment dimensions in a college student sample (N = 1193); (2) A three-wave study showed that the polymorphisms were not associated with the individual differences and changes of attachment dimensions in a freshmen sample (N = 657); and (3) Meta-analysis indicated that attachment dimensions were not associated with the polymorphisms of rs53576 (Anxiety: 14 samples, N = 5053; Avoidance: ten samples, N = 4273) and rs2254298 (Anxiety: ten samples, N = 3670; Avoidance: ten samples, N = 3698). Taken together, these findings provide strong evidence that the OXTR polymorphisms are not related to attachment dimensions.\n",
      "---\n",
      "Objective Few studies have explored the impact of insecure attachment on college student mental health. The present study examined how anxious and avoidant attachment to a mother, father, and best friend were related to depression and resilience in emerging adults exposed to trauma. Participants: Participants included 372 trauma-exposed emerging adults, aged 18-24 (M(age)=19.64, SD = 1.62), from a university in the Midsouth, United States. Method: Participants completed an assessment battery of self-report measures to determine how maternal, paternal, and best friend insecure attachment each uniquely contribute to the variance in depression and resilience. Results: Hierarchical linear regression analyses revealed that anxious and avoidant attachment to a best friend were associated with lower resilience, but only anxious attachment to a best friend was associated with more depressive symptoms. Discussion: Findings highlight the importance of cultivating healthy relationships in a university setting to foster secure peer attachments for emerging adults exposed to adversity.\n",
      "---\n",
      "Comorbidity of generalized anxiety and depression is common in clinical populations. Understanding how change in generalized anxiety and depression are related during counseling may help improve treatment. College student data (N = 51,922) from university and college counseling centers across the United States were used to examine relationships between change in generalized anxiety and depression across 12 counseling sessions using bivariate dual change score models. Results suggested greater improvement in depression was related to greater improvement in generalized anxiety across sessions, but greater improvement in generalized anxiety was related to less improvement in depression across sessions. This same pattern of results generalized to individuals who attended counseling with concerns in anxiety only, depression only, and both anxiety and depression. Although there were general improvements in generalized anxiety and depression across counseling sessions, greater improvement in depression at earlier sessions appeared to be a leading indicator of greater improvement in generalized anxiety at later sessions. Implications and future directions are discussed. (PsycInfo Database Record (c) 2021 APA, all rights reserved).\n",
      "---\n",
      "Considerable evidence from clinical trials supports the efficacy of cognitive therapy (CT) of depression. Less is known about outcomes when provided in other contexts, such as when provided by student therapists. We conducted a non-randomized comparison of student therapists vs. clinical trial therapists on change in depressive symptoms, dropout, change in CT skills, and therapeutic alliance among 100 clients with moderate to severe depression. Treatment manual and duration were the same. Clients treated by student therapists had largely comparable outcomes on depressive symptom change, therapeutic alliance, and CT skills. Results supported non-inferiority of student therapists on change in depressive symptoms, but non-inferiority was not supported when using an interviewer evaluated measure of depression. Evidence of non-inferiority was also obtained for client CT skills and therapeutic alliance. In fact, conventional superiority analyses indicated student therapists outperformed clinical trial therapists on alliance and CT skills. The rate of dropout among student therapists (30%) was numerically higher than among clinical trial therapists (17%) and our results did not support non-inferiority on dropout. CT provided by student therapists can achieve outcomes similar to those in a clinical trial, but more research about dropout is needed.\n",
      "---\n",
      "BACKGROUND: High positive mental health, including the ability to cope with the normal stresses of life, work productively, and be able to contribute to one's community, has been associated with various health outcomes. The role of positive mental health is therefore increasingly recognized in national mental health promotion programs and policies. Mobile health (mHealth) interventions could be a cost-effective way to disseminate positive psychological interventions to the general population. OBJECTIVE: The aim of this study was to estimate the effect of a fully automated mHealth intervention on positive mental health, and anxiety and depression symptomology among Swedish university students using a randomized controlled trial design. METHODS: A 2-arm, single-blind (researchers), parallel-groups randomized controlled trial with an mHealth positive psychology program intervention group and a relevant online mental health information control group was employed to estimate the effect of the novel intervention. Participants were recruited using digital advertising through student health care centers in Sweden. Inclusion criteria were (1) university students, (2) able to read and understand Swedish, (3) and have access to a mobile phone. Exclusion criteria were high positive mental health, as assessed by the Mental Health Continuum Short Form (MHC-SF), or high depression and anxiety symptomology, as assessed by the Hospital Anxiety Depression Scale (HADS). The primary outcome was positive mental health (MHC-SF), and the secondary outcomes were depression and anxiety symptomatology (HADS). The subscales of MHC-SF were also analyzed as exploratory outcomes. Outcomes were measured 3 months after randomization through questionnaires completed on the participants' mobile phones. RESULTS: A total of 654 participants (median age 25 years), including 510 (78.0%) identifying as female, were randomized to either the intervention (n=348) or control group (n=306). At follow-up, positive mental health was significantly higher in the intervention group compared with the control group (incidence rate ratio [IRR]=1.067, 95% CI 1.024-1.112, P=.002). For both depression and anxiety symptomatology, the intervention group showed significantly lower scores at follow-up compared with the control group (depression: IRR=0.820, 95% CI 0.714-0.942, P=.005; anxiety: IRR=0.899, 95% CI 0.840-0.962, P=.002). Follow-up rates were lower than expected (58.3% for primary outcomes and 52.3% for secondary outcomes); however, attrition analyses did not identify any systematic attrition with respect to baseline variables. CONCLUSIONS: The mHealth intervention was estimated to be superior to usual care in increasing positive mental health among university students. A protective effect of the intervention was also found on depressive and anxiety symptoms. These findings demonstrate the feasibility of using an automated mobile phone format to enhance positive mental health, which offers promise for the use of mHealth solutions in public mental health promotion. TRIAL REGISTRATION: International Standard Randomized Controlled Trial Registry ISRCTN54748632; http://www.isrctn.com/ISRCTN54748632.\n",
      "---\n",
      "We investigated the process and outcome of the first silence event for each of 86 clients and 26 doctoral student therapists in individual psychodynamic psychotherapy. Antecedent client collaboration and client attachments styles did not predict type of client or therapist behavior during silence events. Client collaboration increased from before to after silence events if therapists were productive (mostly invitational) and if clients were productive (mostly emotional and expressive) during silence events. Furthermore, subsequent client collaboration was higher when productive therapist silence occurred with clients who were lower rather than higher in attachment anxiety. In contrast, subsequent client collaboration was higher when productive client silence occurred with clients who were higher rather than lower in attachment anxiety. These results suggest that type of silence and client attachment styles are important factors in the immediate outcomes of silence events. (PsycINFO Database Record (c) 2019 APA, all rights reserved).\n",
      "---\n",
      "BACKGROUND: Computerized cognitive behavioral therapy (cCBT) can improve mental health outcomes in White populations; however, it is unknown whether racial and ethnic minority populations receive clinical benefits from cCBT. OBJECTIVE: To study race differences in the impact of cCBT use on mental health outcomes among White and African American primary care patients. DESIGN: Secondary analysis of a three-arm randomized controlled clinical trial. PARTICIPANTS: Primary care physicians (PCPs) referred 2,884 patients aged 18-75; 954 met eligibility criteria (including elevated mood and/or anxiety symptoms indicated as a score >/= 10 on Patient Health Questionnaire or Generalized Anxiety Disorder scale); 704 were randomized in 3:3:1 ratio to receive either (1) the cCBT program (cCBT-only), (2) cCBT plus access to an Internet Support Group (cCBT+ISG), or (3) their PCP's usual care (UC). After exclusions, this study analyzed 689 patients: 590 receiving cCBT, in the combined cCBT-only and cCBT+ISG groups (91 African American, 499 White), and 99 receiving UC (22 African American, 77 White). INTERVENTION(S): We used the Beating the Blues cCBT program that consisted of eight 50-min Internet-delivered interactive sessions and \"homework\" assignments to complete between weekly sessions. College graduate-level care coaches provided six months of remote support. MAIN MEASURE(S): After prior analyses demonstrated no effect of the ISG program, we combined the cCBT-only and cCBT+ISG groups (cCBT) to compare to UC at 6-month follow-up. Controlling for sociodemographic factors, baseline symptoms, and treatment arm, we examined race differences for impact of cCBT versus UC on the mental health-related quality-of-life (Short-form 12 Health Survey), and Patient-Reported Outcomes Measurement Information System (PROMIS) anxiety, and depression. RESULTS: Compared to UC, cCBT had no effect on quality of life (d = 0.10; p = 0.40), depression (d = - 0.19; p = 0.10), or anxiety (d = - 0.16; p = 0.18) for Whites. However, for African American patients, cCBT was associated with significant 6-month decrease in depression (d = - 0.47, p < 0.01) and anxiety scores (d = - 0.54, p < 0.01). CONCLUSIONS: cCBT may be an efficient and scalable first step to eliminating disparities in mental health care. TRIAL REGISTRATION: Clinicaltrials.gov Identifier: NCT01482806. https://www.clinicaltrials.gov/ct2/show/NCT01482806?term=rollman&rank=4.\n",
      "---\n",
      "BACKGROUND: Technical innovations such as ecological momentary assessment (EMA), machine learning (ML), computerized adaptive testing (CAT), Digital Phenotyping, Clinical Decision Support Systems (CDSS), Algorithms, and Biomarkers have caused a paradigm shift in psychiatric care. The aim of the present study was to explore how student nurses view this paradigm shift, by assessing the acceptability of smartphone-based EMA, CAT, and biosensor-based Digital Phenotyping. We also investigated the factors affecting this acceptability. METHOD: Student nurses recruited via nursing schools participated in a quantitative study involving the screenplay method, in which they were exposed to two scenarios about depression care, one featuring EMA and CAT, the other featuring a connected wristband (CW) for Digital Phenotyping. Four acceptability domains (usefulness, usability, reliability, risk) were investigated. RESULTS: We recorded 1216 observations for the first scenario and 1106 for the second. Regarding overall acceptability, the CW was viewed less positively than CAT and EMA. Regarding reliability, whereas respondents believed that the CW could correctly detect depressive relapse, they did not think that EMA and CAT were sufficiently reliable for the accurate diagnosis of depressive disorder. More than 70% of respondents stated that they would nevertheless be interested in offering EMA, CAT or CW to their patients, but more than 60% feared that these devices might hinder the therapeutic relationship. CONCLUSION: This was the first study assessing student nurses' views of EMA, CAT and CW-based digital phenotyping. Respondents were interested in these new technologies and keen to offer them to their patients. However, our study highlighted several issues, as respondents doubted the reliability of these devices and feared that they would hinder the therapeutic relationship. Subgroup analysis revealed correspondences between acceptability profiles and demographic profiles. It is therefore essential for nurses and student nurses to receive training and become involved in the development of this new technologies.\n",
      "---\n",
      "IMPORTANCE: Progress has been made in establishing evidence-based treatments for psychiatric disorders, but these are not often delivered in routine settings. A scalable solution for training clinicians in evidence-based treatments is needed. OBJECTIVE: To compare 2 methods of training college (university) counseling center therapists to treat psychiatric disorders using interpersonal psychotherapy. The hypothesis was that the train-the-trainer condition would demonstrate superior implementation outcomes vs the expert condition. Moderating factors were also explored. DESIGN, SETTING, AND PARTICIPANTS: This cluster-randomized trial was conducted from October 2012 to December 2017 in 24 college counseling centers across the United States. Therapist participants were recruited from enrolled centers, and student patients with symptoms of depression and eating disorders were recruited by therapists. Data were analyzed from 184 enrolled therapists. INTERVENTIONS: Counseling centers were randomized to the expert condition, which involved a workshop and 12 months of follow-up consultation, or the train-the-trainer condition, in which a staff member from the counseling center was coached to train other staff members. MAIN OUTCOMES AND MEASURES: The main outcome was therapist fidelity (adherence and competence) to interpersonal psychotherapy, as assessed via audio recordings of therapy sessions. Therapist knowledge of interpersonal psychotherapy was a secondary outcome. RESULT: A total of 184 therapists (mean [SD] age, 41.9 [10.6] years; 140 female [76.1%]; 142 white [77.2%]) were included. Both the train-the-trainer-condition and expert-condition groups showed significant within-group improvement for adherence to interpersonal psychotherapy (change: 0.233 [95% CI, 0.192-0.274] and 0.190 [0.145-0.235], respectively; both P < .001), with large effect sizes (1.64 [95% CI, 1.35-1.93] and 1.34 [95% CI, 1.02-1.66], respectively) and no significant difference between conditions. Both groups also showed significant within-group improvement in interpersonal therapy competence (change: 0.179 [95% CI, 0.132-0.226] and 0.106 [0.059-0.153], respectively; both P < .001), with a large effect size for the train-the-trainer condition (1.16 [95% CI, 0.85-1.46]; P < .001) and a significant difference between groups favoring the train-the-trainer condition (effect size, 0.47 [95% CI, 0.05-0.89]; P = .03). Knowledge of interpersonal psychotherapy improved significantly within both groups (effect sizes: train-the-trainer, 0.64 [95% CI, 0.28-0.99]; P = .005; expert, 0.69 [95% CI, 0.38-1.01]; P < .001), with no significant difference between groups. The significant moderating factors were job satisfaction for adherence (b, 0.120 [95% CI, 0.001-0.24]; P = .048) and competence (b, 0.133 [95% CI, 0.001-0.27]; P = .048), and frequency of clinical supervision for competence (b, 0.05 [95% CI, 0.004-0.09]; P = .03). CONCLUSIONS AND RELEVANCE: Results demonstrate that the train-the-trainer model produced training outcomes comparable with the expert model for adherence and was superior on competence. Given its potential capability to train more therapists over time, it has the potential to facilitate widespread dissemination of evidence-based treatments. TRIAL REGISTRATION: ClinicalTrials.gov Identifier: NCT02079142.\n",
      "---\n",
      "OBJECTIVES: The Vasarhelyi Method of Child Art Psychotherapy (CAP) is a largely understudied psychotherapeutic modality. This study aims to describe the Vasarhelyi Method of CAP and to describe a stakeholder survey of the views and attitudes of CAP placement supervisors towards CAP among various Child and Adolescent Mental Health Services (CAMHS) teams nationwide. METHODS: A phone- and letter-based survey of 17 CAP placement supervisors who oversee CAP masters students attached to CAMHS teams was performed. A questionnaire was designed enquiring about their experiences with CAP in their clinic and their thoughts on the validity of CAP in various conditions/patient demographics. Participants received written correspondence and were asked to return the survey by post; this was followed up by a telephone call to complete missing surveys. RESULTS: In all, 12 (70.6%) complete surveys were returned. Of the 12 respondents, all considered the CAP student to be a valuable member of the team. In total, 10 respondents (83.33%) stated they would make regular use of the service if it were made available to them. With regard to the therapy itself, nine respondents (75%) believed it was better for internalising symptoms than externalising symptoms. Depression, anxiety, attachment difficulties, trauma, deliberate self-harm and possible psychosomatic illnesses are the conditions viewed as receiving the most benefit from CAP. No gender difference was reported. CONCLUSION: CAP is considered an effective modality and valuable addition to a psychotherapeutic repertoire. Further, more extensive studies are needed in this field.\n",
      "---\n",
      "BACKGROUND: Anxiety and depression continue to be prominent experiences of students approaching their university counseling service. These services face unique challenges to ensure that they continue to offer quality support with fewer resources to a growing student population. The convenience and availability of mobile phone apps offer innovative solutions to address therapeutic challenges and expand the reach of traditional support. OBJECTIVE: The primary aim of this study was to establish the feasibility of a trial in which guided use of a mobile phone well-being app was introduced into a student counseling service and offered as an adjunct to face-to-face counseling. METHODS: The feasibility trial used a two-arm, parallel nonrandomized design comparing counseling alone (treatment as usual, or TAU) versus counseling supplemented with guided use of a mobile phone well-being app (intervention) for 38 university students experiencing moderate anxiety or depression. Students in both conditions received up to 6 sessions of face-to-face counseling within a 3-month period. Students who approached the counseling service and were accepted for counseling were invited to join the trial. Feasibility factors evaluated include recruitment duration, treatment preference, randomization acceptability, and intervention fidelity. Clinical outcomes and clinical change were assessed with routine clinical outcome measures administered every counseling session and follow-up phases at 3 and 6 months after recruitment. RESULTS: Both groups demonstrated reduced clinical severity by the end of counseling. This was particularly noticeable for depression, social anxiety, and hostility, whereby clients moved from elevated clinical to low clinical or from low clinical to nonclinical by the end of the intervention. By the 6-month follow-up, TAU clients' (n=18) anxiety had increased whereas intervention clients' (n=20) anxiety continued to decrease, and this group difference was significant (Generalized Anxiety Disorder-7: t(22)=3.46, P=.002). This group difference was not replicated for levels of depression: students in both groups continued to decrease their levels of depression by a similar amount at the 6-month follow-up (Physical Health Questionnaire-9: t(22)=1.30, P=.21). CONCLUSION: Supplementing face-to-face counseling with guided use of a well-being app is a feasible and acceptable treatment option for university students experiencing moderate anxiety or depression. The feasibility trial was successfully embedded into a university counseling service without denying access to treatment and with minimal disruption to the service. This study provides preliminary evidence for using a well-being app to maintain clinical improvements for anxiety following the completion of counseling. The design of the feasibility trial provides the groundwork for the development of future pilot trials and definitive trials embedded in a student counseling service. TRIAL REGISTRATION: ISRCTN registry ISRCTN55102899; http://www.isrctn.com/ISRCTN55102899.\n",
      "---\n",
      "BACKGROUND: There has been growing interest in the potential of emerging internet-delivered psychological treatments for supporting the mental health needs of university students. However, no large-scale prospective effectiveness trials examining their real-world potential have been reported. OBJECTIVE: The aim of the current study was to evaluate the acceptability and effectiveness of a brief, 5-week, internet-delivered and therapist-guided intervention for anxiety and depression, when delivered as part of routine care by a university counselling service. DESIGN: A large, prospective, single-group Phase-IV clinical trial. Students (n = 1326) engaging with the university counselling service were provided the opportunity to receive the intervention based on their preferences and identified needs. Students completed standardised measures of anxiety and depression at pre-treatment, each week of the intervention, post-treatment and 3-month follow-up. RESULTS: Over a 4 year period, 1081 students (10% of those presenting to the counselling service) participated in the intervention. Large clinical reductions in symptoms of both anxiety (% reduction = 41%; Cohen's d = 0.94) and depression (% reduction = 36%; Cohen's d = 0.81) were observed alongside high levels of acceptability. The intervention required relatively little counsellor time (M = 36.28 mins; SD = 20.56) per student, and symptom deterioration was observed in less than 5% of students. CONCLUSION: The findings of the current study are supportive of internet-delivered interventions provided as routine care to university students. Further research is needed to carefully explore whether these interventions could be used with a larger proportion of students presenting to counselling services, paying close attention to acceptability, engagement and clinical outcomes.\n",
      "---\n",
      "The study aimed to test whether countertransference reactions contain valid information about the patient. The authors examined whether a significant part of the variance in emotional, cognitive, and motivational responses to recorded therapy sessions is attributable to the patient. Six student raters listened to 605 audiotaped sessions of 81 patients with major depression treated by 19 therapists and indicated their reactions using a modified version of the Countertransference Questionnaire. The relative amount of variance in countertransference reactions due to differences between patients, ranging from 2% to 16%, was significant for most of the countertransference dimensions. Reactions were influenced by type of treatment and severity of depression but not by comorbid personality disorder or interpersonal problems. The relative amount of variance due to differences between raters was large, averaging at 23%. The authors conclude that-albeit having a relatively low \"signal-to-noise ratio\"in raters without psychotherapy training-countertransference reactions contain valid clinical information.\n",
      "---\n",
      "BACKGROUND: Prevention of depression is a priority to reduce its global disease burden. Targeting specific risk factors, such as rumination, may improve prevention. Rumination-focused Cognitive Behavioral Therapy (RFCBT) was developed to specifically target depressive rumination. OBJECTIVE: The primary objective of this study was to test whether guided Web-based RFCBT (i-RFCBT) would prevent the incidence of major depression relative to usual care in UK university students. The secondary objective was to test the feasibility and estimated effect sizes of unguided i-RFCBT. METHODS: To address the primary objective, a phase III randomized controlled trial was designed and powered to compare high risk university students (N=235), selected with elevated worry/rumination, recruited via an open access website in response to circulars within universities and internet advertisements, randomized to receive either guided i-RFCBT (interactive Web-based RFCBT, supported by asynchronous written Web-based support from qualified therapists) or usual care control. To address the secondary objective, participants were also randomized to an adjunct arm of unguided (self-administered) i-RFCBT. The primary outcome was the onset of a major depressive episode over 15 months, assessed with structured diagnostic interviews at 3 (postintervention), 6, and 15 months post randomization, conducted by telephone, blind to the condition. Secondary outcomes of symptoms of depression and anxiety and levels of worry and rumination were self-assessed through questionnaires at baseline and the same follow-up intervals. RESULTS: Participants were randomized to guided i-RFCBT (n=82), unguided i-RFCBT (n=76), or usual care (n=77). Guided i-RFCBT reduced the risk of depression by 34% relative to usual care (hazard ratio [HR] 0.66, 95% CI 0.35 to 1.25; P=.20). Participants with higher levels of baseline stress benefited most from the intervention (HR 0.43, 95% CI 0.21 to 0.87; P=.02). Significant improvements in rumination, worry, and depressive symptoms were found in the short-to-medium term. Of the 6 modules, guided participants completed a mean of 3.46 modules (SD 2.25), with 46% (38/82) being compliant (completing >/=4 modules). Similar effect sizes and compliance rates were found for unguided i-RFCBT. CONCLUSIONS: Guided i-RFCBT can reduce the onset of depression in high-risk young people reporting high levels of worry/rumination and stress. The feasibility study argues for formally testing unguided i-RFCBT for prevention: if the observed effect sizes are robustly replicated in a phase III trial, it has potential as a scalable prevention intervention. TRIAL REGISTRATION: ISRCTN Registry ISRCTN12683436; https://www.isrctn.com/ISRCTN12683436 (Archived by WebCite at http://www.webcitation.org/77fqycyBX). INTERNATIONAL REGISTERED REPORT IDENTIFIER (IRRID): RR2-10.1186/s13063-015-1128-9.\n",
      "---\n",
      "OBJECTIVE: Social anxiety increases college student drop-out risk and stifles employment opportunities. Group cognitive-behavioral therapy with exposure (CBT ERP) has the potential to alleviate campus resource strain but remains under-researched with college students. The present study investigated the efficacy of group CBT ERP in a randomized clinical trial on a college campus. METHOD: Thirty-one postsecondary students were randomly assigned to an exposure-only group or an active control. RESULTS: Linear mixed-effects models indicated significant Group x Time interactions for general social anxiety (t = -2.02, g = 0.62) and depression (t = -2.77, g = 0.55); nonsignificant main effects were found for group and time variables. On a measure of fear of negative evaluation, only the main effect of time was significant (t = 2.15, p = 0.032). CONCLUSIONS: When compared to an active control group, CBT ERP is an efficacious and time-effective treatment for college students experiencing social anxiety.\n",
      "---\n",
      "BACKGROUND: Anxiety is a common disorder which refers to a significant and persistent fear of one or more social or performance situations. This study investigated the impacts of cognitive-behavioral intervention on anxiety and depression among undergraduate students enrolled in social science education programs at public universities in the Southeast Nigeria. METHODS: Participants were 55 undergraduate students enrolled in social science education programs at public universities in the Southeast Nigeria. The adequacy of the sample size used was determined using GPower software. Cognitive-behavioral treatment manuals on anxiety and depression were used to deliver the intervention. Data analyses were completed using repeated measures analysis of variance. RESULTS: Results indicated a significant positive impact of cognitive-behavioral intervention on anxiety and depression among social science education students exposed to the cognitive-behavioral intervention when compared to the waitlisted group. Results also showed that there was a significant time x group interaction for anxiety and depression. Follow-up tests showed that significant reduction in anxiety and depression persisted after 3 months for the cognitive-behavioral intervention group in comparison to the waitlisted control group. CONCLUSION: We concluded that cognitive-behavioral intervention was a successful intervention which decreased the symptoms of anxiety and depression in social science education students who participated in the study. Additional studies are recommended to further corroborate the influence of cognitive-behavioral intervention in the reduction of anxiety and depressive symptoms in the Nigerian undergraduate student population.\n",
      "---\n",
      "INTRODUCTION: Due to an increasing demand for healthcare in low-income and middle-income countries in Asia, it is important to develop a strategy to manage work-related stress in healthcare settings, particularly among nurses in these countries. The purpose of this three-arm randomised controlled trial (RCT) is to examine the effects of a newly developed smartphone-based multimodule stress management programme on reducing severity of depressive and anxiety symptoms as primary outcomes at 3-month and 7-month follow-ups among hospital nurses in Vietnam. METHODS AND ANALYSIS: The target study population will be registered nurses working in a large general hospital (which employs approximately about 2000 nurses) in Vietnam. They will be invited to participate in this study. Participants who fulfil the eligibility criteria will be randomly allocated to the free-choice, multimodule stress management (intervention group A, n=360), the internet cognitive behavioural therapy (iCBT), that is, fixed-order stress management (intervention group B, n=360), or a treatment as usual control group (n=360). Two types (free-choice and fixed sequential order) of smartphone-based six-module stress management programmes will be developed. Participants in the intervention groups will be required to complete one of the programmes within 10 weeks after the baseline survey. The primary outcomes are depressive and anxiety symptoms, measured by using the Depression Anxiety and Stress Scales (DASS) at 3-month and 7 month follow-ups. ETHICS AND DISSEMINATION: The study procedures have been approved by the Research Ethics Review Board of Graduate School of Medicine/Faculty of Medicine, the University of Tokyo (no 11991) and the Ethical Review Board for Biomedical Research of Hanoi University of Public Health (no 346/2018/YTCC-HD3). If a significant effect of the intervention programmes will be found in the RCT, the programmes will be made available to all nurses in the hospital including the control group. If the positive effects are found in this RCT, the e-stress management programmes will be disseminated to all nurses in Vietnam. TRIAL REGISTRATION NUMBER: UMIN000033139; Pre-results.\n",
      "---\n",
      "Medical and health science graduate students report greater anxiety problems than the general population, but they are less likely to seek treatment due to cultural and logistical barriers. One preventative approach that overcomes these barriers is web-based cognitive behavioral therapy (webCBT). It is unknown whether webCBT is effective for preventing anxiety escalation within this population. A randomized controlled trial was conducted, comparing the effects of webCBT versus a control group (CG). Medical university students (n=594; Mage=27; 67% female; 80% Caucasian) completed online baseline measures and four assigned online activities. Measures were re-administered after approximately three months. There was a small interaction effect between time of assessment and treatment condition. Anxiety severity was lower in the webCBT (M[SD]=2.88[3.36]) versus CG condition (M[SD]=3.69 [3.35]) at follow-up. This effect was moderate for students with mild, versus minimal, anxiety at baseline. The proportion of students with possible anxiety disorder was lower in the webCBT (4.5%) versus CG (8.5%) condition, and the proportion of mildly anxious students with a clinically significant increase in symptoms was lower in the webCBT (10%) versus CG (20%) condition. WebCBT may aid in preventing anxiety escalation in this population, particularly for at-risk students who report mild anxiety symptoms.\n",
      "---\n",
      "Objectives: Evidence-based depression therapies are difficult to implement in nursing homes. We present data for BE-ACTIV, a 10-week depression treatment designed for implementation in nursing homes, to address questions of treatment fidelity (delivery, receipt, and enactment) in that context. Method: Participants were 41 patients from 13 nursing homes in the treatment arm of a clinical trial, treated by graduate student therapists. Therapists and their supervisor rated their audio-recorded sessions for adherence to treatment protocol and session quality. Results: Delivery of core program elements averaged from 80-94% across all sessions; mean quality was 5.6 (SD 0.61) out of 6 points. Delivery of core components to nursing home activities staff who collaborated in the treatment was similarly high. Patients received an average of 7.32 sessions (SD 3.39); 17 completed 10 sessions. The theoretical basis of BE-ACTIV is behavioral activation; therapist-client dyads planned new pleasant events weekly, from a mean of 3.66 (SD 1.35) after the first session to a mean of between 5 and 6 activities a week across sessions 6-9, with a similar progression in percent activities completed. Activities enactment was significantly related to the likelihood of remission at post-treatment, and of maintaining improvement at 3-month follow-up. Treatment receipt and enactment were also related to improved mood from baseline to 3 months. Conclusion: Results demonstrate delivery, receipt, and successful enactment of BE-ACTIV core components in diverse nursing homes and patients, and support the theoretical premise of the intervention. These findings support further implementation work for the BE-ACTIV intervention.\n",
      "---\n",
      "Anxiety disorders and/or depression are the most frequently diagnosed mental health problems (MHP) among American college students. Everyday technology (EDT) is being used with those who have MHP to help them cope with the mental/cognitive disabilities arising from having anxiety and/or depression. Deveau investigated the types of EDT students with MHP use to manage their roles as college students. While this research indicated that individuals with MHP were open to learning about EDT they can use, the author recommended further investigation of the topic. This qualitative study further investigated what types of EDT college students use to manage their anxiety disorder and/or depression. Our research found that while college students with anxiety and depression are familiar with and willing to use EDT to help compensate for some of the issues they have resulting from their anxiety and depression, some reported that the use of EDT contributes to their problems. Implications for further investigation include continuing to examine the use of EDT amongst a larger group of college students. Future research should also investigate creating a peer run technology group, taught by interested student such as occupational therapy, psychology or computer science students to name a few, to inform students about apps to manage scheduling, routines, medication management and symptoms management. Additionally, the positive and negative aspects of social media and how to manage ones use of it use would be a relevant topic for group discussion.Implications for rehabilitationWhile most college students currently use everyday technology as a part of their lives, it has positive and negative meanings to college students who have anxiety and/or depression.Finding out what a user wants to do with technology and the meaning it has for them is a critical part of insuring the right match between a person and an assistive technology intervention.Consider a full range of no to high technology options when working with college students who experience the mental/cognitive disabilities resulting from mental health problems to identify assistive technology solutions.\n",
      "---\n",
      "The high rates of anxiety in college students and the many barriers to accessing evidence-based care in communities and on campuses indicate a clear need to explore ways to increase access to evidence-based treatments. Web-based interventions and preventions are one way to bridge this gap; they hold the potential to decrease mental health disparities and enhance student functioning. The current RCT examined the acceptability and efficacy of a 3-session web-based therapist-assisted acceptance-based behavioral intervention targeting anxiety (Surviving and Thriving During Stress) for college students versus a waitlist (WL) control condition, in a sample of racially and ethnically diverse college students. Overall, participants rated the program as helpful and acceptable. Mixed-effects regression models (MRMs) were run in SPSS to examine the effects of time, condition, and Condition x Time on outcomes and hypothesized mechanisms. Significant Condition x Time interactions for general anxiety, depression, and quality of life (QOL) emerged, suggesting that SATDS participants reported significantly greater changes on these outcomes from pre- to posttreatment versus WL. However, interaction effects were nonsignificant for anxious arousal and social anxiety. MRMs examining hypothesized mechanisms revealed significant Condition x Time interactions for experiential avoidance, decentering, and values-based living. However, interaction effects were nonsignificant for mindfulness. All significant gains were maintained at 1-month follow-up, with the exception of QOL. Results contribute to the growing literature on the acceptability and efficacy of web-based approaches, and suggest these approaches can be effective for diverse college students, and may provide a unique platform to increase access to evidence-based care.\n",
      "---\n",
      "Transdiagnostic cognitive behavioral interventions target different cognitive processes to promote mental health, including cognitive fusion and cognitive reappraisal. Determining the relative impact of cognitive fusion and reappraisal on a range of student mental health concerns could help interventions target psychopathological cognitive processes more effectively. Therefore, this study examined the longitudinal impact of cognitive fusion and reappraisal on mental health and functioning outcomes. A series of hierarchical regression models tested the effects of cognitive fusion and reappraisal in a sample of college students (n = 339). When controlling for reappraisal and baseline symptoms, fusion predicted distress, depression, generalized anxiety, social anxiety, hostility, academic distress, and student role problems 1 month later. Reappraisal predicted only student role problems longitudinally when controlling for fusion. These results suggest that cognitive fusion is a stronger predictor than reappraisal for a range of student mental health concerns and may be a particularly important target for improving student mental health.\n",
      "---\n",
      "AIM: Timely access to treatment in the early stages of mental illness is pivotal to recovery and prevention of longer-term disablement. Yet, this can be challenging at times of growing service demands. The headspace Brief Interventions Clinic (BIC) is an innovative treatment model aiming to promote quick access to evidence-based interventions for young people presenting with early signs of mental disorders. METHODS: The BIC treatment package comprises eight skill-building and behavioural intervention modules that young people can choose from. Treatment occurs over a maximum of six sessions with graduate students under supervision. Treatment outcomes are compared at baseline and final sessions, with client satisfaction measured at the final session. RESULTS: Allocation to the BIC occurred within 2 to 3 weeks of initial referral. Most young people (73%) completed their treatment, attending on average four sessions. Significant reductions in overall psychological distress, depressive symptomatology and anxiety severity ratings were observed at completion of treatment, as well as significant improvements in social and occupational functioning. About 91% of young people stated that their outcome expectations had been entirely met and 95% were entirely satisfied with their treatment experience. A strong therapeutic relationship, specific strategies for managing emotions, coping and problem-solving and a choice of engaging in flexible and modularised content were identified as the most valued experiences by young people. CONCLUSION: The BIC might be ideally suited for health care settings aiming to promote timely access to treatments for young people with early signs of mental disorders.\n",
      "---\n",
      "BACKGROUND: Today, college students are dealing with depression at some of the highest rates in decades. As the primary mental health service provider, university counseling centers are limited in their capacity and efficiency to provide mental health care due to time constraints and reliance on students' self-reports. A mobile behavioral-sensing platform may serve as a solution to enhance the efficiency and accessibility of university counseling services. OBJECTIVE: The main objectives of this study are to (1) understand the usefulness of a mobile sensing platform (ie, iSee) in improving counseling services and assisting students' self-management of their depression conditions, and (2) explore what types of behavioral targets (ie, meaningful information extracted from raw sensor data) and feedback to deliver from both clinician and students' perspectives. METHODS: We conducted semistructured interviews with 9 clinicians and 12 students with depression recruited from a counseling center at a large Midwestern university. The interviews were 40-50 minutes long and were audio recorded and transcribed. The interview data were analyzed using thematic analysis with an inductive approach. Clinician and student interviews were analyzed separately for comparison. The process of extracting themes involved iterative coding, memo writing, theme revisits, and refinement. RESULTS: From the clinician perspective, the mobile sensing platform helps to improve counseling service by providing objective evidence for clinicians and filling gaps in clinician-patient communication. Clinicians suggested providing students with their sensed behavioral targets organized around personalized goals. Clinicians also recommended delivering therapeutic feedback to students based on their sensed behavioral targets, including positive reinforcement, reflection reminders, and challenging negative thoughts. From the student perspective, the mobile sensing platform helps to ease continued self-tracking practices. Students expressed their need for integrated behavioral targets to understand correlations between behaviors and depression. They also pointed out that they would prefer to avoid seeing negative feedback. CONCLUSIONS: Although clinician and student participants shared views on the advantages of iSee in supporting university counseling, they had divergent opinions on the types of behavioral targets and feedback to be provided via iSee. This exploratory work gained initial insights into the design of a mobile sensing platform for depression management and informed a more conclusive research project for the future.\n",
      "---\n",
      "BACKGROUND: Depression is one of the leading contributors to the global burden of disease. However, treatment availability is often very poor in low-income and middle-income countries. In a randomised clinical trial, we investigated the efficacy of internet-based behavioural activation with lay counsellor support compared with online minimal psychoeducation without support for depression in Indonesia (a middle-income country). METHODS: We did a community-based, two-group, randomised controlled trial in Indonesia. Eligible participants were aged 16 years or older, scored 10 or above on the Patient Health Questionnaire 9 (PHQ-9), met the criteria for major depressive disorder or persistent depressive disorder based on the Structured Clinical Interview for DSM-5, were proficient in Bahasa Indonesia, and could use the internet. Participants were randomly allocated (1:1) by a research assistant using a web-based randomisation program to online behavioural activation with lay support (termed Guided Act and Feel Indonesia [GAF-ID]) or online psychoeducation without further support. Randomisation was done within a random permuted block design and was stratified by sex and depression severity (ie, PHQ-9 10-14 vs >/=15). The primary outcome was self-reported PHQ-9 score at 10 weeks from baseline. Research assistants were masked to group allocation until after the assessment of the primary outcome. Interventions were described to participants during the consent procedure and after randomisation, but no indication was given as to which was the intervention of interest and which was the control. Analysis was by intention to treat. The trial was registered in the Netherlands Trial Register, number NTR5920. It is closed to new particpants, and follow-up has been completed. FINDINGS: Between Sept 6, 2016, and May 1, 2017, 313 participants were enrolled and randomly assigned, 159 to the GAF-ID group and 154 to the online psychoeducation group. At 10 weeks, PHQ-9 scores were significantly lower in the GAF-ID group than in the online psychoeducation group (mean difference -1.26 points [95% CI -2.29 to -0.23]; p=0.017), and participants in the GAF-ID group had a 50% higher chance of remission at 10 weeks (relative risk 1.50 [95% CI 1.19 to 1.88]; p<0.0001). An effect size of 0.24 for the GAF-ID group compared with the control group at 10 weeks was sustained over time (effect size 0.24 at 3 months, and 0.27 at 6 months). No adverse events were reported in either group. INTERPRETATION: To our knowledge, ours is the first adequately powered randomised clinical trial of an internet-based intervention for depression in a low-income or middle-income country. Online behavioural activation with lay counsellor support efficaciously reduced symptoms of depression, and could help to bridge the mental health gap in low-income and middle-income countries. FUNDING: Indonesia Endowment Fund for Education, University of Groningen.\n",
      "---\n",
      "We studied 814 client laughter events nested within 330 sessions nested within 33 clients nested within 16 therapists at one community clinic in which doctoral student therapists provided psychodynamic psychotherapy to adult community clients. Each laughter event in Sessions 1 to 5 and 16 to 20 was rated for cheerfulness, politeness, reflectiveness, contemptuousness, and nervousness. Across all clients, there was an average of about one laughter even per session. The average laughter event lasted 3.5 seconds, and was characterized primarily by politeness and reflectiveness. Overall amount of client laughter and the characteristics of client laughter did not change across sessions. Most of the variance in the laughter characteristics was at the session level, with less variance attributable to clients and therapists. When client attachment avoidance was high, laughter was less cheerful and more contemptuous. When client attachment anxiety was high, laughter was more nervous. Sessions with more reflective laughter were evaluated more positively by clients, and therapists whose clients had more reflective laughter had more positive client session evaluations. Furthermore, within a therapist's caseload, clients with the most nervous and contemptuous laughter evaluated sessions most positively. Implications are discussed. (PsycINFO Database Record\n",
      "---\n",
      "BACKGROUND: College is a time of major transition in the lives of many young adults. Roughly 30% of college students have reported that anxiety and depressive symptoms negatively affect their lives and academic functioning. Currently, anxiety has surpassed depression as the reason college students seek help at counseling centers. Unfortunately, only one third of students receive treatment for anxiety and only 25% of students receive treatment for their depression. OBJECTIVES: The objectives of this pilot project were to (a) assess levels of depression and anxiety in identified \"at risk\" college students who present to the college Student Health Services (Primary Care), (b) implement a new cognitive behavioral therapy-based intervention titled \"Creating Opportunities for Personal Empowerment\" (COPE), and (c) evaluate the effectiveness of the intervention on students' levels of depression and anxiety as well as satisfaction with the intervention. DESIGN: A one group pre- and post-test design was used. RESULTS: Students who received COPE demonstrated clinically meaningful improvement in depressive and anxiety symptoms as measured by the Beck Depression Inventory-II and the State-Trait Anxiety Inventory. CONCLUSION: COPE is an effective brief program for reducing depression and anxiety in college-age youth. Implementation of evidenced-based programs into the college experience could lead to less severe depression and anxiety and better academic performance, ultimately increasing the likelihood of students successfully completing their academic programs.\n",
      "---\n",
      "BACKGROUND: Childhood adversities are frequent among adults who seek treatment for depression or anxiety. These disorders are commonly treated by psychotherapy. Yet it is not known if specific types or durations of psychotherapy are particularly suited for patients who have suffered various early adversities. METHODS: 221 depressed and anxious adult outpatients from community, student, occupational, and private healthcare services filled the Childhood Family Atmosphere Questionnaire. They were randomly assigned to short- (solution-focused or psychodynamic) or long-term (psychodynamic) psychotherapy. Outcome was assessed via patient questionnaires and clinician interviews of psychiatric symptoms and global functioning during a 5-year follow-up. Linear regression analyses were conducted. RESULTS: Less separations from caregivers expectedly predicted better outcomes in all therapies; unexpectedly, so did greater abuse. Family unhappiness and parental problems predicted faster or greater improvement when patients were assigned to a short- or long-term psychodynamic therapy model. LIMITATIONS: As patients with psychotic, substance abuse, and severe personality disorders were screened out, findings might not generalize to these patient groups. CONCLUSIONS: Patients with certain childhood adversities appear to respond with faster or greater improvement when the psychotherapy model is explicitly focused on working through the potential connections between past and current problems. If confirmed by in-depth studies, the findings may help match psychotherapeutic models with given patient complaints, as well as fine-tune different psychosocial interventions to individual needs for optimizing treatment outcomes.\n",
      "---\n",
      "Childhood adversities frequently precede adulthood depression and anxiety. Yet, how they impact needed treatment duration, type or focus in these common disorders, is unclear. For developing more individualized and precise interventions, we investigated whether specific early adversities associate with patients' distinct psychiatric problems, psychological vulnerabilities, and suitability for psychotherapy. A total of 221 depressed and anxious adult outpatients (excluding psychotic, severe personality, bipolar, and substance abuse disorders) referred from community, student, occupational, and private healthcare services filled the Childhood Family Atmosphere Questionnaire (CFAQ). They also filled self-reports on interpersonal behavior and problems, perceived competence, dispositional optimism, sense of coherence, defenses, and psychiatric history. Clinicians assessed the patients' symptomatology, personality, object relations, cognitive performance, and psychotherapy suitability. Regression analyses were conducted. Childhood adversities predicted both worse current psychological functioning (e.g., interpersonal problems), and better clinician-rated capacities for benefiting from psychotherapy (e.g. self-reflection, capacity for interaction). Parental problems had the most numerous negative associations to psychological functioning. Best capacities for psychotherapy were predicted by recollected family unhappiness. Associations with psychiatric criteria were, however, largely non-significant. In conclusion, for psychosocial treatment planning, patients' early adversities may indicate both vulnerability and resources. As childhood adversities are frequent among treatment-seekers, further studies examining how early adversities predict psychotherapy outcome are needed.\n",
      "---\n",
      "BACKGROUND: Evidence for the efficacy of computer-based psychological interventions is growing. A number of such interventions have been found to be effective, especially for mild to moderate cases. They largely rely on psychoeducation and 'homework tasks', and are specific to certain diagnoses (e.g. depression). AIMS: This paper presents the results of a web-based randomized controlled trial of Manage Your Life Online (MYLO), a program that uses artificial intelligence to engage the participant in a conversation across any problem topic. METHOD: Healthy volunteers (n = 213) completed a baseline questionnaire and were randomized to the MYLO program or to an active control condition where they used the program ELIZA, which emulates a Rogerian psychotherapist. Participants completed a single session before completing post-study and 2-week follow-up measures. RESULTS: Analyses were per protocol with intent to follow-up. Both programs were associated with improvements in problem distress, anxiety and depression post-intervention, and again 2 weeks later, but MYLO was not found to be more effective than ELIZA. MYLO was rated as significantly more helpful than ELIZA, but there was no main effect of intervention on problem resolution. CONCLUSIONS: Findings are consistent with those of a previous smaller, laboratory-based trial and provide support for the acceptability and effectiveness of MYLO delivered over the internet for a non-clinical sample. The lack of a no-treatment control condition means that the effect of spontaneous recovery cannot be ruled out.\n",
      "---\n",
      "This study evaluated the efficacy of Internet-based stress management programs for college students. This approach is particularly fitting for students owing to a lack of mental health resources on campus and to high levels of Internet use among students. Because a history of interpersonal trauma (IPT) is associated with more distress and poorer academic performance, IPT history was assessed as a moderator of intervention efficacy. Students (N = 365) were randomly assigned to a mindfulness plus present control intervention, a mindfulness only intervention, or a stress management information condition that served as an active comparison. Prior research has supported the efficacy of the mindfulness plus present control intervention (Nguyen-Feng et al., 2015). Outcome measures were self-report measures of stress, anxiety, depression, and perceived stress completed online at preintervention, postintervention, and 2 follow-ups (2-3 weeks and 4-5 weeks postintervention). Linear mixed modeling was used to assess change over time. Participants in all 3 groups reported significant decreases on all primary outcomes. All time-by-intervention group interaction effects were nonsignificant, suggesting that the 3 conditions were equally effective. When examining IPT history as a moderator, the mindfulness plus present control and stress management conditions were both more effective for IPT survivors than the mindfulness only intervention. Results suggested that Internet-based interventions are effective for lowering distress among college students and that specific approaches may be differentially effective for certain subgroups of students. They also suggested that providing students with stress management information without providing training in 1 specific skill may also be helpful. (PsycINFO Database Record\n",
      "---\n",
      "OBJECTIVE: To investigate whether and how doctors' attachment styles and emotional intelligence (EI) might influence patients' emotional expressions in general practice consultations. METHODS: Video recordings of 26 junior doctors consulting with 173 patients were coded using the Verona Coding Definition of Emotional Sequences (VR-CoDES). Doctors' attachment style was scored across two dimensions, avoidance and anxiety, using the Experiences in Close Relationships: Short Form questionnaire. EI was assessed with the Mayer-Salovey-Caruso Emotional Intelligence Test. Multilevel Poisson regressions modelled the probability of patients' expressing emotional distress, considering doctors' attachment styles and EI and demographic and contextual factors. RESULTS: Both attachment styles and EI were significantly associated with frequency of patients' cues, with patient- and doctor-level explanatory variables accounting for 42% of the variance in patients' cues. The relative contribution of attachment styles and EI varied depending on whether patients' presenting complaints were physical or psychosocial in nature. CONCLUSION: Doctors' attachment styles and levels of EI are associated with patients' emotional expressions in primary care consultations. Further research is needed to investigate how these two variables interact and influence provider responses and patient outcomes. PRACTICE IMPLICATIONS: Understanding how doctors' psychological characteristics influence PPC may help to optimise undergraduate and postgraduate medical education.\n",
      "---\n",
      "OBJECTIVE: The aim of this randomised controlled trial (RCT) was to evaluate the efficacy of a guided internet-based stress management intervention (iSMI) among distressed managers compared with a attention control group (AC) with full access to treatment-as-usual. METHOD: A total sample of 117 distressed managers, mainly employed in the healthcare, IT, communication and educational sector, were randomised to either iSMI (n=59) or an AC group (n=58). The iSMI consisted of eight modules including cognitive behavioural stress management and positive management techniques. Participants received a minimal and weekly guidance from a psychologist or master-level psychology student focusing on support, feedback and adherence to the intervention. Self-report data were assessed at pre, post and 6 months after the intervention. The primary outcome was perceived stress (Perceived Stress Scale-14). The secondary outcomes included mental and work-related health outcomes. RESULTS: Participants in the iSMI intervention reported significantly less symptoms of perceived stress (d=0.74, 95% CI 0.30 to 1.19) and burnout (d=0.95, 95% CI 0.53 to 1.37) compared with controls, at postassessment. Significant medium-to-large effect sizes were also found for depression, insomnia and job satisfaction. Long-term effects (6 months) were seen on the mental health outcomes. CONCLUSION: This is one of the first studies showing that iSMIs can be an effective, accessible and potentially time-effective approach of reducing stress and other mental-related and work-related health symptoms among distressed managers. Future studies are needed addressing distressed managers and the potential of indirect effects on employee stress and satisfaction at work.\n",
      "---\n",
      "OBJECTIVE: This randomized-controlled trial assessed the efficacy of a trainer-led, active-learning, modular, online behavioral activation (BA) training program compared with a self-paced online BA training with the same modular content. METHOD: Seventy-seven graduate students (M = 30.3 years, SD = 6.09; 76.6% female) in mental health training programs were randomly assigned to receive either the trainer-led or self-paced BA training. Both trainings consisted of 4 weekly sessions covering 4 core BA strategies. Primary outcomes were changes in BA skills as measured by an objective role-play assessment and self-reported use of BA strategies. Assessments were conducted at pre-, post-, and 6-weeks after training. A series of longitudinal mixed effect models assessed changes in BA skills and a longitudinal model implemented with generalized estimating equations assessed BA use over time. RESULTS: Significantly greater increases in total BA skills were found in the trainer-led training condition. The trainer-led training condition also showed greater increases in all core BA skills either at posttraining, follow-up, or both. Reported use of BA strategies with actual clients increased significantly from pre- to posttraining and maintained at follow-up in both training conditions. CONCLUSIONS: This trial adds to the literature on the efficacy of online training as a method to disseminate BA. Online training with an active learning, modular approach may be a promising and accessible implementation strategy. Additional strategies may need to be paired with the online BA training to assure the long-term implementation and sustainability of BA in clinical practice. (PsycINFO Database Record\n",
      "---\n",
      "OBJECTIVE: Medical school presents a time of psychological distress for many students, who are less likely than the general population to seek mental health treatment due to multiple treatment barriers. Internet-based cognitive behavioral therapy (iCBT) programs may be an acceptable option for medical students. This study aims to assess acceptability and usability of ThinkFeelDo, an iCBT program, and to examine the impact of the program on perceived stress, quality of life, and the development of cognitive and behavioral coping skills. METHOD: Fourteen medical students (M age = 25.4 years, 50% female) participated in the 6-week ThinkFeelDo program and completed baseline and end of treatment assessments. RESULTS: ThinkFeelDo was used (login M = 11.9, SD = 9.8) and was rated as somewhat useful. Participants requested further refinement of lessons to better fit the typical narrative of a medical student and endorsed interest in the program being offered at the beginning of medical school. At end of program, participants increased the frequency with which they used cognitive and behavioral coping skills, t(10) = -3.400, p = .007. CONCLUSIONS: Results of this study indicate that medical students are willing to utilize online mental health programs and may receive benefit. However, the sample was small, self-selected, and without a comparison group. Feedback collected through this study provides insight on how to effectively integrate iCBT programs into the medical school experience.\n",
      "---\n",
      "This meta-analysis found empirical support for the effectiveness of indicated prevention programs for higher education students at risk for subsequent mental health difficulties based on their current subclinical levels of various presenting problems, such as depression, anxiety, or interpersonal difficulties. A systematic literature search identified 79 controlled published and unpublished interventions involving 4,470 college, graduate, or professional students. Programs were effective at post-intervention overall (ES = 0.49, CI [0.43, 0.55]), and for both targeted outcomes (ES = 0.58, CI [0.51, 0.64]) as well as additional nontargeted outcomes assessed in the studies (ES = 0.32, CI [0.25, 0.39]). Interventions compared with a no-intervention or a wait-list control (ES = 0.64, CI [0.57, 0.71], k = 68) demonstrated significantly larger effects overall than did interventions compared with an attention-placebo control (ES = 0.27, CI [0.11, 0.43], k = 11), although both were significant. Among the former group, modality and presenting problem emerged as significant moderators of intervention effectiveness, and among the 43 of these that assessed effectiveness at an average follow-up period of 35 weeks, the positive effects from intervention remained strong (ES = 0.59, CI [0.50, 0.68]). Overall, programs were fairly brief, attracted and retained students, were positively rated by students, and effective when administered by paraprofessionals as well as professionals. Current findings are promising and stimulate recommendations for improving future research, such as expanding the range of outcomes assessed, and clarifying moderators and mediators of intervention impact. (PsycINFO Database Record\n",
      "---\n",
      "BACKGROUND: Psychological interventions for the prevention of depression might be a cost-effective way to reduce the burden associated with depressive disorders. OBJECTIVE: To evaluate the cost-effectiveness of a Web-based guided self-help intervention to prevent major depressive disorder (MDD) in people with subthreshold depression (sD). METHODS: A pragmatic randomized controlled trial was conducted with follow-up at 12 months. Participants were recruited from the general population via a large statutory health insurance company and an open access website. Participants were randomized to a Web-based guided self-help intervention (ie, cognitive-behavioral therapy and problem-solving therapy assisted by supervised graduate students or health care professionals) in addition to usual care or to usual care supplemented with Web-based psycho-education (enhanced usual care). Depression-free years (DFYs) were assessed by blinded diagnostic raters using the telephone-administered Structured Clinical Interview for DSM-IV Axis Disorders at 6- and 12-month follow-up, covering the period to the previous assessment. Costs were self-assessed through a questionnaire. Costs measured from a societal and health care perspective were related to DFYs and quality-adjusted life years (QALYs). RESULTS: In total, 406 participants were enrolled in the trial. The mean treatment duration was 5.84 (SD 4.37) weeks. On average, participants completed 4.93 of 6 sessions. Significantly more DFYs were gained in the intervention group (0.82 vs 0.70). Likewise, QALY health gains were in favor of the intervention, but only statistically significant when measured with the more sensitive SF-6D. The incremental per-participant costs were euro136 ( pound116). Taking the health care perspective and assuming a willingness-to-pay of euro20,000 ( pound17,000), the intervention's likelihood of being cost-effective was 99% for gaining a DFY and 64% or 99% for gaining an EQ-5D or a SF-6D QALY. CONCLUSIONS: Our study supports guidelines recommending Web-based treatment for sD and adds that this not only restores health in people with sD, but additionally reduces the risk of developing a MDD. Offering the intervention has an acceptable likelihood of being more cost-effective than enhanced usual care and could therefore reach community members on a wider scale. TRIAL REGISTRATION: German Clinical Trials Register: DRKS00004709; http://www.drks.de/DRKS00004709 (Archived by WebCite at http://www.webcitation.org/6kAZVUxy9).\n",
      "---\n",
      "BACKGROUND: The Method of Levels (MOL) is a transdiagnostic cognitive therapy that promotes contentment, wellbeing, and goal achievement through the resolution of internal conflicts underlying psychological distress. MOL, based on Perceptual Control Theory (PCT), was developed in routine clinical practice and has been used effectively across different health services by different practitioners. Access to MOL-style questions through a smartphone app could, potentially, help both the general public maintain robust mental health, and also be a useful adjunct to therapy for clinical populations. The app is called MindSurf because of its focus on helping people explore their thinking. Prior to developing the app and using it with different populations it was necessary to determine whether such an idea would be usable for and acceptable to potential app users. Therefore, a pilot study was conducted with a non-clinical sample to assess the usability and acceptability of the app including monitoring whether the questions delivered in this way were associated with any adverse events. METHODS: A pilot study using quantitative as well as qualitative methods and incorporating a repeated measures, A-B design was conducted. RESULTS: The 23 participants were healthy adult volunteers who were all either undergraduate students, postgraduate students, or staff of the University of Manchester. They received MOL-style questions on their mobile phones over a 1-week period. Qualitative results were encouraging and indicated that the format and style of questioning were acceptable to participants and did not lead to increased worry or concern. A one-way, repeated measures ANOVA indicated that there was a nonsignificant decrease in scores on the 21-item Depression, Anxiety, and Stress Scale (DASS21) over a 2 week period. DISCUSSION: The results of the pilot study justified development of MindSurf and further testing once it is available for use. A power analysis indicated that the pilot study was underpowered to detect significant effects but provided important information regarding the appropriate sample size for future research. The pilot study also indicated that future research should investigate the effects of receiving more than three questions per day. CONCLUSION: Results of the pilot study indicate that MindSurf will be a usable and acceptable app. Its benefits should be further explored through longer studies with larger sample of both the general population as well as clinical populations.\n",
      "---\n",
      "OBJECTIVE: To investigate the relationship between trainee doctors' attachment style and their performance in qualifying clinical and communication skills assessments. METHODS: Participants were 190 undergraduate medical students whose performance was assessed by examiners across two areas (communication and clinical skills) during their qualifying Objective Structured Clinical Examination (OSCE). Simulated patients also rated communication skills. Participants' attachment style was rated across two dimensions, avoidance and anxiety, using the Relationship Questionnaire (RQ). RESULTS: Lower levels of attachment avoidance and anxiety significantly predicted higher performance in both communication and clinical skills. CONCLUSION: Trainee doctors' attachment styles are associated with patient communication and clinical performance. Further research is needed to investigate the impact of attachment on consultations between doctors and patients within clinical settings. PRACTICE IMPLICATION: Attachment theory can inform our understanding why, for some student doctors, interacting with patients may be particularly challenging and require additional support by medical educators.\n",
      "---\n",
      "OBJECTIVE: To determine how counselors' attachment anxiety and avoidance related to congruence between counselors' and clients' Working alliance (WA) ratings. Congruence strength was defined as the regression coefficient for clients' WA ratings predicting counselors' WA ratings. Directional bias was defined as the difference in level between counselors' and clients' WA ratings. METHOD: Twenty-seven graduate student counselors completed an attachment measure and they and their 64 clients completed a measure of WA early in therapy. The truth-and-bias analysis was adapted to analyze the data. RESULTS: As hypothesized counselors' WA ratings were significantly and positively related to clients' WA ratings. Also as hypothesized, counselors' WA ratings were significantly lower than their clients' WA ratings (directional bias). Increasing counselor attachment anxiety was related to increasing negative directional bias; as counselors' attachment anxiety increased the difference between counselors and clients WA ratings became more negative. There was a significant interaction between counselor attachment anxiety and congruence strength in predicting counselor WA ratings. There was a stronger relationship between client WA ratings and counselor WA ratings for counselors low versus high in attachment anxiety. CONCLUSION: Counselors' attachment anxiety is realted to their ability to accurately percieve their clients' WA.\n",
      "---\n",
      "Effects of Internet-delivered cognitive behaviour therapy (ICBT) for anxiety and depression are not well understood when delivered in non-specialized as compared to specialized clinic settings. This open trial (n=458 patients) examined the benefits of transdiagnostic-ICBT when delivered in Canada by therapists (registered providers or graduate students) working in either a specialized online clinic or one of eight nonspecialized community clinics. Symptoms of depression and anxiety were assessed at pre-treatment, post-treatment and at 3-month follow-up. Completion rates and satisfaction were high. Significant and large reductions (effect sizes 1.17-1.31) were found on symptom measures. Completion rates, satisfaction levels and outcomes did not differ whether ICBT was delivered by therapists working in a specialized online clinic or nonspecialized community clinics. Differences were also not found between registered providers and graduate students, or therapists trained in psychology or another discipline. The findings support the public health potential of ICBT.\n",
      "---\n",
      "There has been limited research on therapeutic alliance in the context of therapist-assisted Internet-delivered cognitive behaviour therapy (ICBT) when delivered in clinical practice. The present study investigated therapeutic alliance in ICBT delivered to patients seeking treatment for symptoms of depression (n = 83) or generalized anxiety (n = 112) as part of an open dissemination trial. ICBT was provided by 27 registered therapists or 28 graduate students working in six geographically dispersed clinics; therapist-assistance was delivered primarily through secure messages and occasionally telephone calls. The Generalized Anxiety Disorder-7 and Patient Health Questionnaire-9 were collected pre-, mid- and post-treatment, and the Therapeutic Alliance Questionnaire was assessed mid- and post-treatment. Therapeutic alliance ratings were high both at mid-treatment and post-treatment (above 80%). There was no relationship between therapeutic alliance ratings and improvement on primary outcomes. Among patients treated for depression, lower ratings of mid-treatment alliance were associated with concurrent treatment by a psychiatrist and fewer phone calls and emails from their therapist. Among patients treated for generalized anxiety, ratings of mid-treatment alliance were higher among registered providers as compared to graduate students. Multiple directions for future research on therapeutic alliance in ICBT are offered, including suggestions for developing a new measure of therapeutic alliance specific to ICBT and measuring therapeutic alliance throughout the treatment process. Copyright (c) 2016 John Wiley & Sons, Ltd. KEY PRACTITIONER MESSAGE: This research demonstrated that therapeutic alliance ratings were very strong at both mid- and post-treatment among patients who received Internet-delivered cognitive behaviour therapy (ICBT) for depression or anxiety in clinical practice. Among patients receiving ICBT for depression, lower ratings of therapeutic alliance were associated with patients reporting concurrent treatment by a psychiatrist and with the receipt of fewer phone calls and emails from the therapist. Among patients receiving ICBT for generalized anxiety, ratings of alliance were higher when patients were treated by registered providers as compared to graduate students. Therapeutic alliance ratings did not predict outcome in ICBT for depression or anxiety. Practitioners have reason to be confident that a therapeutic relationship can be formed in ICBT when delivered in clinical practice.\n",
      "---\n",
      "BACKGROUND: Research has convincingly demonstrated that symptoms of depression can be reduced through guided Internet-based interventions. However, most of those studies recruited people form the general population. There is insufficient evidence for the effectiveness when delivered in routine clinical practice in outpatient clinics. OBJECTIVE: The objective of this randomized controlled trial was to study patients with a depressive disorder (as defined by the Diagnostic and Statistical Manual of Disorders, fourth edition), as assessed by trained interviewers with the Composite International Diagnostic Interview, who registered for treatment at an outpatient mental health clinic. We aimed to examine the effectiveness of guided Internet-based self-help before starting face-to-face treatment. METHODS: We recruited 269 outpatients, aged between 18 and 79 years, from outpatient clinics and randomly allocated them to Internet-based problem solving therapy (n=136), with weekly student support, or to a control condition, who remained on the waitlist with a self-help booklet (control group; n=133). Participants in both conditions were allowed to take up face-to-face treatment at the outpatient clinics afterward. We measured the primary outcome, depressive symptoms, by Center for Epidemiological Studies Depression scale (CES-D). Secondary outcome measures were the Hospital Anxiety and Depression Scale Anxiety subscale (HADS-A), Insomnia Severity Index questionnaire (ISI), and EuroQol visual analog scale (EQ-5D VAS). All outcomes were assessed by telephone at posttest (8 weeks after baseline). RESULTS: Posttest measures were completed by 184 (68.4%) participants. We found a moderate to large within-group effect size for both the intervention (d=0.75) and the control (d=0.69) group. However, the between-group effect size was very small (d=0.07), and regression analysis on posttreatment CES-D scores revealed no significant differences between the groups (b=1.134, 95% CI -2.495 to 4.763). The per-protocol analysis (>/=4 sessions completed) results were also not significant (b=1.154, 95% CI -1.978 to 7.637). Between-group differences were small and not significant for all secondary outcomes. Adherence to the intervention was low. Only 36% (49/136) received an adequate dosage of the intervention (>/=4 of 5 sessions). The overall treatment satisfaction was moderate. CONCLUSIONS: Internet-based problem solving therapy is not more effective in reducing symptoms of depression than receiving an unguided self-help book during the waitlist period at outpatient mental health clinics. The effect sizes are much smaller than those found in earlier research in the general population, and the low rates of adherence indicate that the acceptability of the intervention at this stage of treatment for depressed outpatients is low. However, taking into account that there is much evidence for the efficacy of Internet-based treatments, it is too early to draw firm conclusions about the effectiveness of these treatments in outpatient clinics as a whole. TRIAL REGISTRATION: Netherlands Trial Register NTR2824; http://www.trialregister.nl/trialreg/admin/rctview.asp?TC=2824 (Archived by WebCite at http://www.webcitation/ 6g3WEuiqH).\n",
      "---\n",
      "Stress, anxiety and depression are relatively common problems among university students. This study examined whether an online psychological intervention aiming at enhancing the wellbeing of university students could be an effective and practical alternative for meeting the needs of a university population. University students (N = 68; 85% female; 19-32 years old) were randomly assigned to either a guided seven-week online Acceptance and Commitment Therapy (iACT) intervention or a waiting list control condition (WLC). A between-groups pre-post (iACT vs WLC) design with 12-month follow-up for the iACT participants was conducted. The intervention participants were offered two face-to-face meetings, completed online exercises during a five-week period, and received personal weekly written feedback via the website from their randomly assigned, trained student coaches. Waitlist participants were offered the intervention program soon after the post measurements. Results in this small efficacy trial showed that the iACT participants had significantly higher gains in wellbeing (between group, d = 0.46), life satisfaction (d = 0.65), and mindfulness skills (d = 0.49). In addition, iACT participants' self-reported stress (d = 0.54) and symptoms of depression (d = 0.69) were significantly reduced compared to the participants in the control group. These benefits were maintained over a 12-month follow-up period (within iACT group, d = 0.65-0.69, for primary measures). The results suggest that an online-based, coach-guided ACT program with blended face-to-face and online sessions could be an effective and well-accepted alternative for enhancing the wellbeing of university students.\n",
      "---\n",
      "Despite the high prevalence of substance use disorder (SUD) and its frequent comorbidity with mental illness, individuals with SUD are less likely to receive effective SUD treatment from mental health practitioners than SUD counselors. Limited competence and interest in treating this clinical population are likely influenced by a lack of formal training in SUD treatment. Using a factorial survey-vignette design that included three clinical vignettes and a supplementary survey instrument, we investigated whether clinical psychology doctoral students differ in their level of negative emotional reactions toward clients with SUD versus major depressive disorder (MDD); whether they differ in their attributions for SUD versus MDD; and how their negative emotional reactions and attributions impact their interest in pursuing SUD clinical work. Participants were 155 clinical psychology graduate-level doctoral students (72% female). Participants endorsed more negative emotional reactions toward clients with SUD than toward clients with MDD. They were also more likely to identify poor willpower as the cause for SUD than for MDD. More than a third reported interest in working with SUD populations. Highest levels of interest were associated with prior professional and personal experience with SUD, four to six years of clinical experience, and postmodern theoretical orientation.\n",
      "---\n",
      "PROBLEM: Despite the increasing prevalence of mental health disorders in university students, few receive needed evidence-based treatment. OBJECTIVE: The purpose of this study was to assess the feasibility and preliminary effects of a seven-session online cognitive-behavioral skill-building intervention (i.e., COPE, Creating Opportunities for Personal Empowerment) versus a comparison group on their anxiety, depressive symptoms, and grade performance. METHODS: A randomized controlled pilot study was conducted from September 2012 to May 2013 with 121 college freshmen enrolled in a required one credit survey course. FINDINGS: Although there were no significant differences in anxiety and depressive symptoms between the groups, only COPE students with an elevated level of anxiety at baseline had a significant decline in symptoms. Grade point average was higher in COPE versus comparison students. Evaluations indicated that COPE was a positive experience for students. CONCLUSIONS: COPE is a promising brief intervention that can be integrated effectively into a required freshman course.\n",
      "---\n",
      "OBJECTIVES: Past work found that close adult attachment dimension scores predict caregiver preparedness. Theory and past research suggests filial obligation (FO) may mediate the relationship between attachment and caregiver preparedness. The goal of this study was to test that hypothesis. METHOD: The sample, collected using Mechanical Turk, included 165 women between the ages of 45 and 65 years who were not providing care to an aging parent.  Participants were reimbursed $0.75 for completing an online survey assessing response validity, dimensions of adult attachment, depressive symptomatology, FO, and caregiver preparedness, among other variables. The mean participant age was 52.2 years (SD = 5.5). RESULTS: The sample was predominantly White/Caucasian (82.6%), and Black/African American (7.3%).  With respect to education, 14.5% completed high school or general education development (GED), 32.7% completed some college, 36.4% completed a Bachelor's degree, and 15.7% completed graduate degrees. The three attachment dimensions (close, dependent, and anxious) and FO were all significantly inner-correlated.  Stepwise multiple regression analyses found that FO fully mediates the relationship between close attachment and caregiver preparedness, even after controlling for age, education, income, depression, and birth order. CONCLUSION: The primary finding is that FO mediates the relationship between close attachment style and caregiver preparedness among prospective caregivers. This suggests that individual differences in attachment style among prospective caregivers indirectly predict preparedness for future caregiving through FO, suggesting a mechanism relating attachment style and preparation for future care.\n",
      "---\n",
      "OBJECTIVE: Little is known about the influence of patients' pretreatment characteristics on the adherence-outcome relation in cognitive therapy (CT) for depression. In a sample of 57 depressed adults participating in CT, the authors examined interactions between pretreatment patient characteristics and therapist adherence in predicting session-to-session symptom change. METHOD: Using items from the Collaborative Study Psychotherapy Rating Scale, the authors assessed 3 facets of therapist adherence: cognitive methods, negotiating/structuring, and behavioral methods/homework. Two graduate students rated Sessions 1-4 for adherence. Symptoms were assessed prior to each session with the Beck Depression Inventory-II. Moderators were assessed as part of patients' intake evaluations. RESULTS: After correcting for multiple comparisons, patient gender remained a significant moderator of the relationship between cognitive methods and next-session symptom change; cognitive methods more strongly predicted greater symptom improvement for women as compared to men. Pretreatment anxiety and number of prior depressive episodes were significant moderators of the relationship between behavioral methods/homework and next-session symptom change, with greater behavioral methods/homework predicting symptom improvement more strongly among patients high in pretreatment anxiety and among patients with relatively few prior depressive episodes. CONCLUSIONS: This is the first study to provide evidence of how therapist adherence is differentially related to outcome among depressed patients with different characteristics. If replicated, these findings may inform clinical decisions regarding the use of specific facets of adherence in CT for depression with specific patients.\n",
      "---\n",
      "BACKGROUND: Preventing recurrence of depression forms an important challenge for current treatments. Cognitive control impairments often remain present during remission of depression, putting remitted depressed patients at heightened risk for new depressive episodes by disrupting emotion regulation processes. Importantly, research indicates that cognitive control training targeting working memory functioning shows potential in reducing maladaptive emotion regulation and depressive symptomatology in clinically depressed patients and at-risk student samples. The current study aims to test the effectiveness of cognitive control training as a preventive intervention in a remitted depressed sample, exploring effects of cognitive control training on rumination and depressive symptomatology, along with indicators of adaptive emotion regulation and functioning. METHODS/DESIGN: We present a double blind randomized controlled design. Remitted depressed adults will complete 10 online sessions of a cognitive control training targeting working memory functioning or a low cognitive load training (active control condition) over a period of 14 days. Effects of training on primary outcome measures of rumination and depressive symptomatology will be assessed pre-post training and at three months follow-up, along with secondary outcome measure adaptive emotion regulation. Long-term effects of cognitive control training on broader indicators of functioning will be assessed at three months follow-up (secondary outcome measures). DISCUSSION: This study will provide information about the effectiveness of cognitive control training for remitted depressed adults in reducing vulnerability for depression. Furthermore, this study will address key questions concerning the mechanisms underlying the effects of cognitive control training, will take into account the subjective experience of the patients (including a self-report measure for cognitive functioning), and explore whether these effects extend to broad measures of functioning such as Quality of Life and disability. TRIAL REGISTRATION: This study is registered with ClinicalTrials.Gov, number NCT02407652 .\n",
      "---\n",
      "A 21-year-old college student was referred to us by the counseling center at our university for a psychiatric evaluation after 11 psychotherapy sessions over 3 months had failed to reduce her feelings of anxiety and panic.\n",
      "---\n",
      "INTRODUCTION: The aim of this study is to examine the effects of an internet-based cognitive behavioural therapy (iCBT) program on decreasing the risk of major depressive episodes (MDEs) among workers employed in a private corporate group in Japan, using a randomised controlled trial design. METHODS AND ANALYSIS: All of the workers in a corporate group (n=20,000) will be recruited through an invitation email. Participants who fulfil the inclusion criteria will be randomly allocated to intervention or control groups (planned N=4050 for each group). They will be allowed to complete the six lessons of the iCBT program within 10 weeks after the baseline survey. Those in the control group will receive the same iCBT after 12 months. The program includes several CBT skills: self-monitoring, cognitive restructuring, assertiveness, problem-solving and relaxation. The primary outcome measure is no new onset of MDE (using Diagnostic and Statistical Manual of Mental Disorders, Fourth Edition, Text Revision (DSM-IV-TR)/DSM-5 criteria) during the 12-month follow-up. Assessment will use the web version of the WHO Composite International Diagnostic Interview V.3.0 depression section. ETHICS AND DISSEMINATION: The Research Ethics Review Board of Graduate School of Medicine, the University of Tokyo (No. 3083-(2)), approved the study procedures. TRIAL REGISTRATION NUMBER: The study protocol is registered at the UMIN Clinical Trials Registry (UMIN-CTR; ID=UMIN000014146).\n",
      "---\n",
      "A meta-analysis examining temporal changes (time trends) in the effects of cognitive behavioral therapy (CBT) as a treatment for unipolar depression was conducted. A comprehensive search of psychotherapy trials yielded 70 eligible studies from 1977 to 2014. Effect sizes (ES) were quantified as Hedge's g based on the Beck Depression Inventory (BDI) and the Hamilton Rating Scale for Depression (HRSD). Rates of remission were also registered. The publication year of each study was examined as a linear metaregression predictor of ES, and as part of a 2-way interaction with other moderators (Year x Moderator). The average ES of the BDI was 1.58 (95% CI [1.43, 1.74]), and 1.69 for the HRSD (95% CI [1.48, 1.89]). Subgroup analyses revealed that women profited more from therapy than did men (p < .05). Experienced psychologists (g = 1.55) achieved better results (p < .01) than less experienced student therapists (g = 0.98). The metaregressions examining the temporal trends indicated that the effects of CBT have declined linearly and steadily since its introduction, as measured by patients' self-reports (the BDI, p < .001), clinicians' ratings (the HRSD, p < .01) and rates of remission (p < .01). Subgroup analyses confirmed that the declining trend was present in both within-group (pre/post) designs (p < .01) and controlled trial designs (p = .02). Thus, modern CBT clinical trials seemingly provided less relief from depressive symptoms as compared with the seminal trials. Potential causes and possible implications for future studies are discussed. (PsycINFO Database Record\n",
      "---\n",
      "PROBLEM: Understanding young adults' anxiety requires applying a multidimensional approach to assess the psychosocial, behavioral, and cognitive aspects of this phenomenon. METHODS: A hypothesized model of the relationships among coping style, thinking style, life satisfaction, social support, and selected demographics and anxiety among college students was tested using path analysis. A total of 257 undergraduate students aged 18-24 years completed an online survey. The independent variables were measured using the Multidimensional Scale of Perceived Social Support, the Brief Students' Multidimensional Life Satisfaction Scale, the Brief COPE Inventory, the Positive Automatic Thoughts Questionnaire, and the Cognition Checklist-Anxiety. The outcome, anxiety, was measured using the Anxiety subscale of the 21-item Depression Anxiety and Stress Scale. FINDINGS: Only negative thinking and maladaptive coping had a direct relationship with anxiety. Negative thinking was the strongest predictor of both maladaptive coping and anxiety. CONCLUSION: These findings suggest that helping undergraduates manage their anxiety by reducing their negative thinking is critical. Designing and testing interventions to decrease negative thinking in college students is recommended for future research.\n",
      "---\n",
      "This meta-analysis investigated the effectiveness of universal mental health prevention programs for higher education students on a range of adjustment outcomes. A systematic literature search identified 103 controlled published and unpublished interventions involving college, graduate, or professional students. As hypothesized, skill-training programs that included a supervised practice component were significantly more effective overall (mean effect size = 0.45, confidence interval (CI) = 0.39 to 0.52) compared to skill-training programs without supervised practice (0.11, CI = -0.01 to 0.22) and psychoeducational (information-only) programs (0.13, CI = 0.06 to 0.21). When comparisons on specific outcomes were possible, skill-training programs including supervised practice were significantly more effective than the other two groups of programs in reducing symptoms of depression, anxiety, stress, and general psychological distress, and in improving social-emotional skills, self-perceptions, and academic behaviors and performance. The magnitude of effects achieved in several outcome areas is comparable to or higher than that reported in other reviews of universal programs, suggesting that skill-training programs for higher education students that incorporate supervised practice now join the ranks of other effective preventive mental health interventions. This review offers several recommendations to improve the experimental rigor of future research.\n",
      "---\n",
      "BACKGROUND: Allocation of trainee therapist cases is often performed based on intuition and clinical circumstances, with lack of empirical evidence on the role of severity of presenting problem. This has the potential to be anxiety-provoking for supervisors, trainees and service users themselves. AIMS: To determine how therapist experience interacts with symptom severity in predicting client outcomes. METHOD: An intention-to-treat analysis of annual outcome data for primary and secondary care clients seen by a specialist anxiety disorders service. 196 clients were stratified into mild, moderate and baseline severe symptoms of anxiety (GAD-7) and depression (PHQ-9). We measured percentage change on these measures, as well as number of sessions and therapy dropout. We also examined rates of reliable and clinically significant change on disorder-specific measures. We hypothesized that qualified therapists would achieve better outcomes than trainees, particularly for severe presentations. RESULTS: Overall, outcomes were comparable between trainee and qualified therapists on all measures, and trainees additionally utilized fewer therapy sessions. There was however an interaction between anxiety severity (GAD-7) and therapist group, such that severely anxious clients achieved greater symptom improvement with qualified as compared to trainee therapists. Further, for trainee but not qualified therapists, baseline anxiety was negatively associated with rate of reliable and clinically significant change on disorder-specific measures. CONCLUSIONS: These findings indicate generally favourable outcomes for trainee therapists delivering manualized treatments for anxiety disorders. They additionally suggest that trainee therapists may benefit from additional support when working with clients that present with severe anxiety.\n",
      "---\n",
      "OBJECTIVE: The authors evaluated psychiatry resident participation in and description of personal psychotherapy, reasons for being in psychotherapy, and barriers to personal psychotherapy. METHODS: All 14 program directors for programs accredited by the Accreditation Council for Graduate Medical Education in Pennsylvania, New Jersey, and Delaware provided e-mail addresses for current categorical residents. The authors e-mailed a voluntary, anonymous, 10-min survey to residents through www.SurveyMonkey.com . The survey inquired about time spent in various aspects of training, value assigned to aspects of training, residents' involvement in their own psychotherapy, reasons for being in or not being in therapy, and overall resident wellness. RESULTS: Of the 328 residents e-mailed, 133 (40.5 %) replied to the survey, of which 34 (26.5 %) were in personal psychotherapy. Most residents described their psychotherapy as psychodynamic, once weekly, and located in a private practice not affiliated with the resident's academic center. Approximately half (49 %) were in treatment with a social worker (MSW, LCSW) or psychologist (PhD or PsyD). \"Self-awareness and understanding\" was the most commonly reported primary and contributing reason for being in psychotherapy. Close to half of the respondents (44.5 %) listed personal stress, substance dependence, mood, anxiety, or other psychiatric symptoms as the primary reason for seeking personal psychotherapy. The most common reasons for not entering psychotherapy were time and finances. Residents who were in personal psychotherapy valued personal psychotherapy as more important to training than residents who were not in personal psychotherapy. Half of all respondents reported that their program recommends psychotherapy. CONCLUSION: Far fewer residents responding to the survey reported being in psychotherapy than residents from some previous surveys. A continuing discussion of whether and how to accommodate personal psychotherapy in the training and education of psychiatry residents by psychiatry educators is warranted.\n",
      "---\n",
      "BACKGROUND AND OBJECTIVE: Smartphone applications (apps) have the potential to be valuable self-help interventions for depression screening. However, information about their feasibility and effectiveness and the characteristics of app users is limited. The aim of this study is to explore the uptake, utilization, and characteristics of voluntary users of an app for depression screening. METHODS: This was a cross-sectional study of a free depression screening smartphone app that contains the demographics, patient health questionnaire (PHQ-9), brief anxiety test, personalized recommendation based on the participant's results, and links to depression-relevant websites. The free app was released globally via Apple's App Store. Participants aged 18 and older downloaded the study app and were recruited passively between September 2012 and January 2013. FINDINGS: 8241 participants from 66 countries had downloaded the app, with a response rate of 73.9%. While one quarter of the participants had a previous diagnosis of depression, the prevalence of participants with a higher risk of depression was 82.5% and 66.8% at PHQ-9 cut-off 11 and cut-off 15, respectively. Many of the participants had one or more physical comorbid conditions and suicidal ideation. The cut-off 11 (OR: 1.4; 95% CI 1.2 to 1.6), previous depression diagnosis (OR: 1.3; 95% CI1.2 to 1.5), and postgraduate educational level (OR: 1.2; 95% CI 1.0 to 1.5) were associated with completing the PHQ-9 questionnaire more than once. CONCLUSIONS: Smartphone apps can be used to deliver a screening tool for depression across a large number of countries. Apps have the potential to play a significant role in disease screening, self-management, monitoring, and health education, particularly among younger adults.\n",
      "---\n",
      "BACKGROUND: Internet-based guided self-help has been successfully used in the general population, but it is unknown whether this method can be effectively used in outpatient clinics for patients waiting for face-to-face psychotherapy for phobias. OBJECTIVE: The aim was to assess the clinical effectiveness of Phobias Under Control, an Internet-based intervention based on exposure therapy with weekly guidance. METHODS: We conducted a randomized controlled trial, recruiting 212 outpatients scheduled to receive face-to-face psychotherapy for any type of phobia at an outpatient clinic. Participants suffering from at least 1 DSM-IV or ICD-10 classified phobia (social phobia, agoraphobia with or without panic disorder, and/or specific phobia as ascertained by a telephone interview at baseline) were randomly allocated to either a 5-week Internet-based guided self-help program based on exposure therapy with weekly student support followed by face-to-face psychotherapy (n=105) or a wait-list control group followed by face-to-face psychotherapy (n=107). Primary outcome was the Fear Questionnaire (FQ). Secondary outcomes were the Beck Anxiety Inventory (BAI) and Center of Epidemiological Studies-Depression scale (CES-D). Assessments took place by telephone at baseline (T0) and on the Internet at posttest (T1, self-assessment at 5 weeks after baseline). Missing data at T1 were imputed. RESULTS: At posttest, analysis of covariance on the intention-to-treat sample showed significant but small effect sizes between intervention and control groups on the FQ (d=0.35, P=.02), CES-D (d=0.34, P=.03), and a nonsignificant effect size on the BAI (d=0.28. P=.05). Although initial acceptance was good, high nonresponse was observed, with 86 of 212 participants (40.5%) lost to follow-up at T1 and only 14 of 105 (13.3%) intervention participants finishing all 5 weeks. CONCLUSIONS: Phobias Under Control is modestly effective in lowering phobic and depressive symptoms in a relatively short period and may be clinically beneficial when implemented in routine outpatient practice. TRIAL REGISTRATION: Netherlands Trial Register NTR2233; http://www.trialregister.nl/trialreg/admin/rctview.asp?TC=2233 (Archived by WebCite at http://www.webcitation.org/6O2ioOQSs).\n",
      "---\n",
      "BACKGROUND: There is emerging evidence for the potential of computer-based psychological treatments (CBPT) as an add-on to usual clinical practice in the management of health problems. OBJECTIVE: The study set out to observe if, when, and how clinicians working in a publically funded alcohol/other drug (AOD) clinical service might utilize SHADE (Self-Help for Alcohol and other drug use and DEpression), a CBPT program for comorbid depression and alcohol or cannabis use, in their clinical practice. METHODS: Thirteen clinicians working within an AOD service on the Central Coast of New South Wales, Australia, were recruited. At baseline, all 13 clinicians were assessed for their computer anxiety and openness to innovation. Clinicians referred current clients to the study, with consenting and eligible clients (N = 35) completing a baseline and 15-week follow-up clinical assessment. The assessment comprised a range of mental health and AOD measures administered by an independent research assistant. Over the course of the study, clinicians submitted session checklists detailing information about session content, including the context and extent to which SHADE was used for each client. RESULTS: Descriptive statistics showed that clinicians employed the SHADE program in a variety of ways. When SHADE modules were used, they were generally introduced in the early phase of treatment, on average, around session 4 (M = 3.77, SD = 5.26, range 1-36). However, only 12 of the 35 clients whose session checklists were available were exposed to the SHADE modules; this, despite 28/35 clients indicating that they would be willing to use CBPT during their current treatment program. CONCLUSIONS: Treatment seekers in the AOD service of the current trial were generally open to receiving CBPT like SHADE; however, clinicians tended to use SHADE with only 34 percent of clients. This indicates the importance of providing ongoing support and encouragement to clinicians, in addition to an initial training session, to encourage the adoption of innovative technologies into clinical practice, and perhaps to engage clients in a discussion about CBPT more routinely. TRIAL REGISTRATION: Australian Clinical Trial Registration Number ACTRN12611000382976.\n",
      "---\n",
      "OBJECTIVES: Our objectives were to describe the frequency of therapists' dreams about their clients and clients' dreams about their therapists, to determine how therapists and clients who had such dreams differed from those who did not have such dreams, whether therapy process and outcome differed for those who had and did not have such dreams, and to describe the content and consequences of these dreams. METHODS: Thirteen doctoral student therapists conducted psychodynamic psychotherapy with 63 clients in a community clinic. RESULTS: Therapists who had dreams about clients had higher estimated and actual dream recall than did therapists who did not dream about clients. Qualitative analyses indicated that therapists' dreams yielded insights about the therapist, clients, and therapy; therapists used insights in their work with the clients. Among the clients, only two (who were particularly high in attachment anxiety and who feared abandonment from their therapists) reported dreams that were manifestly about their therapists. CONCLUSIONS: Therapists-in-training dreamed more about their clients than their clients dreamed about them. Dreams about clients can be used by therapists to understand themselves, clients, and the dynamics of the therapy relationship.\n",
      "---\n",
      "This study tested hypotheses of change in the real-ideal (RI) and real-ought (RO) self-discrepancies over the course of therapy, based on Rogers's (1959) theory of personality change in therapy. Before and after therapy with 20 therapists of diverse theoretical orientations at a university counseling center, 99 undergraduate and graduate students completed three instruments that measure both self-discrepancies: the Self-Concept Questionnaire--Personal Constructs, the Self-Concept Questionnaire--Conventional Constructs, and the Abstract Measures. Participants also completed the Beck Depression Inventory-II, State-Trait Anxiety Inventory Trait scale, and the Symptom Checklist-90-R Anxiety and Depression scales. Therapy outcome showed substantial decreases on all measures. Changes in the RI and RO self-discrepancies were associated with changes in anxiety and depression. Change in the RI self-discrepancy was associated with change in the RO self-discrepancy. Decreases in self-discrepancy comprised increases in real self and decreases in ideal self and ought self. Findings were independent of therapist theoretical orientation. The findings support the use of the self-discrepancy instruments in future research on therapy process and outcome. The findings also provide a basis for incorporating the self-discrepancy constructs into theory and research on mechanisms of therapeutic change.\n",
      "---\n",
      "BACKGROUND: Research concerning the role of attachment and social support in hoarding is currently under investigated. AIMS: To investigate whether hoarders experience less social support and more problematic relationships, the degree to which attachment and social support predicts hoarding and whether attachment moderates the relationship between social support and hoarding. METHOD: Measures of hoarding, attachment and social support were taken in a cross-sectional methodological design. Hoarders were identified via scores reaching caseness on the Savings Inventory-Revised (SI-R). RESULTS: Hoarders (N = 380) reported significantly higher levels of attachment anxiety and avoidance and significantly lower levels of social support than student (N = 670) and community (N = 379) controls. Attachment and social support predicted 13% of total SI-R scores for hoarders, and attachment anxiety (but not avoidance) moderated the inverse relationship between social support and hoarding. CONCLUSIONS: Attachment and social support appears problematic for hoarders. Clinical implications and methodological issues are noted.\n",
      "---\n",
      "BACKGROUND: Computerized self-help that has an interactive, conversational format holds several advantages, such as flexibility across presenting problems and ease of use. We designed a new program called MYLO that utilizes the principles of METHOD of Levels (MOL) therapy--based upon Perceptual Control Theory (PCT). AIMS: We tested the efficacy of MYLO, tested whether the psychological change mechanisms described by PCT mediated its efficacy, and evaluated effects of client expectancy. METHOD: Forty-eight student participants were randomly assigned to MYLO or a comparison program ELIZA. Participants discussed a problem they were currently experiencing with their assigned program and completed measures of distress, resolution and expectancy preintervention, postintervention and at 2-week follow-up. RESULTS: MYLO and ELIZA were associated with reductions in distress, depression, anxiety and stress. MYLO was considered more helpful and led to greater problem resolution. The psychological change processes predicted higher ratings of MYLO's helpfulness and reductions in distress. Positive expectancies towards computer-based problem solving correlated with MYLO's perceived helpfulness and greater problem resolution, and this was partly mediated by the psychological change processes identified. CONCLUSIONS: The findings provide provisional support for the acceptability of the MYLO program in a non-clinical sample although its efficacy as an innovative computer-based aid to problem solving remains unclear. Nevertheless, the findings provide tentative early support for the mechanisms of psychological change identified within PCT and highlight the importance of client expectations on predicting engagement in computer-based self-help.\n",
      "---\n",
      "The purpose of this mixed-methods study was to test the extent to which a seminal theory of the professional development of counsellors and therapists is applicable to the particular experiences of creative arts therapies graduate students who learn how to use the arts in psychotherapy. Nevertheless, readers may consider the results of the present study transferable to other healthcare disciplines. Questionnaires for each developmental phase were used for data collection, and analysis included data quantification, assessment of inter-rater agreement and theory derivation procedure. Results indicate that creative arts therapies students were concerned about translating theory into practice, learning how experienced therapists concretely function in practice, and reducing cognitive dissonance upon realization that their pre-training lay conceptions of helping were no longer valid. Stress and anxiety drove students to adopt easily mastered techniques that were implemented creatively in practicum. The results confirm that students who were older and had undergraduate human-service education and/or considerable life experience were less concerned about their suitability to the profession, were more acquainted with a professional working style and searched for their individual way of becoming therapists. Finally, recommendations for future research are suggested, and implications for practice are offered.\n",
      "---\n",
      "Anxiety, depression and stress, often co-occurring, are the psychological problems for which university students most often seek help. Moreover there are many distressed students who cannot, or choose not to, access professional help. The present study evaluated the efficacy of an internet-based guided self-help program for moderate anxiety, depression and stress. The program was based on standard cognitive behavior therapy principles and included 5 core modules, some of which involved options for focusing on anxiety and/or depression and/or stress. Trained student coaches provided encouragement and advice about using the program via e-mail or brief weekly phone calls. Sixty-six distressed university students were randomly assigned to either Immediate Access or a 6-week Delayed Access condition. Sixty-one percent of Immediate Access participants completed all 5 core modules, and 80% of all participants completed the second assessment. On the Depression, Anxiety and Stress Scales-21, Immediate Access participants reported significantly greater reductions in depression (etap(2)=. 07), anxiety (etap(2)=. 08) and stress (etap(2)=. 12) in comparison to participants waiting to do the program, and these improvements were maintained at a six month follow-up. The results suggest that the provision of individually-adaptable, internet-based, self-help programs can reduce psychological distress in university students.\n",
      "---\n",
      "We present details about the validation of the Serbian version of the Experiences in Close Relationships-Revised questionnaire modified to measure attachment in close relationships in general (SM-ECR-R). Its psychometric features were examined with 2 samples of students (N = 719 and N = 91) and 1 group of employed adults (N = 259). The results obtained in the student sample were equivalent to those obtained in validation studies worldwide, whereas in the more heterogeneous sample of employed adults, internal consistency of both avoidance and anxiety was lower and their intercorrelation was higher. Test-retest reliability was satisfactory, and relations with measures of attachment, empathy, and personality structure were meaningful. The results support the SM-ECR-R as a reliable and valid research instrument, but its internal structure and consistency might vary in different samples, depending on age, education, gender, and culture.\n",
      "---\n",
      "There is substantial evidence confirming the efficacy of neurofeedback with applications in clinical, educational and optimal performance domains. However, a psychodynamically informed NF-approach needs exploration. A male (19 y), college student whose first year was being seriously compromised after severe, 18-month, polydrug misuse, was treated with 11 sessions including a 2-month follow-up of neurofeedback combined with short-term psychodynamic psychotherapy. Pre/post-treatment and follow-up assessment with the Brief Psychiatric Rating Scale (BPRS) and the Montgomery-Asberg Depression Rating Scale confirmed that levels of psychopathology dropped almost to zero. Correlational evidence disclosed that SMR/theta training was positively associated with reduction in psychopathological ratings, largely due to theta amplitude reduction; the strongest relation being with reduced BPRS activation. Alpha/theta training was not correlated with clinical improvement. The combined treatment was found to be highly effective with the student who learned to deal with feelings of anhedonia and alienation. There was no relapse during the follow-up phase. Further research is recommended.\n",
      "---\n",
      "The author introduces \"adaptive institutional transference\" (AIT) and describes how it develops in some patients in response to psychotherapist transfer in psychology training clinics. Individuals with borderline personality disorder are especially likely to develop AIT because of difficulties related to abandonment depression. Directors, supervisors, and student psychotherapists in a variety of training settings should be aware of these dynamics because of their important treatment implications, which are described. Limitations and ideas for future exploratory and qualitative research are also discussed.\n",
      "---\n",
      "There is a lack of research examining group members' attachment styles and group climate perceptions in the context of the attachment styles and group climate perceptions of the other group members. In the current study, the actor-partner interdependence model (APIM) was used to examine the relationships among (a) a group member's attachment pattern, (b) the aggregated attachment patterns of the other group members, (c) a group member's perceptions of the group's climate, and (d) the aggregated group climate perceptions of the other group members. One hundred ten Italian graduate students in six 10-session interpersonal growth groups were studied. Group members filled out the Attachment Style Questionnaire prior to group participation and the Group Climate Questionnaire after the 3rd group session. Contrary to the hypotheses, a group member's attachment pattern (anxiety and avoidance) was unrelated to her or his perceptions of group climate, and only group member attachment anxiety was positively related to the other group members' perceptions of conflict in the group's climate. There was, however, strong support for the hypotheses involving the aggregate attachment of the other group members and group climate perceptions. As hypothesized, aggregated perceptions of attachment anxiety and avoidance were positively related to a member's perception of group conflict and aggregated perceptions of attachment anxiety and avoidance were negatively related to a member's perception of group engagement. Both aggregated attachment anxiety and avoidance were related in the expected directions to aggregated perception of group climate. Finally, as hypothesized, a group member's perception of group climate was positively related to the aggregated climate perceptions of the other group members. The findings suggest that the APIM is a useful approach for examining group process variables in the group counseling context.\n",
      "---\n",
      "OBJECTIVE: Research has focused on 2 different approaches to answering the question, \"Which clients will respond to cognitive behavioral therapy (CBT) for depression?\" One approach focuses on rates of symptom change within the 1st few weeks of treatment, whereas the 2nd approach looks to pretreatment client variables (e.g., hopelessness) to identify clients who are more or less likely to respond. The current study simultaneously examines these 2 lines of research (i.e., early symptom change and pretreatment variables) on the prediction of treatment outcome to determine the incremental utility of each potential predictor. METHOD: The sample consists of 173 clients (66.47% female, 92.49% Caucasian), 18-64 years of age (M = 27.94, SD = 11.42), receiving treatment for depression and anxiety disorders in a CBT-oriented psychology training clinic. RESULTS: The rate of change in depressive symptom severity from baseline over the 1st 5 treatment sessions significantly predicted treatment outcome. A contemplative orientation to change and medication status positively predicted early symptom change, whereas student status negatively predicted early symptom change. Higher levels of baseline anxiety, precontemplative readiness to change, and global functioning predicted lower levels of depressive symptom severity at termination. CONCLUSIONS: The findings suggest achieving rapid symptom change early in treatment may be integral to overall success. As such, therapists may wish to target factors such as readiness to change to potentially maximize rapid rate of symptom change and subsequent treatment outcome.\n",
      "---\n",
      "There is considerable research suggesting that therapist-assisted Internet cognitive behaviour therapy (ICBT) is efficacious in the treatment of depression and anxiety. Given this research, there is a growing interest in training students in therapist-assisted ICBT in order to assist with the dissemination of this emerging modality into routine clinical practice. In this study, we developed, delivered, and evaluated a therapist-assisted ICBT workshop for clinical psychology graduate students (n=20). The workshop provided both research evidence and practical information related to the delivery of therapist-assisted ICBT. The workshop also incorporated an experiential component with students working on and discussing responses to client e-mails. Before and after the workshop, we measured knowledge of therapist-assisted ICBT research and professional practice issues, as well as attitudes towards and confidence in delivering therapist-assisted ICBT. Statistically significant changes were observed in all areas. Eighty-five per cent of students are now offering therapist-assisted ICBT under supervision. We conclude by discussing future research directions related to disseminating therapist-assisted ICBT.\n",
      "---\n",
      "Relatively little is known about the efficacy of clinically inexperienced student therapists carrying out cognitive behavior therapy (CBT) under supervision during a professional, psychologist training program. The current study evaluated this by collecting pre- and posttreatment data on 591 consecutive patients receiving treatment at the Psychotherapy Clinic of the Department of Psychology, Stockholm University, Sweden, over an 8-year period. The patients had mainly anxiety disorders or depression with a mean duration of 15 years, and received individual CBT for a mean of 18 sessions. They improved significantly on both general measures (Beck Anxiety Inventory [BAI], Beck Depression Inventory [BDI], and Quality of Life Inventory [QOLI]) and disorder-specific self-report scales. The proportions of recovered patients on the BAI (63%) and the BDI (60%) were higher than those of a comparison effectiveness study. On the specific self-report scales the current sample improved as much as the samples in extant efficacy trials. We conclude that clinically inexperienced student therapists who receive supervision from experienced supervisors can achieve treatment effects that are on a par with those of experienced licensed psychotherapists.\n",
      "---\n",
      "Social Anxiety (SA) is a common and debilitating problem. Although a range of therapies have been applied to treat SA, only a narrow range of these has been researched to date. In this study, Hermeneutic Single Case Efficacy Design (HSCED) was used to investigate Process-Experiential/Emotion-Focused Therapy (PE-EFT) with a socially isolated client with Social Anxiety. Using a combination of qualitative and quantitative data, we constructed a rich case record and a set of documents arguing for and against client change; these were judged by three graduate student peer judges. The judges found the client to have changed substantially over the first 16 sessions of therapy, and PE-EFT was found to have contributed substantially to this change.\n",
      "---\n",
      "OBJECTIVES. To evaluate the effectiveness of a two session guided self-help (GSH) intervention provided by primary care graduate mental health workers (PCGMHWs) in a primary care mental health service. DESIGN. Pragmatic randomized trial, with a wait list control design. METHOD. Patients presenting with significant anxiety and depression problems were given one or more self-help booklets at screening and randomly allocated to an immediate (ITG) or delayed treatment group (DTG). Following this, a two-session GSH intervention was provided by one of two PCGMHWs, with a review session to decide on the need for further intervention. The DTG began the intervention 8 weeks after the screening and the primary outcome was Clinical Outcomes in Routine Evaluation - Outcome Measure (CORE-OM) scores after 8 weeks. RESULTS. A total of 63 patients were allocated to the ITG, 59 to the DTG. Analysis of covariance, carried out on an intention to treat basis, showed a significant treatment effect, F(1,98) = 15, p < .001, and a comparison of means at 8 weeks showed a significant difference, t(116) = 2.1 (95% CI [1.1, 5.9]), p= .042 with an effect size, d= 0.375. Taking the two groups together, CORE-OM scores for patients who completed the intervention reduced between screening and the review session by an average of 7.9 (95% CI [6.3, 9.5]), effect size of 1.2. Between screening and the review session, 47% showed a reliable and clinically significant improvement. CONCLUSIONS. The study provides some support for the effectiveness of a two-session GSH intervention and a stepped-care service model.\n",
      "---\n",
      "BACKGROUND: Abnormal health anxiety, also called hypochondriasis, has been successfully treated by cognitive behaviour therapy (CBT) in patients recruited from primary care, but only one pilot trial has been carried out among those attending secondary medical clinics where health anxiety is likely to be more common and have a greater impact on services. The CHAMP study extends this work to examine both the clinical and cost effectiveness of CBT in this population. METHOD/DESIGN: The study is a randomized controlled trial with two parallel arms and equal randomization of 466 eligible patients (assuming a 20% drop-out) to an active treatment group of 5-10 sessions of cognitive behaviour therapy and to a control group. The aim at baseline, after completion of all assessments but before randomization, was to give a standard simple explanation of the nature of health anxiety for all participants. Subsequently the control group was to receive whatever care might usually be available in the clinics, which is normally a combination of clinical assessment, appropriate tests and reassurance. Those allocated to the active treatment group were planned to receive between 5 and 10 sessions of an adapted form of cognitive behaviour therapy based on the Salkovskis/Warwick model, in which a set of treatment strategies are chosen aimed at helping patients understand the factors that drive and maintain health anxiety. The therapy was planned to be given by graduate research workers, nurses or other health professionals trained for this intervention whom would also have their competence assessed independently during the course of treatment. The primary outcome is reduction in health anxiety symptoms after one year and the main secondary outcome is the cost of care after two years. DISCUSSION: This represents the first trial of adapted cognitive behaviour therapy in health anxiety that is large enough to test not only the clinical benefits of treatment but also whether the cost of treatment is offset by savings from reduced use of other health services in comparison to the control group.Cognitive behaviour therapy for Health Anxiety in Medical Patients (CHAMP) TRIAL REGISTRATION: Current Controlled Trials ISRCTN14565822.\n",
      "---\n",
      "Studies that employ multidimensional attachment measures to explore the impact of attachment style on psychotherapy process and outcome are virtually absent in the literature. Further, the role of the working (therapeutic) alliance as a mediator of the influence of attachment on treatment outcome has not been formally investigated. In order to address these gaps in the research, archival data from 66 psychotherapy clients treated at a university graduate program training clinic were used to examine the influence of three adult attachment dimensions (Comfort with Closeness, Comfort Depending on Others, and Rejection Anxiety) on the therapeutic alliance and outcome, as well as to assess whether the alliance mediates the relationship between attachment and therapy outcome. Both Comfort with Closeness and Comfort Depending on Others were significantly related to alliance and outcome, whereas Rejection Anxiety was not significantly related to either variable. Alliance was a significant partial mediator of the effect of Comfort with Closeness on outcome. The results suggest that multidimensional measures of attachment capture important influences on alliance and psychotherapy and that Comfort with Closeness promotes successful outcome by virtue of its influence on alliance.\n",
      "---\n",
      "Several clinical trials have tested the hypothesis that smoking cessation treatments with a mood management component derived from cognitive behavior therapy (CBT) for depression would be specifically effective for depression-vulnerable smokers, with mixed results. This trial addressed methodological concerns with some of the previous studies to clarify whether depression vulnerability does in fact moderate CBT smoking cessation outcome. The study compared 8-session group CBT with a time-matched comparison group condition in a sample of 100 cigarette smokers randomized to treatment condition. Each treatment group was led by one of 7 American University clinical psychology graduate students; therapists were crossed with treatment conditions. Outcome (7-day point prevalence abstinence) was evaluated 1 month and 3 months after quit date. Baseline self-reported depression vulnerability (sample median split on the Depression Proneness Inventory) moderated treatment response, such that more depression-prone smokers fared better in CBT whereas less depression-prone smokers fared better in the comparison condition. These results may have implications for determining when to use CBT components in smoking cessation programs.\n",
      "---\n",
      "Over 5 million adults in the United States have a co-occurring substance use disorder and serious psychological distress. Mutual aid (self-help) can usefully complement treatment, but people with co-occurring substance use and psychiatric disorders often encounter a lack of empathy and acceptance in traditional mutual aid groups. Double Trouble in Recovery (DTR) is a dual focus fellowship whose mission is to bring the benefits of mutual aid to persons recovering from co-occurring disorders. An evaluation of DTR was conducted by interviewing 310 persons attending 24 DTR meetings in New York City (NYC) in 1998 and following them up for 2 years, in 1999 and 2000. The evaluation produced 13 articles in 12 peer-reviewed journals, the main results of which are summarized here. The sample's characteristics were as follows: mean age, 40 years; women, 28%; black, 59%; white, 25%; Hispanic, 14%; never married, 63%; live in supported community residence, 53%; high school graduate or GED, 60%; arrested as adult, 63%; diagnoses of: schizophrenia, 39%; major depression, 21%; or bipolar disorder, 20%; currently prescribed psychiatric medication, 92%; primary substance used, current or past: cocaine/crack, 42%; alcohol 34%; or heroin, 11%. Overall, the findings indicate that DTR participation has both direct and indirect effects on several important components of recovery: drug/alcohol abstinence, psychiatric medication adherence, self-efficacy for recovery, and quality of life. The study also identified several \"common\" therapeutic factors (e.g., internal motivation and social support) and unique mutual aid processes (helper-therapy and reciprocal learning) that mediate the influence of DTR participation on recovery. For clinicians, these results underline the importance of fostering stable affiliation with specialized dual focus 12-step groups for their patients with co-occurring disorders, as part of a comprehensive recovery-oriented treatment approach.\n",
      "---\n",
      "College students who have high stress levels tend to experience an increased risk of academic difficulties, substance abuse, and emotional problems. To enhance student stress management and health promoting behaviors, an online stress management intervention called MyStudentBody-Stress (MyStudentBody-Stress) was developed and tested. College students at six U.S. colleges were randomized to one of three conditions: MyStudentBody-Stress, a control health information website, or no intervention. The differences between groups on stress control and health behavior measures were compared at baseline, and at 1, 3, and 6 months after baseline. Although there were no between-group differences on primary outcome variables, secondary analyses indicated that MyStudentBody-Stress participants were more likely to increase weekly physical activity, use specific stress management methods, and exhibit decreased anxiety and family problems. These findings indicate some potentially beneficial effects of online stress management programming for college students. Implications for college health practitioners are discussed.\n",
      "---\n",
      "There has been considerable development of guided self-help clinics within primary care. This uncontrolled before-after cohort study examines efficiency and effectiveness of these clinics when supported by paraprofessional mental health workers having little mental health training and experience. Data were collected by seven Graduate Mental Health Workers (GMHW) located in South-west England. Alongside an analysis of clinic attendance and dropout, efficiency was measured with respect to the number and length of sessions to support patients with the effectiveness of the interventions examined with respect to problem severity. Over a 15-month period, 1162 patients were referred to the GMHW clinics with 658 adopting guided self-help. Patients using guided self-help received an average input per patient, excluding assessment, of four sessions of 40 minutes. Dropout rate was comparable to other primary-care-based mental health clinics supported by experienced mental health professionals with 458 patients completing all support sessions. However, only 233 patients went on to attend the 3 months of follow-up session. Effectiveness of guided self-help clinics supported by paraprofessional mental health workers was comparable to that supported by an experienced mental health nurse. Improvements in problem severity were statistically significant, with 55% and 58% (final support session) and 63% and 62% (3 months of follow-up) of patients experiencing clinically significant and reliable change for anxiety and depression, respectively. However, concerns exist over the efficiency of the GMHW clinic especially with respect to the use of longer support sessions and high dropout rate at the 3 months of follow-up session. The paper concludes by highlighting the effectiveness of guided self-help when supported by paraprofessional mental health workers, but questions the utility of the two-plus-one model of service delivery proposing a collaborative care approach as an alternative.\n",
      "---\n",
      "The study compares counselor and client characteristics of state-funded co-occurring disorder (COPSD) programs in mental health (MH) versus substance abuse (SA) settings. SA counselors more often had graduate degrees and MH counselors rated their knowledge and skills lower on two of nine COPSD best practice principles. MH clients were more frequently diagnosed with schizophrenia, depression, and bipolar disorder, whereas SA clients displayed evidence of greater substance use severity and had higher rates of treatment completion and abstinence at discharge. Results reveal significant implications for workforce development and potential system changes to enhance COPSD services that are unique to each setting.\n",
      "---\n",
      "This article reports the development of a couple-based intervention in which at least one partner had experienced chronic difficulties in emotion regulation, operationalized as having participated in a yearlong dialectical behavior therapy (DBT) skills training group. Integrating dialectical behavior therapy and cognitive-behavioral couple therapy, this group intervention taught couples emotion regulation, communication, and problem-solving skills, and led them through an exploration of how strong feelings affect and are affected by their relationship. The effects of treatment were evaluated in terms of relationship satisfaction and individual well-being. Sizeable treatment effects were found in several domains, including a reduction in DBT graduates' depressive symptoms and emotion dysregulation, and an increase in their partners' relationship satisfaction and confidence in their graduate spouses' ability to regulate emotions.\n",
      "---\n"
     ]
    },
    {
     "data": {
      "text/plain": [
       "{'sequence': 'intervention anxiety attachment depression therapists psychotherapy therapy cbt outcomes therapist',\n",
       " 'labels': ['Psychometrics of depression'],\n",
       " 'scores': [0.776483416557312]}"
      ]
     },
     "execution_count": 8,
     "metadata": {},
     "output_type": "execute_result"
    }
   ],
   "source": [
    "# ====================================\n",
    "# 模块6: 主题探索和分析\n",
    "# 对特定主题进行详细分析\n",
    "# ====================================\n",
    "# 选择一个感兴趣的主题进行分析\n",
    "MY_TOPIC = 5\n",
    "# 获取该主题的十个关键词\n",
    "topic_model.get_topic(MY_TOPIC) \n",
    "# 获取分配给该主题的所有文档\n",
    "assigned_docs = documents[documents.Topic == MY_TOPIC] \n",
    "# 打印该主题下所有文档的摘要\n",
    "for abstract in assigned_docs.Document:\n",
    "    print(abstract)\n",
    "    print('---')\n",
    "\n",
    "# 获取该主题的代表性文档\n",
    "representative_docs = topic_model.get_representative_docs(MY_TOPIC)\n",
    "# 获取代表性文档的引用信息\n",
    "data_full[data_full.abstract == representative_docs[1]].iloc[0].citation\n",
    "    \n",
    "# 使用零样本分类器为主题分配标签\n",
    "classifier = pipeline(\"zero-shot-classification\", model = \"facebook/bart-large-mnli\")\n",
    "# 将主题关键词组合成一个序列\n",
    "sequence_to_classify =  \" \".join([word for word, _ in topic_model.get_topic(MY_TOPIC)])\n",
    "# 定义候选标签\n",
    "candidate_labels = [\"Psychometrics of depression\"]\n",
    "# 执行分类\n",
    "classifier(sequence_to_classify, candidate_labels)"
   ]
  },
  {
   "cell_type": "code",
   "execution_count": 9,
   "metadata": {},
   "outputs": [
    {
     "data": {
      "application/vnd.plotly.v1+json": {
       "config": {
        "plotlyServerURL": "https://plot.ly"
       },
       "data": [
        {
         "marker": {
          "color": "#D55E00"
         },
         "orientation": "h",
         "type": "bar",
         "x": [
          0.014351385604829356,
          0.0147526967435926,
          0.024764810383859633,
          0.03159957945817436,
          0.06267625766575319
         ],
         "xaxis": "x",
         "y": [
          "training  ",
          "survey  ",
          "residents  ",
          "medical  ",
          "burnout  "
         ],
         "yaxis": "y"
        },
        {
         "marker": {
          "color": "#0072B2"
         },
         "orientation": "h",
         "type": "bar",
         "x": [
          0.01500937426381011,
          0.024611688198066257,
          0.0313884696894384,
          0.040875446950739656,
          0.043756706339585796
         ],
         "xaxis": "x2",
         "y": [
          "stress  ",
          "simulation  ",
          "anxiety  ",
          "students  ",
          "nursing  "
         ],
         "yaxis": "y2"
        },
        {
         "marker": {
          "color": "#CC79A7"
         },
         "orientation": "h",
         "type": "bar",
         "x": [
          0.017336447148673266,
          0.02055099177841653,
          0.025451452984561716,
          0.054624239648947685,
          0.061084908161423174
         ],
         "xaxis": "x3",
         "y": [
          "symptoms  ",
          "depression  ",
          "anxiety  ",
          "pandemic  ",
          "covid  "
         ],
         "yaxis": "y3"
        },
        {
         "marker": {
          "color": "#E69F00"
         },
         "orientation": "h",
         "type": "bar",
         "x": [
          0.013913695877160355,
          0.01662845557797269,
          0.019231687225356897,
          0.02001847658997236,
          0.03513279986440271
         ],
         "xaxis": "x4",
         "y": [
          "anxiety  ",
          "depression  ",
          "cancer  ",
          "pain  ",
          "patients  "
         ],
         "yaxis": "y4"
        },
        {
         "marker": {
          "color": "#56B4E9"
         },
         "orientation": "h",
         "type": "bar",
         "x": [
          0.018350454055243357,
          0.02062711423434705,
          0.023179027307372736,
          0.025434510774500978,
          0.06840326704465134
         ],
         "xaxis": "x5",
         "y": [
          "smoking  ",
          "cannabis  ",
          "consequences  ",
          "motives  ",
          "drinking  "
         ],
         "yaxis": "y5"
        },
        {
         "marker": {
          "color": "#009E73"
         },
         "orientation": "h",
         "type": "bar",
         "x": [
          0.017031494707887448,
          0.01879823642133758,
          0.02065884856246181,
          0.021810074855393095,
          0.025464307272735694
         ],
         "xaxis": "x6",
         "y": [
          "therapists  ",
          "depression  ",
          "attachment  ",
          "anxiety  ",
          "intervention  "
         ],
         "yaxis": "y6"
        }
       ],
       "layout": {
        "annotations": [
         {
          "font": {
           "size": 16
          },
          "showarrow": false,
          "text": "Topic 0",
          "x": 0.0875,
          "xanchor": "center",
          "xref": "paper",
          "y": 1,
          "yanchor": "bottom",
          "yref": "paper"
         },
         {
          "font": {
           "size": 16
          },
          "showarrow": false,
          "text": "Topic 1",
          "x": 0.36250000000000004,
          "xanchor": "center",
          "xref": "paper",
          "y": 1,
          "yanchor": "bottom",
          "yref": "paper"
         },
         {
          "font": {
           "size": 16
          },
          "showarrow": false,
          "text": "Topic 2",
          "x": 0.6375000000000001,
          "xanchor": "center",
          "xref": "paper",
          "y": 1,
          "yanchor": "bottom",
          "yref": "paper"
         },
         {
          "font": {
           "size": 16
          },
          "showarrow": false,
          "text": "Topic 3",
          "x": 0.9125,
          "xanchor": "center",
          "xref": "paper",
          "y": 1,
          "yanchor": "bottom",
          "yref": "paper"
         },
         {
          "font": {
           "size": 16
          },
          "showarrow": false,
          "text": "Topic 4",
          "x": 0.0875,
          "xanchor": "center",
          "xref": "paper",
          "y": 0.4,
          "yanchor": "bottom",
          "yref": "paper"
         },
         {
          "font": {
           "size": 16
          },
          "showarrow": false,
          "text": "Topic 5",
          "x": 0.36250000000000004,
          "xanchor": "center",
          "xref": "paper",
          "y": 0.4,
          "yanchor": "bottom",
          "yref": "paper"
         }
        ],
        "height": 500,
        "hoverlabel": {
         "bgcolor": "white",
         "font": {
          "family": "Rockwell",
          "size": 16
         }
        },
        "showlegend": false,
        "template": {
         "data": {
          "bar": [
           {
            "error_x": {
             "color": "#2a3f5f"
            },
            "error_y": {
             "color": "#2a3f5f"
            },
            "marker": {
             "line": {
              "color": "white",
              "width": 0.5
             },
             "pattern": {
              "fillmode": "overlay",
              "size": 10,
              "solidity": 0.2
             }
            },
            "type": "bar"
           }
          ],
          "barpolar": [
           {
            "marker": {
             "line": {
              "color": "white",
              "width": 0.5
             },
             "pattern": {
              "fillmode": "overlay",
              "size": 10,
              "solidity": 0.2
             }
            },
            "type": "barpolar"
           }
          ],
          "carpet": [
           {
            "aaxis": {
             "endlinecolor": "#2a3f5f",
             "gridcolor": "#C8D4E3",
             "linecolor": "#C8D4E3",
             "minorgridcolor": "#C8D4E3",
             "startlinecolor": "#2a3f5f"
            },
            "baxis": {
             "endlinecolor": "#2a3f5f",
             "gridcolor": "#C8D4E3",
             "linecolor": "#C8D4E3",
             "minorgridcolor": "#C8D4E3",
             "startlinecolor": "#2a3f5f"
            },
            "type": "carpet"
           }
          ],
          "choropleth": [
           {
            "colorbar": {
             "outlinewidth": 0,
             "ticks": ""
            },
            "type": "choropleth"
           }
          ],
          "contour": [
           {
            "colorbar": {
             "outlinewidth": 0,
             "ticks": ""
            },
            "colorscale": [
             [
              0,
              "#0d0887"
             ],
             [
              0.1111111111111111,
              "#46039f"
             ],
             [
              0.2222222222222222,
              "#7201a8"
             ],
             [
              0.3333333333333333,
              "#9c179e"
             ],
             [
              0.4444444444444444,
              "#bd3786"
             ],
             [
              0.5555555555555556,
              "#d8576b"
             ],
             [
              0.6666666666666666,
              "#ed7953"
             ],
             [
              0.7777777777777778,
              "#fb9f3a"
             ],
             [
              0.8888888888888888,
              "#fdca26"
             ],
             [
              1,
              "#f0f921"
             ]
            ],
            "type": "contour"
           }
          ],
          "contourcarpet": [
           {
            "colorbar": {
             "outlinewidth": 0,
             "ticks": ""
            },
            "type": "contourcarpet"
           }
          ],
          "heatmap": [
           {
            "colorbar": {
             "outlinewidth": 0,
             "ticks": ""
            },
            "colorscale": [
             [
              0,
              "#0d0887"
             ],
             [
              0.1111111111111111,
              "#46039f"
             ],
             [
              0.2222222222222222,
              "#7201a8"
             ],
             [
              0.3333333333333333,
              "#9c179e"
             ],
             [
              0.4444444444444444,
              "#bd3786"
             ],
             [
              0.5555555555555556,
              "#d8576b"
             ],
             [
              0.6666666666666666,
              "#ed7953"
             ],
             [
              0.7777777777777778,
              "#fb9f3a"
             ],
             [
              0.8888888888888888,
              "#fdca26"
             ],
             [
              1,
              "#f0f921"
             ]
            ],
            "type": "heatmap"
           }
          ],
          "histogram": [
           {
            "marker": {
             "pattern": {
              "fillmode": "overlay",
              "size": 10,
              "solidity": 0.2
             }
            },
            "type": "histogram"
           }
          ],
          "histogram2d": [
           {
            "colorbar": {
             "outlinewidth": 0,
             "ticks": ""
            },
            "colorscale": [
             [
              0,
              "#0d0887"
             ],
             [
              0.1111111111111111,
              "#46039f"
             ],
             [
              0.2222222222222222,
              "#7201a8"
             ],
             [
              0.3333333333333333,
              "#9c179e"
             ],
             [
              0.4444444444444444,
              "#bd3786"
             ],
             [
              0.5555555555555556,
              "#d8576b"
             ],
             [
              0.6666666666666666,
              "#ed7953"
             ],
             [
              0.7777777777777778,
              "#fb9f3a"
             ],
             [
              0.8888888888888888,
              "#fdca26"
             ],
             [
              1,
              "#f0f921"
             ]
            ],
            "type": "histogram2d"
           }
          ],
          "histogram2dcontour": [
           {
            "colorbar": {
             "outlinewidth": 0,
             "ticks": ""
            },
            "colorscale": [
             [
              0,
              "#0d0887"
             ],
             [
              0.1111111111111111,
              "#46039f"
             ],
             [
              0.2222222222222222,
              "#7201a8"
             ],
             [
              0.3333333333333333,
              "#9c179e"
             ],
             [
              0.4444444444444444,
              "#bd3786"
             ],
             [
              0.5555555555555556,
              "#d8576b"
             ],
             [
              0.6666666666666666,
              "#ed7953"
             ],
             [
              0.7777777777777778,
              "#fb9f3a"
             ],
             [
              0.8888888888888888,
              "#fdca26"
             ],
             [
              1,
              "#f0f921"
             ]
            ],
            "type": "histogram2dcontour"
           }
          ],
          "mesh3d": [
           {
            "colorbar": {
             "outlinewidth": 0,
             "ticks": ""
            },
            "type": "mesh3d"
           }
          ],
          "parcoords": [
           {
            "line": {
             "colorbar": {
              "outlinewidth": 0,
              "ticks": ""
             }
            },
            "type": "parcoords"
           }
          ],
          "pie": [
           {
            "automargin": true,
            "type": "pie"
           }
          ],
          "scatter": [
           {
            "fillpattern": {
             "fillmode": "overlay",
             "size": 10,
             "solidity": 0.2
            },
            "type": "scatter"
           }
          ],
          "scatter3d": [
           {
            "line": {
             "colorbar": {
              "outlinewidth": 0,
              "ticks": ""
             }
            },
            "marker": {
             "colorbar": {
              "outlinewidth": 0,
              "ticks": ""
             }
            },
            "type": "scatter3d"
           }
          ],
          "scattercarpet": [
           {
            "marker": {
             "colorbar": {
              "outlinewidth": 0,
              "ticks": ""
             }
            },
            "type": "scattercarpet"
           }
          ],
          "scattergeo": [
           {
            "marker": {
             "colorbar": {
              "outlinewidth": 0,
              "ticks": ""
             }
            },
            "type": "scattergeo"
           }
          ],
          "scattergl": [
           {
            "marker": {
             "colorbar": {
              "outlinewidth": 0,
              "ticks": ""
             }
            },
            "type": "scattergl"
           }
          ],
          "scattermap": [
           {
            "marker": {
             "colorbar": {
              "outlinewidth": 0,
              "ticks": ""
             }
            },
            "type": "scattermap"
           }
          ],
          "scattermapbox": [
           {
            "marker": {
             "colorbar": {
              "outlinewidth": 0,
              "ticks": ""
             }
            },
            "type": "scattermapbox"
           }
          ],
          "scatterpolar": [
           {
            "marker": {
             "colorbar": {
              "outlinewidth": 0,
              "ticks": ""
             }
            },
            "type": "scatterpolar"
           }
          ],
          "scatterpolargl": [
           {
            "marker": {
             "colorbar": {
              "outlinewidth": 0,
              "ticks": ""
             }
            },
            "type": "scatterpolargl"
           }
          ],
          "scatterternary": [
           {
            "marker": {
             "colorbar": {
              "outlinewidth": 0,
              "ticks": ""
             }
            },
            "type": "scatterternary"
           }
          ],
          "surface": [
           {
            "colorbar": {
             "outlinewidth": 0,
             "ticks": ""
            },
            "colorscale": [
             [
              0,
              "#0d0887"
             ],
             [
              0.1111111111111111,
              "#46039f"
             ],
             [
              0.2222222222222222,
              "#7201a8"
             ],
             [
              0.3333333333333333,
              "#9c179e"
             ],
             [
              0.4444444444444444,
              "#bd3786"
             ],
             [
              0.5555555555555556,
              "#d8576b"
             ],
             [
              0.6666666666666666,
              "#ed7953"
             ],
             [
              0.7777777777777778,
              "#fb9f3a"
             ],
             [
              0.8888888888888888,
              "#fdca26"
             ],
             [
              1,
              "#f0f921"
             ]
            ],
            "type": "surface"
           }
          ],
          "table": [
           {
            "cells": {
             "fill": {
              "color": "#EBF0F8"
             },
             "line": {
              "color": "white"
             }
            },
            "header": {
             "fill": {
              "color": "#C8D4E3"
             },
             "line": {
              "color": "white"
             }
            },
            "type": "table"
           }
          ]
         },
         "layout": {
          "annotationdefaults": {
           "arrowcolor": "#2a3f5f",
           "arrowhead": 0,
           "arrowwidth": 1
          },
          "autotypenumbers": "strict",
          "coloraxis": {
           "colorbar": {
            "outlinewidth": 0,
            "ticks": ""
           }
          },
          "colorscale": {
           "diverging": [
            [
             0,
             "#8e0152"
            ],
            [
             0.1,
             "#c51b7d"
            ],
            [
             0.2,
             "#de77ae"
            ],
            [
             0.3,
             "#f1b6da"
            ],
            [
             0.4,
             "#fde0ef"
            ],
            [
             0.5,
             "#f7f7f7"
            ],
            [
             0.6,
             "#e6f5d0"
            ],
            [
             0.7,
             "#b8e186"
            ],
            [
             0.8,
             "#7fbc41"
            ],
            [
             0.9,
             "#4d9221"
            ],
            [
             1,
             "#276419"
            ]
           ],
           "sequential": [
            [
             0,
             "#0d0887"
            ],
            [
             0.1111111111111111,
             "#46039f"
            ],
            [
             0.2222222222222222,
             "#7201a8"
            ],
            [
             0.3333333333333333,
             "#9c179e"
            ],
            [
             0.4444444444444444,
             "#bd3786"
            ],
            [
             0.5555555555555556,
             "#d8576b"
            ],
            [
             0.6666666666666666,
             "#ed7953"
            ],
            [
             0.7777777777777778,
             "#fb9f3a"
            ],
            [
             0.8888888888888888,
             "#fdca26"
            ],
            [
             1,
             "#f0f921"
            ]
           ],
           "sequentialminus": [
            [
             0,
             "#0d0887"
            ],
            [
             0.1111111111111111,
             "#46039f"
            ],
            [
             0.2222222222222222,
             "#7201a8"
            ],
            [
             0.3333333333333333,
             "#9c179e"
            ],
            [
             0.4444444444444444,
             "#bd3786"
            ],
            [
             0.5555555555555556,
             "#d8576b"
            ],
            [
             0.6666666666666666,
             "#ed7953"
            ],
            [
             0.7777777777777778,
             "#fb9f3a"
            ],
            [
             0.8888888888888888,
             "#fdca26"
            ],
            [
             1,
             "#f0f921"
            ]
           ]
          },
          "colorway": [
           "#636efa",
           "#EF553B",
           "#00cc96",
           "#ab63fa",
           "#FFA15A",
           "#19d3f3",
           "#FF6692",
           "#B6E880",
           "#FF97FF",
           "#FECB52"
          ],
          "font": {
           "color": "#2a3f5f"
          },
          "geo": {
           "bgcolor": "white",
           "lakecolor": "white",
           "landcolor": "white",
           "showlakes": true,
           "showland": true,
           "subunitcolor": "#C8D4E3"
          },
          "hoverlabel": {
           "align": "left"
          },
          "hovermode": "closest",
          "mapbox": {
           "style": "light"
          },
          "paper_bgcolor": "white",
          "plot_bgcolor": "white",
          "polar": {
           "angularaxis": {
            "gridcolor": "#EBF0F8",
            "linecolor": "#EBF0F8",
            "ticks": ""
           },
           "bgcolor": "white",
           "radialaxis": {
            "gridcolor": "#EBF0F8",
            "linecolor": "#EBF0F8",
            "ticks": ""
           }
          },
          "scene": {
           "xaxis": {
            "backgroundcolor": "white",
            "gridcolor": "#DFE8F3",
            "gridwidth": 2,
            "linecolor": "#EBF0F8",
            "showbackground": true,
            "ticks": "",
            "zerolinecolor": "#EBF0F8"
           },
           "yaxis": {
            "backgroundcolor": "white",
            "gridcolor": "#DFE8F3",
            "gridwidth": 2,
            "linecolor": "#EBF0F8",
            "showbackground": true,
            "ticks": "",
            "zerolinecolor": "#EBF0F8"
           },
           "zaxis": {
            "backgroundcolor": "white",
            "gridcolor": "#DFE8F3",
            "gridwidth": 2,
            "linecolor": "#EBF0F8",
            "showbackground": true,
            "ticks": "",
            "zerolinecolor": "#EBF0F8"
           }
          },
          "shapedefaults": {
           "line": {
            "color": "#2a3f5f"
           }
          },
          "ternary": {
           "aaxis": {
            "gridcolor": "#DFE8F3",
            "linecolor": "#A2B1C6",
            "ticks": ""
           },
           "baxis": {
            "gridcolor": "#DFE8F3",
            "linecolor": "#A2B1C6",
            "ticks": ""
           },
           "bgcolor": "white",
           "caxis": {
            "gridcolor": "#DFE8F3",
            "linecolor": "#A2B1C6",
            "ticks": ""
           }
          },
          "title": {
           "x": 0.05
          },
          "xaxis": {
           "automargin": true,
           "gridcolor": "#EBF0F8",
           "linecolor": "#EBF0F8",
           "ticks": "",
           "title": {
            "standoff": 15
           },
           "zerolinecolor": "#EBF0F8",
           "zerolinewidth": 2
          },
          "yaxis": {
           "automargin": true,
           "gridcolor": "#EBF0F8",
           "linecolor": "#EBF0F8",
           "ticks": "",
           "title": {
            "standoff": 15
           },
           "zerolinecolor": "#EBF0F8",
           "zerolinewidth": 2
          }
         }
        },
        "title": {
         "font": {
          "color": "Black",
          "size": 22
         },
         "text": "",
         "x": 0.5,
         "xanchor": "center",
         "yanchor": "top"
        },
        "width": 1600,
        "xaxis": {
         "anchor": "y",
         "domain": [
          0,
          0.175
         ],
         "showgrid": true
        },
        "xaxis2": {
         "anchor": "y2",
         "domain": [
          0.275,
          0.45
         ],
         "showgrid": true
        },
        "xaxis3": {
         "anchor": "y3",
         "domain": [
          0.55,
          0.7250000000000001
         ],
         "showgrid": true
        },
        "xaxis4": {
         "anchor": "y4",
         "domain": [
          0.825,
          1
         ],
         "showgrid": true
        },
        "xaxis5": {
         "anchor": "y5",
         "domain": [
          0,
          0.175
         ],
         "showgrid": true
        },
        "xaxis6": {
         "anchor": "y6",
         "domain": [
          0.275,
          0.45
         ],
         "showgrid": true
        },
        "xaxis7": {
         "anchor": "y7",
         "domain": [
          0.55,
          0.7250000000000001
         ],
         "showgrid": true
        },
        "xaxis8": {
         "anchor": "y8",
         "domain": [
          0.825,
          1
         ],
         "showgrid": true
        },
        "yaxis": {
         "anchor": "x",
         "domain": [
          0.6000000000000001,
          1
         ],
         "showgrid": true
        },
        "yaxis2": {
         "anchor": "x2",
         "domain": [
          0.6000000000000001,
          1
         ],
         "showgrid": true
        },
        "yaxis3": {
         "anchor": "x3",
         "domain": [
          0.6000000000000001,
          1
         ],
         "showgrid": true
        },
        "yaxis4": {
         "anchor": "x4",
         "domain": [
          0.6000000000000001,
          1
         ],
         "showgrid": true
        },
        "yaxis5": {
         "anchor": "x5",
         "domain": [
          0,
          0.4
         ],
         "showgrid": true
        },
        "yaxis6": {
         "anchor": "x6",
         "domain": [
          0,
          0.4
         ],
         "showgrid": true
        },
        "yaxis7": {
         "anchor": "x7",
         "domain": [
          0,
          0.4
         ],
         "showgrid": true
        },
        "yaxis8": {
         "anchor": "x8",
         "domain": [
          0,
          0.4
         ],
         "showgrid": true
        }
       }
      }
     },
     "metadata": {},
     "output_type": "display_data"
    },
    {
     "data": {
      "application/vnd.plotly.v1+json": {
       "config": {
        "plotlyServerURL": "https://plot.ly"
       },
       "data": [
        {
         "customdata": [
          [
           0,
           "burnout | medical | residents | survey | training",
           438
          ],
          [
           1,
           "nursing | students | anxiety | simulation | stress",
           251
          ],
          [
           2,
           "covid | pandemic | anxiety | depression | symptoms",
           194
          ],
          [
           3,
           "patients | pain | cancer | depression | anxiety",
           160
          ],
          [
           4,
           "drinking | motives | consequences | cannabis | smoking",
           135
          ],
          [
           5,
           "intervention | anxiety | attachment | depression | therapists",
           123
          ],
          [
           6,
           "anxiety | rumination | self | phobia | sensitivity",
           107
          ],
          [
           7,
           "mental | students | stigma | seeking | treatment",
           107
          ],
          [
           8,
           "eating | weight | depression | health | disorders",
           85
          ],
          [
           9,
           "nurses | nursing | burnout | compassion | nurse",
           85
          ],
          [
           10,
           "sleep | insomnia | anxiety | chronotype | questionnaire",
           82
          ],
          [
           11,
           "students | depression | symptoms | depressive | anxiety",
           81
          ],
          [
           12,
           "mindfulness | veterinary | students | yoga | meditation",
           75
          ],
          [
           13,
           "suicide | suicidal | depression | suicidality | depressive",
           72
          ],
          [
           14,
           "hiv | depressive | symptoms | depression | heterosexual",
           62
          ],
          [
           15,
           "factor | alexithymia | validity | depression | psychometric",
           57
          ],
          [
           16,
           "internet | addiction | facebook | smartphone | anxiety",
           48
          ],
          [
           17,
           "dental | anxiety | patients | injection | tmd",
           47
          ],
          [
           18,
           "athletes | concussion | collegiate | depression | anxiety",
           47
          ],
          [
           19,
           "veterans | ptsd | gambling | homeless | symptoms",
           45
          ],
          [
           20,
           "pregnancy | ppd | postpartum | maternal | depression",
           42
          ],
          [
           21,
           "ocd | obsessive | compulsive | autistic | autism",
           39
          ]
         ],
         "hovertemplate": "<b>Topic %{customdata[0]}</b><br>%{customdata[1]}<br>Size: %{customdata[2]}",
         "legendgroup": "",
         "marker": {
          "color": "#B0BEC5",
          "line": {
           "color": "DarkSlateGrey",
           "width": 2
          },
          "size": {
           "bdata": "tgH7AMIAoACHAHsAawBrAFUAVQBSAFEASwBIAD4AOQAwAC8ALwAtACoAJwA=",
           "dtype": "i2"
          },
          "sizemode": "area",
          "sizeref": 0.27375,
          "symbol": "circle"
         },
         "mode": "markers",
         "name": "",
         "orientation": "v",
         "showlegend": false,
         "type": "scatter",
         "x": {
          "bdata": "Iv5jQRJKz76LL/Q/dsBdv6QfSj//epa+H3zPQAwtdT8NfQVAc+pkQXVA30DzQeQ/Afu9vpH7Fz9Bx6s9MSXbQMQJND99KNI/XnCovhOppj1eD4+/9/jFQA==",
          "dtype": "f4"
         },
         "xaxis": "x",
         "y": {
          "bdata": "r1HoQJO0C0Gcz0hB0VIdQbUUKkFPARpBrzjKwKWVMkHKz0tBNMTmQIBausBRTUZBvWkRQR26MkG4MCxBvHi+wE6OJkEoXERBaVA+QTegOkHxMB1BnbbTwA==",
          "dtype": "f4"
         },
         "yaxis": "y"
        }
       ],
       "layout": {
        "annotations": [
         {
          "showarrow": false,
          "text": "D1",
          "x": -1.2853049397468568,
          "y": 3.520258152484894,
          "yshift": 10
         },
         {
          "showarrow": false,
          "text": "D2",
          "x": 7.5840097129344946,
          "xshift": 10,
          "y": 14.648964214324952
         }
        ],
        "height": 650,
        "hoverlabel": {
         "bgcolor": "white",
         "font": {
          "family": "Rockwell",
          "size": 16
         }
        },
        "legend": {
         "itemsizing": "constant",
         "tracegroupgap": 0
        },
        "margin": {
         "t": 60
        },
        "shapes": [
         {
          "line": {
           "color": "#CFD8DC",
           "width": 2
          },
          "type": "line",
          "x0": 7.5840097129344946,
          "x1": 7.5840097129344946,
          "y0": -7.608447909355164,
          "y1": 14.648964214324952
         },
         {
          "line": {
           "color": "#9E9E9E",
           "width": 2
          },
          "type": "line",
          "x0": -1.2853049397468568,
          "x1": 16.453324365615845,
          "y0": 3.520258152484894,
          "y1": 3.520258152484894
         }
        ],
        "sliders": [
         {
          "active": 0,
          "pad": {
           "t": 50
          },
          "steps": [
           {
            "args": [
             {
              "marker.color": [
               [
                "red",
                "#B0BEC5",
                "#B0BEC5",
                "#B0BEC5",
                "#B0BEC5",
                "#B0BEC5",
                "#B0BEC5",
                "#B0BEC5",
                "#B0BEC5",
                "#B0BEC5",
                "#B0BEC5",
                "#B0BEC5",
                "#B0BEC5",
                "#B0BEC5",
                "#B0BEC5",
                "#B0BEC5",
                "#B0BEC5",
                "#B0BEC5",
                "#B0BEC5",
                "#B0BEC5",
                "#B0BEC5",
                "#B0BEC5"
               ]
              ]
             }
            ],
            "label": "Topic 0",
            "method": "update"
           },
           {
            "args": [
             {
              "marker.color": [
               [
                "#B0BEC5",
                "red",
                "#B0BEC5",
                "#B0BEC5",
                "#B0BEC5",
                "#B0BEC5",
                "#B0BEC5",
                "#B0BEC5",
                "#B0BEC5",
                "#B0BEC5",
                "#B0BEC5",
                "#B0BEC5",
                "#B0BEC5",
                "#B0BEC5",
                "#B0BEC5",
                "#B0BEC5",
                "#B0BEC5",
                "#B0BEC5",
                "#B0BEC5",
                "#B0BEC5",
                "#B0BEC5",
                "#B0BEC5"
               ]
              ]
             }
            ],
            "label": "Topic 1",
            "method": "update"
           },
           {
            "args": [
             {
              "marker.color": [
               [
                "#B0BEC5",
                "#B0BEC5",
                "red",
                "#B0BEC5",
                "#B0BEC5",
                "#B0BEC5",
                "#B0BEC5",
                "#B0BEC5",
                "#B0BEC5",
                "#B0BEC5",
                "#B0BEC5",
                "#B0BEC5",
                "#B0BEC5",
                "#B0BEC5",
                "#B0BEC5",
                "#B0BEC5",
                "#B0BEC5",
                "#B0BEC5",
                "#B0BEC5",
                "#B0BEC5",
                "#B0BEC5",
                "#B0BEC5"
               ]
              ]
             }
            ],
            "label": "Topic 2",
            "method": "update"
           },
           {
            "args": [
             {
              "marker.color": [
               [
                "#B0BEC5",
                "#B0BEC5",
                "#B0BEC5",
                "red",
                "#B0BEC5",
                "#B0BEC5",
                "#B0BEC5",
                "#B0BEC5",
                "#B0BEC5",
                "#B0BEC5",
                "#B0BEC5",
                "#B0BEC5",
                "#B0BEC5",
                "#B0BEC5",
                "#B0BEC5",
                "#B0BEC5",
                "#B0BEC5",
                "#B0BEC5",
                "#B0BEC5",
                "#B0BEC5",
                "#B0BEC5",
                "#B0BEC5"
               ]
              ]
             }
            ],
            "label": "Topic 3",
            "method": "update"
           },
           {
            "args": [
             {
              "marker.color": [
               [
                "#B0BEC5",
                "#B0BEC5",
                "#B0BEC5",
                "#B0BEC5",
                "red",
                "#B0BEC5",
                "#B0BEC5",
                "#B0BEC5",
                "#B0BEC5",
                "#B0BEC5",
                "#B0BEC5",
                "#B0BEC5",
                "#B0BEC5",
                "#B0BEC5",
                "#B0BEC5",
                "#B0BEC5",
                "#B0BEC5",
                "#B0BEC5",
                "#B0BEC5",
                "#B0BEC5",
                "#B0BEC5",
                "#B0BEC5"
               ]
              ]
             }
            ],
            "label": "Topic 4",
            "method": "update"
           },
           {
            "args": [
             {
              "marker.color": [
               [
                "#B0BEC5",
                "#B0BEC5",
                "#B0BEC5",
                "#B0BEC5",
                "#B0BEC5",
                "red",
                "#B0BEC5",
                "#B0BEC5",
                "#B0BEC5",
                "#B0BEC5",
                "#B0BEC5",
                "#B0BEC5",
                "#B0BEC5",
                "#B0BEC5",
                "#B0BEC5",
                "#B0BEC5",
                "#B0BEC5",
                "#B0BEC5",
                "#B0BEC5",
                "#B0BEC5",
                "#B0BEC5",
                "#B0BEC5"
               ]
              ]
             }
            ],
            "label": "Topic 5",
            "method": "update"
           },
           {
            "args": [
             {
              "marker.color": [
               [
                "#B0BEC5",
                "#B0BEC5",
                "#B0BEC5",
                "#B0BEC5",
                "#B0BEC5",
                "#B0BEC5",
                "red",
                "#B0BEC5",
                "#B0BEC5",
                "#B0BEC5",
                "#B0BEC5",
                "#B0BEC5",
                "#B0BEC5",
                "#B0BEC5",
                "#B0BEC5",
                "#B0BEC5",
                "#B0BEC5",
                "#B0BEC5",
                "#B0BEC5",
                "#B0BEC5",
                "#B0BEC5",
                "#B0BEC5"
               ]
              ]
             }
            ],
            "label": "Topic 6",
            "method": "update"
           },
           {
            "args": [
             {
              "marker.color": [
               [
                "#B0BEC5",
                "#B0BEC5",
                "#B0BEC5",
                "#B0BEC5",
                "#B0BEC5",
                "#B0BEC5",
                "#B0BEC5",
                "red",
                "#B0BEC5",
                "#B0BEC5",
                "#B0BEC5",
                "#B0BEC5",
                "#B0BEC5",
                "#B0BEC5",
                "#B0BEC5",
                "#B0BEC5",
                "#B0BEC5",
                "#B0BEC5",
                "#B0BEC5",
                "#B0BEC5",
                "#B0BEC5",
                "#B0BEC5"
               ]
              ]
             }
            ],
            "label": "Topic 7",
            "method": "update"
           },
           {
            "args": [
             {
              "marker.color": [
               [
                "#B0BEC5",
                "#B0BEC5",
                "#B0BEC5",
                "#B0BEC5",
                "#B0BEC5",
                "#B0BEC5",
                "#B0BEC5",
                "#B0BEC5",
                "red",
                "#B0BEC5",
                "#B0BEC5",
                "#B0BEC5",
                "#B0BEC5",
                "#B0BEC5",
                "#B0BEC5",
                "#B0BEC5",
                "#B0BEC5",
                "#B0BEC5",
                "#B0BEC5",
                "#B0BEC5",
                "#B0BEC5",
                "#B0BEC5"
               ]
              ]
             }
            ],
            "label": "Topic 8",
            "method": "update"
           },
           {
            "args": [
             {
              "marker.color": [
               [
                "#B0BEC5",
                "#B0BEC5",
                "#B0BEC5",
                "#B0BEC5",
                "#B0BEC5",
                "#B0BEC5",
                "#B0BEC5",
                "#B0BEC5",
                "#B0BEC5",
                "red",
                "#B0BEC5",
                "#B0BEC5",
                "#B0BEC5",
                "#B0BEC5",
                "#B0BEC5",
                "#B0BEC5",
                "#B0BEC5",
                "#B0BEC5",
                "#B0BEC5",
                "#B0BEC5",
                "#B0BEC5",
                "#B0BEC5"
               ]
              ]
             }
            ],
            "label": "Topic 9",
            "method": "update"
           },
           {
            "args": [
             {
              "marker.color": [
               [
                "#B0BEC5",
                "#B0BEC5",
                "#B0BEC5",
                "#B0BEC5",
                "#B0BEC5",
                "#B0BEC5",
                "#B0BEC5",
                "#B0BEC5",
                "#B0BEC5",
                "#B0BEC5",
                "red",
                "#B0BEC5",
                "#B0BEC5",
                "#B0BEC5",
                "#B0BEC5",
                "#B0BEC5",
                "#B0BEC5",
                "#B0BEC5",
                "#B0BEC5",
                "#B0BEC5",
                "#B0BEC5",
                "#B0BEC5"
               ]
              ]
             }
            ],
            "label": "Topic 10",
            "method": "update"
           },
           {
            "args": [
             {
              "marker.color": [
               [
                "#B0BEC5",
                "#B0BEC5",
                "#B0BEC5",
                "#B0BEC5",
                "#B0BEC5",
                "#B0BEC5",
                "#B0BEC5",
                "#B0BEC5",
                "#B0BEC5",
                "#B0BEC5",
                "#B0BEC5",
                "red",
                "#B0BEC5",
                "#B0BEC5",
                "#B0BEC5",
                "#B0BEC5",
                "#B0BEC5",
                "#B0BEC5",
                "#B0BEC5",
                "#B0BEC5",
                "#B0BEC5",
                "#B0BEC5"
               ]
              ]
             }
            ],
            "label": "Topic 11",
            "method": "update"
           },
           {
            "args": [
             {
              "marker.color": [
               [
                "#B0BEC5",
                "#B0BEC5",
                "#B0BEC5",
                "#B0BEC5",
                "#B0BEC5",
                "#B0BEC5",
                "#B0BEC5",
                "#B0BEC5",
                "#B0BEC5",
                "#B0BEC5",
                "#B0BEC5",
                "#B0BEC5",
                "red",
                "#B0BEC5",
                "#B0BEC5",
                "#B0BEC5",
                "#B0BEC5",
                "#B0BEC5",
                "#B0BEC5",
                "#B0BEC5",
                "#B0BEC5",
                "#B0BEC5"
               ]
              ]
             }
            ],
            "label": "Topic 12",
            "method": "update"
           },
           {
            "args": [
             {
              "marker.color": [
               [
                "#B0BEC5",
                "#B0BEC5",
                "#B0BEC5",
                "#B0BEC5",
                "#B0BEC5",
                "#B0BEC5",
                "#B0BEC5",
                "#B0BEC5",
                "#B0BEC5",
                "#B0BEC5",
                "#B0BEC5",
                "#B0BEC5",
                "#B0BEC5",
                "red",
                "#B0BEC5",
                "#B0BEC5",
                "#B0BEC5",
                "#B0BEC5",
                "#B0BEC5",
                "#B0BEC5",
                "#B0BEC5",
                "#B0BEC5"
               ]
              ]
             }
            ],
            "label": "Topic 13",
            "method": "update"
           },
           {
            "args": [
             {
              "marker.color": [
               [
                "#B0BEC5",
                "#B0BEC5",
                "#B0BEC5",
                "#B0BEC5",
                "#B0BEC5",
                "#B0BEC5",
                "#B0BEC5",
                "#B0BEC5",
                "#B0BEC5",
                "#B0BEC5",
                "#B0BEC5",
                "#B0BEC5",
                "#B0BEC5",
                "#B0BEC5",
                "red",
                "#B0BEC5",
                "#B0BEC5",
                "#B0BEC5",
                "#B0BEC5",
                "#B0BEC5",
                "#B0BEC5",
                "#B0BEC5"
               ]
              ]
             }
            ],
            "label": "Topic 14",
            "method": "update"
           },
           {
            "args": [
             {
              "marker.color": [
               [
                "#B0BEC5",
                "#B0BEC5",
                "#B0BEC5",
                "#B0BEC5",
                "#B0BEC5",
                "#B0BEC5",
                "#B0BEC5",
                "#B0BEC5",
                "#B0BEC5",
                "#B0BEC5",
                "#B0BEC5",
                "#B0BEC5",
                "#B0BEC5",
                "#B0BEC5",
                "#B0BEC5",
                "red",
                "#B0BEC5",
                "#B0BEC5",
                "#B0BEC5",
                "#B0BEC5",
                "#B0BEC5",
                "#B0BEC5"
               ]
              ]
             }
            ],
            "label": "Topic 15",
            "method": "update"
           },
           {
            "args": [
             {
              "marker.color": [
               [
                "#B0BEC5",
                "#B0BEC5",
                "#B0BEC5",
                "#B0BEC5",
                "#B0BEC5",
                "#B0BEC5",
                "#B0BEC5",
                "#B0BEC5",
                "#B0BEC5",
                "#B0BEC5",
                "#B0BEC5",
                "#B0BEC5",
                "#B0BEC5",
                "#B0BEC5",
                "#B0BEC5",
                "#B0BEC5",
                "red",
                "#B0BEC5",
                "#B0BEC5",
                "#B0BEC5",
                "#B0BEC5",
                "#B0BEC5"
               ]
              ]
             }
            ],
            "label": "Topic 16",
            "method": "update"
           },
           {
            "args": [
             {
              "marker.color": [
               [
                "#B0BEC5",
                "#B0BEC5",
                "#B0BEC5",
                "#B0BEC5",
                "#B0BEC5",
                "#B0BEC5",
                "#B0BEC5",
                "#B0BEC5",
                "#B0BEC5",
                "#B0BEC5",
                "#B0BEC5",
                "#B0BEC5",
                "#B0BEC5",
                "#B0BEC5",
                "#B0BEC5",
                "#B0BEC5",
                "#B0BEC5",
                "red",
                "#B0BEC5",
                "#B0BEC5",
                "#B0BEC5",
                "#B0BEC5"
               ]
              ]
             }
            ],
            "label": "Topic 17",
            "method": "update"
           },
           {
            "args": [
             {
              "marker.color": [
               [
                "#B0BEC5",
                "#B0BEC5",
                "#B0BEC5",
                "#B0BEC5",
                "#B0BEC5",
                "#B0BEC5",
                "#B0BEC5",
                "#B0BEC5",
                "#B0BEC5",
                "#B0BEC5",
                "#B0BEC5",
                "#B0BEC5",
                "#B0BEC5",
                "#B0BEC5",
                "#B0BEC5",
                "#B0BEC5",
                "#B0BEC5",
                "#B0BEC5",
                "red",
                "#B0BEC5",
                "#B0BEC5",
                "#B0BEC5"
               ]
              ]
             }
            ],
            "label": "Topic 18",
            "method": "update"
           },
           {
            "args": [
             {
              "marker.color": [
               [
                "#B0BEC5",
                "#B0BEC5",
                "#B0BEC5",
                "#B0BEC5",
                "#B0BEC5",
                "#B0BEC5",
                "#B0BEC5",
                "#B0BEC5",
                "#B0BEC5",
                "#B0BEC5",
                "#B0BEC5",
                "#B0BEC5",
                "#B0BEC5",
                "#B0BEC5",
                "#B0BEC5",
                "#B0BEC5",
                "#B0BEC5",
                "#B0BEC5",
                "#B0BEC5",
                "red",
                "#B0BEC5",
                "#B0BEC5"
               ]
              ]
             }
            ],
            "label": "Topic 19",
            "method": "update"
           },
           {
            "args": [
             {
              "marker.color": [
               [
                "#B0BEC5",
                "#B0BEC5",
                "#B0BEC5",
                "#B0BEC5",
                "#B0BEC5",
                "#B0BEC5",
                "#B0BEC5",
                "#B0BEC5",
                "#B0BEC5",
                "#B0BEC5",
                "#B0BEC5",
                "#B0BEC5",
                "#B0BEC5",
                "#B0BEC5",
                "#B0BEC5",
                "#B0BEC5",
                "#B0BEC5",
                "#B0BEC5",
                "#B0BEC5",
                "#B0BEC5",
                "red",
                "#B0BEC5"
               ]
              ]
             }
            ],
            "label": "Topic 20",
            "method": "update"
           },
           {
            "args": [
             {
              "marker.color": [
               [
                "#B0BEC5",
                "#B0BEC5",
                "#B0BEC5",
                "#B0BEC5",
                "#B0BEC5",
                "#B0BEC5",
                "#B0BEC5",
                "#B0BEC5",
                "#B0BEC5",
                "#B0BEC5",
                "#B0BEC5",
                "#B0BEC5",
                "#B0BEC5",
                "#B0BEC5",
                "#B0BEC5",
                "#B0BEC5",
                "#B0BEC5",
                "#B0BEC5",
                "#B0BEC5",
                "#B0BEC5",
                "#B0BEC5",
                "red"
               ]
              ]
             }
            ],
            "label": "Topic 21",
            "method": "update"
           }
          ]
         }
        ],
        "template": {
         "data": {
          "bar": [
           {
            "error_x": {
             "color": "rgb(36,36,36)"
            },
            "error_y": {
             "color": "rgb(36,36,36)"
            },
            "marker": {
             "line": {
              "color": "white",
              "width": 0.5
             },
             "pattern": {
              "fillmode": "overlay",
              "size": 10,
              "solidity": 0.2
             }
            },
            "type": "bar"
           }
          ],
          "barpolar": [
           {
            "marker": {
             "line": {
              "color": "white",
              "width": 0.5
             },
             "pattern": {
              "fillmode": "overlay",
              "size": 10,
              "solidity": 0.2
             }
            },
            "type": "barpolar"
           }
          ],
          "carpet": [
           {
            "aaxis": {
             "endlinecolor": "rgb(36,36,36)",
             "gridcolor": "white",
             "linecolor": "white",
             "minorgridcolor": "white",
             "startlinecolor": "rgb(36,36,36)"
            },
            "baxis": {
             "endlinecolor": "rgb(36,36,36)",
             "gridcolor": "white",
             "linecolor": "white",
             "minorgridcolor": "white",
             "startlinecolor": "rgb(36,36,36)"
            },
            "type": "carpet"
           }
          ],
          "choropleth": [
           {
            "colorbar": {
             "outlinewidth": 1,
             "tickcolor": "rgb(36,36,36)",
             "ticks": "outside"
            },
            "type": "choropleth"
           }
          ],
          "contour": [
           {
            "colorbar": {
             "outlinewidth": 1,
             "tickcolor": "rgb(36,36,36)",
             "ticks": "outside"
            },
            "colorscale": [
             [
              0,
              "#440154"
             ],
             [
              0.1111111111111111,
              "#482878"
             ],
             [
              0.2222222222222222,
              "#3e4989"
             ],
             [
              0.3333333333333333,
              "#31688e"
             ],
             [
              0.4444444444444444,
              "#26828e"
             ],
             [
              0.5555555555555556,
              "#1f9e89"
             ],
             [
              0.6666666666666666,
              "#35b779"
             ],
             [
              0.7777777777777778,
              "#6ece58"
             ],
             [
              0.8888888888888888,
              "#b5de2b"
             ],
             [
              1,
              "#fde725"
             ]
            ],
            "type": "contour"
           }
          ],
          "contourcarpet": [
           {
            "colorbar": {
             "outlinewidth": 1,
             "tickcolor": "rgb(36,36,36)",
             "ticks": "outside"
            },
            "type": "contourcarpet"
           }
          ],
          "heatmap": [
           {
            "colorbar": {
             "outlinewidth": 1,
             "tickcolor": "rgb(36,36,36)",
             "ticks": "outside"
            },
            "colorscale": [
             [
              0,
              "#440154"
             ],
             [
              0.1111111111111111,
              "#482878"
             ],
             [
              0.2222222222222222,
              "#3e4989"
             ],
             [
              0.3333333333333333,
              "#31688e"
             ],
             [
              0.4444444444444444,
              "#26828e"
             ],
             [
              0.5555555555555556,
              "#1f9e89"
             ],
             [
              0.6666666666666666,
              "#35b779"
             ],
             [
              0.7777777777777778,
              "#6ece58"
             ],
             [
              0.8888888888888888,
              "#b5de2b"
             ],
             [
              1,
              "#fde725"
             ]
            ],
            "type": "heatmap"
           }
          ],
          "histogram": [
           {
            "marker": {
             "line": {
              "color": "white",
              "width": 0.6
             }
            },
            "type": "histogram"
           }
          ],
          "histogram2d": [
           {
            "colorbar": {
             "outlinewidth": 1,
             "tickcolor": "rgb(36,36,36)",
             "ticks": "outside"
            },
            "colorscale": [
             [
              0,
              "#440154"
             ],
             [
              0.1111111111111111,
              "#482878"
             ],
             [
              0.2222222222222222,
              "#3e4989"
             ],
             [
              0.3333333333333333,
              "#31688e"
             ],
             [
              0.4444444444444444,
              "#26828e"
             ],
             [
              0.5555555555555556,
              "#1f9e89"
             ],
             [
              0.6666666666666666,
              "#35b779"
             ],
             [
              0.7777777777777778,
              "#6ece58"
             ],
             [
              0.8888888888888888,
              "#b5de2b"
             ],
             [
              1,
              "#fde725"
             ]
            ],
            "type": "histogram2d"
           }
          ],
          "histogram2dcontour": [
           {
            "colorbar": {
             "outlinewidth": 1,
             "tickcolor": "rgb(36,36,36)",
             "ticks": "outside"
            },
            "colorscale": [
             [
              0,
              "#440154"
             ],
             [
              0.1111111111111111,
              "#482878"
             ],
             [
              0.2222222222222222,
              "#3e4989"
             ],
             [
              0.3333333333333333,
              "#31688e"
             ],
             [
              0.4444444444444444,
              "#26828e"
             ],
             [
              0.5555555555555556,
              "#1f9e89"
             ],
             [
              0.6666666666666666,
              "#35b779"
             ],
             [
              0.7777777777777778,
              "#6ece58"
             ],
             [
              0.8888888888888888,
              "#b5de2b"
             ],
             [
              1,
              "#fde725"
             ]
            ],
            "type": "histogram2dcontour"
           }
          ],
          "mesh3d": [
           {
            "colorbar": {
             "outlinewidth": 1,
             "tickcolor": "rgb(36,36,36)",
             "ticks": "outside"
            },
            "type": "mesh3d"
           }
          ],
          "parcoords": [
           {
            "line": {
             "colorbar": {
              "outlinewidth": 1,
              "tickcolor": "rgb(36,36,36)",
              "ticks": "outside"
             }
            },
            "type": "parcoords"
           }
          ],
          "pie": [
           {
            "automargin": true,
            "type": "pie"
           }
          ],
          "scatter": [
           {
            "fillpattern": {
             "fillmode": "overlay",
             "size": 10,
             "solidity": 0.2
            },
            "type": "scatter"
           }
          ],
          "scatter3d": [
           {
            "line": {
             "colorbar": {
              "outlinewidth": 1,
              "tickcolor": "rgb(36,36,36)",
              "ticks": "outside"
             }
            },
            "marker": {
             "colorbar": {
              "outlinewidth": 1,
              "tickcolor": "rgb(36,36,36)",
              "ticks": "outside"
             }
            },
            "type": "scatter3d"
           }
          ],
          "scattercarpet": [
           {
            "marker": {
             "colorbar": {
              "outlinewidth": 1,
              "tickcolor": "rgb(36,36,36)",
              "ticks": "outside"
             }
            },
            "type": "scattercarpet"
           }
          ],
          "scattergeo": [
           {
            "marker": {
             "colorbar": {
              "outlinewidth": 1,
              "tickcolor": "rgb(36,36,36)",
              "ticks": "outside"
             }
            },
            "type": "scattergeo"
           }
          ],
          "scattergl": [
           {
            "marker": {
             "colorbar": {
              "outlinewidth": 1,
              "tickcolor": "rgb(36,36,36)",
              "ticks": "outside"
             }
            },
            "type": "scattergl"
           }
          ],
          "scattermap": [
           {
            "marker": {
             "colorbar": {
              "outlinewidth": 1,
              "tickcolor": "rgb(36,36,36)",
              "ticks": "outside"
             }
            },
            "type": "scattermap"
           }
          ],
          "scattermapbox": [
           {
            "marker": {
             "colorbar": {
              "outlinewidth": 1,
              "tickcolor": "rgb(36,36,36)",
              "ticks": "outside"
             }
            },
            "type": "scattermapbox"
           }
          ],
          "scatterpolar": [
           {
            "marker": {
             "colorbar": {
              "outlinewidth": 1,
              "tickcolor": "rgb(36,36,36)",
              "ticks": "outside"
             }
            },
            "type": "scatterpolar"
           }
          ],
          "scatterpolargl": [
           {
            "marker": {
             "colorbar": {
              "outlinewidth": 1,
              "tickcolor": "rgb(36,36,36)",
              "ticks": "outside"
             }
            },
            "type": "scatterpolargl"
           }
          ],
          "scatterternary": [
           {
            "marker": {
             "colorbar": {
              "outlinewidth": 1,
              "tickcolor": "rgb(36,36,36)",
              "ticks": "outside"
             }
            },
            "type": "scatterternary"
           }
          ],
          "surface": [
           {
            "colorbar": {
             "outlinewidth": 1,
             "tickcolor": "rgb(36,36,36)",
             "ticks": "outside"
            },
            "colorscale": [
             [
              0,
              "#440154"
             ],
             [
              0.1111111111111111,
              "#482878"
             ],
             [
              0.2222222222222222,
              "#3e4989"
             ],
             [
              0.3333333333333333,
              "#31688e"
             ],
             [
              0.4444444444444444,
              "#26828e"
             ],
             [
              0.5555555555555556,
              "#1f9e89"
             ],
             [
              0.6666666666666666,
              "#35b779"
             ],
             [
              0.7777777777777778,
              "#6ece58"
             ],
             [
              0.8888888888888888,
              "#b5de2b"
             ],
             [
              1,
              "#fde725"
             ]
            ],
            "type": "surface"
           }
          ],
          "table": [
           {
            "cells": {
             "fill": {
              "color": "rgb(237,237,237)"
             },
             "line": {
              "color": "white"
             }
            },
            "header": {
             "fill": {
              "color": "rgb(217,217,217)"
             },
             "line": {
              "color": "white"
             }
            },
            "type": "table"
           }
          ]
         },
         "layout": {
          "annotationdefaults": {
           "arrowhead": 0,
           "arrowwidth": 1
          },
          "autotypenumbers": "strict",
          "coloraxis": {
           "colorbar": {
            "outlinewidth": 1,
            "tickcolor": "rgb(36,36,36)",
            "ticks": "outside"
           }
          },
          "colorscale": {
           "diverging": [
            [
             0,
             "rgb(103,0,31)"
            ],
            [
             0.1,
             "rgb(178,24,43)"
            ],
            [
             0.2,
             "rgb(214,96,77)"
            ],
            [
             0.3,
             "rgb(244,165,130)"
            ],
            [
             0.4,
             "rgb(253,219,199)"
            ],
            [
             0.5,
             "rgb(247,247,247)"
            ],
            [
             0.6,
             "rgb(209,229,240)"
            ],
            [
             0.7,
             "rgb(146,197,222)"
            ],
            [
             0.8,
             "rgb(67,147,195)"
            ],
            [
             0.9,
             "rgb(33,102,172)"
            ],
            [
             1,
             "rgb(5,48,97)"
            ]
           ],
           "sequential": [
            [
             0,
             "#440154"
            ],
            [
             0.1111111111111111,
             "#482878"
            ],
            [
             0.2222222222222222,
             "#3e4989"
            ],
            [
             0.3333333333333333,
             "#31688e"
            ],
            [
             0.4444444444444444,
             "#26828e"
            ],
            [
             0.5555555555555556,
             "#1f9e89"
            ],
            [
             0.6666666666666666,
             "#35b779"
            ],
            [
             0.7777777777777778,
             "#6ece58"
            ],
            [
             0.8888888888888888,
             "#b5de2b"
            ],
            [
             1,
             "#fde725"
            ]
           ],
           "sequentialminus": [
            [
             0,
             "#440154"
            ],
            [
             0.1111111111111111,
             "#482878"
            ],
            [
             0.2222222222222222,
             "#3e4989"
            ],
            [
             0.3333333333333333,
             "#31688e"
            ],
            [
             0.4444444444444444,
             "#26828e"
            ],
            [
             0.5555555555555556,
             "#1f9e89"
            ],
            [
             0.6666666666666666,
             "#35b779"
            ],
            [
             0.7777777777777778,
             "#6ece58"
            ],
            [
             0.8888888888888888,
             "#b5de2b"
            ],
            [
             1,
             "#fde725"
            ]
           ]
          },
          "colorway": [
           "#1F77B4",
           "#FF7F0E",
           "#2CA02C",
           "#D62728",
           "#9467BD",
           "#8C564B",
           "#E377C2",
           "#7F7F7F",
           "#BCBD22",
           "#17BECF"
          ],
          "font": {
           "color": "rgb(36,36,36)"
          },
          "geo": {
           "bgcolor": "white",
           "lakecolor": "white",
           "landcolor": "white",
           "showlakes": true,
           "showland": true,
           "subunitcolor": "white"
          },
          "hoverlabel": {
           "align": "left"
          },
          "hovermode": "closest",
          "mapbox": {
           "style": "light"
          },
          "paper_bgcolor": "white",
          "plot_bgcolor": "white",
          "polar": {
           "angularaxis": {
            "gridcolor": "rgb(232,232,232)",
            "linecolor": "rgb(36,36,36)",
            "showgrid": false,
            "showline": true,
            "ticks": "outside"
           },
           "bgcolor": "white",
           "radialaxis": {
            "gridcolor": "rgb(232,232,232)",
            "linecolor": "rgb(36,36,36)",
            "showgrid": false,
            "showline": true,
            "ticks": "outside"
           }
          },
          "scene": {
           "xaxis": {
            "backgroundcolor": "white",
            "gridcolor": "rgb(232,232,232)",
            "gridwidth": 2,
            "linecolor": "rgb(36,36,36)",
            "showbackground": true,
            "showgrid": false,
            "showline": true,
            "ticks": "outside",
            "zeroline": false,
            "zerolinecolor": "rgb(36,36,36)"
           },
           "yaxis": {
            "backgroundcolor": "white",
            "gridcolor": "rgb(232,232,232)",
            "gridwidth": 2,
            "linecolor": "rgb(36,36,36)",
            "showbackground": true,
            "showgrid": false,
            "showline": true,
            "ticks": "outside",
            "zeroline": false,
            "zerolinecolor": "rgb(36,36,36)"
           },
           "zaxis": {
            "backgroundcolor": "white",
            "gridcolor": "rgb(232,232,232)",
            "gridwidth": 2,
            "linecolor": "rgb(36,36,36)",
            "showbackground": true,
            "showgrid": false,
            "showline": true,
            "ticks": "outside",
            "zeroline": false,
            "zerolinecolor": "rgb(36,36,36)"
           }
          },
          "shapedefaults": {
           "fillcolor": "black",
           "line": {
            "width": 0
           },
           "opacity": 0.3
          },
          "ternary": {
           "aaxis": {
            "gridcolor": "rgb(232,232,232)",
            "linecolor": "rgb(36,36,36)",
            "showgrid": false,
            "showline": true,
            "ticks": "outside"
           },
           "baxis": {
            "gridcolor": "rgb(232,232,232)",
            "linecolor": "rgb(36,36,36)",
            "showgrid": false,
            "showline": true,
            "ticks": "outside"
           },
           "bgcolor": "white",
           "caxis": {
            "gridcolor": "rgb(232,232,232)",
            "linecolor": "rgb(36,36,36)",
            "showgrid": false,
            "showline": true,
            "ticks": "outside"
           }
          },
          "title": {
           "x": 0.05
          },
          "xaxis": {
           "automargin": true,
           "gridcolor": "rgb(232,232,232)",
           "linecolor": "rgb(36,36,36)",
           "showgrid": false,
           "showline": true,
           "ticks": "outside",
           "title": {
            "standoff": 15
           },
           "zeroline": false,
           "zerolinecolor": "rgb(36,36,36)"
          },
          "yaxis": {
           "automargin": true,
           "gridcolor": "rgb(232,232,232)",
           "linecolor": "rgb(36,36,36)",
           "showgrid": false,
           "showline": true,
           "ticks": "outside",
           "title": {
            "standoff": 15
           },
           "zeroline": false,
           "zerolinecolor": "rgb(36,36,36)"
          }
         }
        },
        "title": {
         "font": {
          "color": "Black",
          "size": 22
         },
         "text": "<b>Intertopic Distance Map</b>",
         "x": 0.5,
         "xanchor": "center",
         "y": 0.95,
         "yanchor": "top"
        },
        "width": 650,
        "xaxis": {
         "anchor": "y",
         "domain": [
          0,
          1
         ],
         "range": [
          -1.2853049397468568,
          16.453324365615845
         ],
         "title": {
          "text": ""
         },
         "visible": false
        },
        "yaxis": {
         "anchor": "x",
         "domain": [
          0,
          1
         ],
         "range": [
          -7.608447909355164,
          14.648964214324952
         ],
         "title": {
          "text": ""
         },
         "visible": false
        }
       }
      }
     },
     "metadata": {},
     "output_type": "display_data"
    },
    {
     "name": "stderr",
     "output_type": "stream",
     "text": [
      "100%|██████████| 21/21 [00:00<00:00, 37.32it/s]\n",
      "22it [00:09,  2.37it/s]\n"
     ]
    },
    {
     "data": {
      "image/png": "[encoded data removed]",
      "text/plain": [
       "<Figure size 640x480 with 1 Axes>"
      ]
     },
     "metadata": {},
     "output_type": "display_data"
    },
    {
     "data": {
      "image/png": "[encoded data removed]",
      "text/plain": [
       "<Figure size 640x480 with 1 Axes>"
      ]
     },
     "metadata": {},
     "output_type": "display_data"
    }
   ],
   "source": [
    "# ====================================\n",
    "# 模块7: 结果可视化\n",
    "# 使用多种方法可视化主题建模结果\n",
    "# ====================================\n",
    "# 1. 条形图 - 显示前六个主题的关键词\n",
    "barchart = topic_model.visualize_barchart(top_n_topics = 6, n_words = 5, width = 400, title = \"\")\n",
    "barchart.show()\n",
    "\n",
    "# 2. 主题间关系图 - 展示主题之间的距离和关系\n",
    "topic_model.visualize_topics().show()\n",
    "\n",
    "# 3. 热力图 - 显示主题之间的相似度矩阵\n",
    "topic_model.visualize_heatmap(n_clusters = 7)\n",
    "\n",
    "# 4. 层次聚类 - 展示主题的层次结构\n",
    "hierarchical_topics = topic_model.hierarchical_topics(docs)\n",
    "topic_model.visualize_hierarchy(hierarchical_topics = hierarchical_topics)\n",
    "\n",
    "# 5. 文档嵌入可视化 - 展示文档在空间中的分布\n",
    "embeddings = embedding_model.encode(docs, show_progress_bar = False)\n",
    "topic_model.visualize_documents(docs, embeddings = embeddings)   \n",
    "topic_model.visualize_hierarchical_documents(docs, hierarchical_topics, embeddings = embeddings) \n",
    " \n",
    "# 6. 时间序列分析 - 展示主题随时间变化的趋势\n",
    "time = data_full.year.to_list() \n",
    "topics_over_time = topic_model.topics_over_time(docs, time)\n",
    "topic_model.visualize_topics_over_time(topics_over_time, topics = [0, 4, 5, 20])\n",
    "\n",
    "# 7. 主题相关性搜索 - 查找与特定关键词相关的主题\n",
    "# 函数：绘制关键词与主题的相似度网络图\n",
    "def draw_simil(keyword):\n",
    "    # 找出与关键词最相关的3个主题及其相似度\n",
    "    topicsF, similarity = topic_model.find_topics(keyword, top_n = 3)\n",
    "    # 构建网络图的节点\n",
    "    G = nx.DiGraph()\n",
    "    G.add_node(-1)\n",
    "    G.add_node(0)\n",
    "    G.add_node(1)\n",
    "    G.add_node(2)\n",
    "    node_labels = dict(enumerate(topicsF))\n",
    "    node_labels[-1] = keyword\n",
    "    scale = (len(keyword) + 12) * 0.032\n",
    "    x_offset = 0.25 * scale\n",
    "    y_offset = -.5\n",
    "    # 设置节点位置\n",
    "    pos = {\n",
    "        -1: (0, 0),\n",
    "        0: (-x_offset * scale, y_offset),\n",
    "        1: (0, y_offset),\n",
    "        2: (x_offset * scale, y_offset)\n",
    "    }\n",
    "    # 绘制节点\n",
    "    nx.draw(\n",
    "        G, pos = pos, labels = node_labels, with_labels = True, node_shape = \"s\", \n",
    "        bbox = dict(facecolor = \"lightgreen\", edgecolor = 'black', boxstyle = 'round,pad=0.5'))\n",
    "    \n",
    "    # 构建边的图形(用于改变边的位置)\n",
    "    H = nx.DiGraph()\n",
    "    for i, sim_val in enumerate(similarity):\n",
    "        H.add_edge(i + 3, i, label = round(sim_val, 2)) # 3->0, 4->1, 5->2\n",
    "    y_offset = -.48\n",
    "    # 设置边位置\n",
    "    pos = {\n",
    "        0: (-x_offset * scale, y_offset),\n",
    "        1: (0, y_offset),\n",
    "        2: (x_offset * scale, y_offset),\n",
    "        3: (-x_offset * scale, 0),\n",
    "        4: (0, 0),\n",
    "        5: (x_offset * scale, 0)\n",
    "    }\n",
    "    edge_labels = nx.get_edge_attributes(H, \"label\")\n",
    "    # 绘制边和标签\n",
    "    nx.draw_networkx(H, labels = {}, node_color = \"white\", arrows = True, pos = pos)\n",
    "    nx.draw_networkx_edge_labels(H, pos, edge_labels)\n",
    "    # 设置图形边距\n",
    "    plt.xlim(-1, 1)\n",
    "    plt.ylim(-1, 1)\n",
    "    ax = plt.gca()\n",
    "    ax.margins(0.20)\n",
    "    plt.axis(\"off\")\n",
    "    plt.show()\n",
    "\n",
    "# 分析两个关键词与主题的相关性\n",
    "draw_simil('internet addiction')\n",
    "draw_simil('burnout measures')\n"
   ]
  }
 ],
 "metadata": {
  "kernelspec": {
   "display_name": "bertopic-tut",
   "language": "python",
   "name": "python3"
  },
  "language_info": {
   "codemirror_mode": {
    "name": "ipython",
    "version": 3
   },
   "file_extension": ".py",
   "mimetype": "text/x-python",
   "name": "python",
   "nbconvert_exporter": "python",
   "pygments_lexer": "ipython3",
   "version": "3.10.16"
  }
 },
 "nbformat": 4,
 "nbformat_minor": 2
}
